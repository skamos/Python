{
 "cells": [
  {
   "cell_type": "code",
   "execution_count": 1,
   "metadata": {},
   "outputs": [],
   "source": [
    "import os\n",
    "import re\n",
    "# from os.path import isfile, join"
   ]
  },
  {
   "cell_type": "code",
   "execution_count": 2,
   "metadata": {},
   "outputs": [],
   "source": [
    "repO = 'C:/Users/Jayma/Documents/Jupyter notebook/LDDM/Origine/'\n",
    "repV = 'C:/Users/Jayma/Documents/Jupyter notebook/LDDM/Vanilla/'"
   ]
  },
  {
   "cell_type": "code",
   "execution_count": 18,
   "metadata": {},
   "outputs": [],
   "source": [
    "def lstNotes(folder, repV, repO):\n",
    "  if not os.path.exists(repV + folder + '/'):\n",
    "    os.makedirs(repV + folder + '/')\n",
    "  return [f for f in os.listdir(repO + folder + '/') if os.path.isfile(repO + folder + '/' + f)]\n",
    "\n",
    "def prosess(notes, folder, repV, repO):\n",
    "  for note in notes:\n",
    "    with open(repO + folder + '/' + note, 'r', encoding=\"utf-8\") as infile:\n",
    "      content = infile.read()\n",
    "    comm = re.search('### Commentaires', content)\n",
    "    if comm:\n",
    "      newContent = content[:comm.start()]\n",
    "      content = content[comm.end():]\n",
    "      if re.search('###', content):\n",
    "        newContent = newContent + '\\n' + content[re.search('###', content).start():]\n",
    "    else:\n",
    "      newContent = content\n",
    "    with open(repV + folder + '/' + note, 'w', encoding=\"utf-8\") as outfile:\n",
    "      outfile.write(newContent)"
   ]
  },
  {
   "cell_type": "markdown",
   "metadata": {},
   "source": [
    "# Episodes"
   ]
  },
  {
   "cell_type": "code",
   "execution_count": 23,
   "metadata": {
    "scrolled": true
   },
   "outputs": [],
   "source": [
    "for note in lstNotes('Episodes', repV, repO):\n",
    "  with open(repO + 'Episodes/' + note, 'r', encoding=\"utf-8\") as infile:\n",
    "    content = infile.read()\n",
    "  newContent = re.sub('#Ecouté', '', content)\n",
    "  with open(repV + 'Episodes/' + note, 'w', encoding=\"utf-8\") as outfile:\n",
    "    outfile.write(newContent)"
   ]
  },
  {
   "cell_type": "markdown",
   "metadata": {},
   "source": [
    "# Autres"
   ]
  },
  {
   "cell_type": "code",
   "execution_count": 22,
   "metadata": {},
   "outputs": [],
   "source": [
    "prosess(lstNotes('Jeux', repV, repO), 'Jeux', repV, repO)\n",
    "prosess(lstNotes('Artistes', repV, repO), 'Artistes', repV, repO)\n",
    "prosess(lstNotes('Studios', repV, repO), 'Studios', repV, repO)"
   ]
  }
 ],
 "metadata": {
  "kernelspec": {
   "display_name": "Python 3",
   "language": "python",
   "name": "python3"
  },
  "language_info": {
   "codemirror_mode": {
    "name": "ipython",
    "version": 3
   },
   "file_extension": ".py",
   "mimetype": "text/x-python",
   "name": "python",
   "nbconvert_exporter": "python",
   "pygments_lexer": "ipython3",
   "version": "3.8.5"
  }
 },
 "nbformat": 4,
 "nbformat_minor": 4
}
