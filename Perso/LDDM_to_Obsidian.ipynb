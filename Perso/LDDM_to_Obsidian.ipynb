{
 "cells": [
  {
   "cell_type": "code",
   "execution_count": 1,
   "metadata": {
    "id": "G72pG2KTTYiJ"
   },
   "outputs": [],
   "source": [
    "import os\n",
    "from IPython.display import clear_output\n",
    "import requests\n",
    "import re\n",
    "import json\n",
    "from bs4 import BeautifulSoup\n",
    "caracSpe = ''\n",
    "aRemplacer = r'[<>:\"/\\\\|?*#\\[\\]]'"
   ]
  },
  {
   "cell_type": "markdown",
   "metadata": {
    "id": "zg2tX-GfRwn_"
   },
   "source": [
    "## récupération des données"
   ]
  },
  {
   "cell_type": "code",
   "execution_count": 2,
   "metadata": {
    "colab": {
     "base_uri": "https://localhost:8080/"
    },
    "id": "UqUxqk_LZ9ZP",
    "outputId": "f28c5671-06e4-4b47-b67d-2ab7671341c3"
   },
   "outputs": [
    {
     "name": "stdout",
     "output_type": "stream",
     "text": [
      "liste pays ok\n"
     ]
    }
   ],
   "source": [
    "pays = {}\n",
    "rep = requests.get('https://emojiterra.com/fr/drapeaux-nationaux/')\n",
    "if rep.ok:\n",
    "  soup = BeautifulSoup(rep.text, 'lxml')\n",
    "  listePays = soup.find('div', class_='archive-child')\n",
    "  for a in listePays.findAll('a'):\n",
    "    pays[a.find('span').text.strip()] = a['title'][re.search(':', a['title']).end():].strip()\n",
    "else:\n",
    "  print(\"problème à la page \" + link)\n",
    "  print(rep)\n",
    "print('liste pays ok')"
   ]
  },
  {
   "cell_type": "markdown",
   "metadata": {
    "id": "4vn5qtlx9aOl"
   },
   "source": [
    "### Liste des Episodes"
   ]
  },
  {
   "cell_type": "code",
   "execution_count": 3,
   "metadata": {
    "colab": {
     "base_uri": "https://localhost:8080/"
    },
    "id": "uruwhbxKcdqp",
    "outputId": "ff8a907d-3f93-4dd6-cb75-471d7dc3be1e"
   },
   "outputs": [
    {
     "name": "stdout",
     "output_type": "stream",
     "text": [
      "liste lien episodes (linksEp) : Ok\n"
     ]
    }
   ],
   "source": [
    "linksEp = []\n",
    "for i in range(1,4):\n",
    "  url = \"https://lddm.psln.nl/podcast/show/03495e3e-7b43-4bd6-9c2b-92d3b0532132?page=\" + str(i)\n",
    "  rep = requests.get(url)\n",
    "  if rep.ok:\n",
    "    soup = BeautifulSoup(rep.text, 'lxml')\n",
    "    aList = soup.findAll('a', class_=\"list-group-item list-group-item-action d-flex justify-content-between align-items-center\")\n",
    "    for a in aList:\n",
    "      link = a['href']\n",
    "      linksEp.append(link)\n",
    "  else:\n",
    "    print(\"problème à la page \" + i)\n",
    "    print(rep)\n",
    "print(\"liste lien episodes (linksEp) : Ok\")"
   ]
  },
  {
   "cell_type": "code",
   "execution_count": 22,
   "metadata": {
    "colab": {
     "base_uri": "https://localhost:8080/"
    },
    "id": "hdoPObAIlYl5",
    "outputId": "86153aac-43e8-4d59-a765-ced19ca5bfef"
   },
   "outputs": [
    {
     "name": "stdout",
     "output_type": "stream",
     "text": [
      "87/87\n",
      "il manque 27 nom de jeu, 27date de jeu, et 27nom du studio.\n",
      "données des épisodes sauvegardé (Episodes.json)\n"
     ]
    }
   ],
   "source": [
    "episodes = {}\n",
    "boucle = 0\n",
    "ouManque = []\n",
    "manqueJeu = 0\n",
    "manqueDate = 0\n",
    "manqueStudio = 0\n",
    "for ep in linksEp:\n",
    "#for i in range(1):\n",
    "  #ep = 'https://lddm.psln.nl/episode/show/9e761534-1332-4b32-84a9-2d43d74fe38c'\n",
    "  rep = requests.get(ep)\n",
    "  if rep.ok:\n",
    "    soup = BeautifulSoup(rep.text, 'lxml')\n",
    "    titre = re.sub(aRemplacer, caracSpe, soup.find('h1', class_=\"card-title text-center\").text)\n",
    "    metadata = soup.findAll('li', class_=\"list-inline-item\")\n",
    "    nSaison = re.search(\"\\d+\",metadata[0].text).group()\n",
    "    nEpisode = re.search(\"\\d+\",metadata[1].text).group()\n",
    "    datePubli = re.search(\"\\S+\",metadata[2].text).group()\n",
    "    duree = re.search(\"\\S+\",metadata[3].text).group()\n",
    "    text = re.sub(r\"\\s+\", \" \", soup.find(\"p\", class_=\"p-4 text-justify\").text.strip())\n",
    "    trackList = soup.findAll(\"div\", class_=\"list-group list-group-flush\")\n",
    "    tracks = trackList[1].findAll(\"a\", class_=\"list-group-item list-group-item-action d-flex justify-content-between align-items-center\")\n",
    "    trackListe = []\n",
    "    for a in tracks:\n",
    "      track = {'link' : a['href'],\n",
    "              'name' : re.sub(aRemplacer, caracSpe, a.find('strong').text.strip()),\n",
    "              'index' : re.search(\"\\d+\",a.text).group(),\n",
    "               'reprise' : a.find('span', class_='badge badge-secondary badge-pill').text.strip() == 'Reprise'\n",
    "              }\n",
    "      repArt = requests.get(track['link'])\n",
    "      if repArt.ok:\n",
    "        track['artist'] = []\n",
    "        for art in BeautifulSoup(repArt.text, 'lxml').find('ol', class_='list-inline text-center').findAll('li', class_='list-inline-item'):\n",
    "          track['artist'].append(re.sub(aRemplacer, caracSpe, art.find('a').text.strip()))\n",
    "      else:\n",
    "        print(\"problème à la page \" + track['link'])\n",
    "        print(repArt)\n",
    "      if re.search(r\"\\,\\s+\\d{4}\\.\",a.text):\n",
    "        track['dateJeu'] = re.search(\"\\d{4}\",re.search(r\"\\,\\s+\\d{4}\\.\",a.text).group()).group()\n",
    "      else:\n",
    "        track['dateJeu'] = ''\n",
    "        manqueDate += 1\n",
    "        ouManque.append([track['name'], titre, ep])\n",
    "      if re.search('\\s+.+\\,\\s+<em>',str(a)):\n",
    "        track['studio'] = re.sub(aRemplacer, caracSpe, re.search('\\s.+', re.sub('\\s+', ' ', re.search('\\s+.+\\,\\s+<em>',str(a)).group()).strip()).group()[1:-6])\n",
    "      else:\n",
    "        track['studio'] = ''\n",
    "        manqueStudio += 1\n",
    "      if a.find('em'):\n",
    "        track['game'] = re.sub(aRemplacer, caracSpe, a.find('em').text.strip())\n",
    "      else:\n",
    "        track['game'] = ''\n",
    "        manqueJeu += 1\n",
    "      trackListe.append(track)\n",
    "    clear_output(wait=True)\n",
    "    boucle += 1\n",
    "    print(str(boucle) + '/87')\n",
    "    episode = {'titre' : titre,\n",
    "              'link' : ep,\n",
    "              'nSaison' : nSaison,\n",
    "              'nEpisode' : nEpisode,\n",
    "              'datePubli' : datePubli,\n",
    "              'duree' : duree,\n",
    "              'text' : text,\n",
    "              'trackListe' : trackListe\n",
    "              }\n",
    "    episodes[str(nEpisode)] = episode\n",
    "  else:\n",
    "    print(\"problème à la page \" + ep)\n",
    "    print(rep)\n",
    "with open('C:/Users/Jayma/Documents/Jupyter notebook/Json LDDM to Obsidian/Episodes.json', 'w') as outfile:\n",
    "    json.dump(episodes, outfile)\n",
    "print('il manque ' + str(manqueJeu) + ' nom de jeu, ' + str(manqueDate) + 'date de jeu, et ' + str(manqueStudio) + 'nom du studio.')\n",
    "print('données des épisodes sauvegardé (Episodes.json)')"
   ]
  },
  {
   "cell_type": "markdown",
   "metadata": {
    "id": "64VWOE-SR3wo"
   },
   "source": [
    "### Liste des Artistes"
   ]
  },
  {
   "cell_type": "code",
   "execution_count": 23,
   "metadata": {
    "colab": {
     "base_uri": "https://localhost:8080/"
    },
    "id": "Eepgod7Ut3m8",
    "outputId": "4e88212d-9e5a-47dc-b7f3-323bd30cef44"
   },
   "outputs": [
    {
     "name": "stdout",
     "output_type": "stream",
     "text": [
      "liste lien artistes (linksArt) : Ok\n"
     ]
    }
   ],
   "source": [
    "linksArt = []\n",
    "for i in range(1,55):\n",
    "  url = \"https://lddm.psln.nl/contact?page=\" + str(i)\n",
    "  rep = requests.get(url)\n",
    "  if rep.ok:\n",
    "    soup = BeautifulSoup(rep.text, 'lxml')\n",
    "    aList = soup.findAll('a', class_=\"list-group-item list-group-item-action d-flex justify-content-between align-items-center\")\n",
    "    aList = aList[2:]\n",
    "    for a in aList:\n",
    "      link = a['href']\n",
    "      linksArt.append(link)\n",
    "  else:\n",
    "    print(\"problème à la page \" + i)\n",
    "    print(rep)\n",
    "print(\"liste lien artistes (linksArt) : Ok\")"
   ]
  },
  {
   "cell_type": "code",
   "execution_count": 24,
   "metadata": {
    "colab": {
     "base_uri": "https://localhost:8080/"
    },
    "id": "i3L7LAVbuX44",
    "outputId": "150606ac-9c00-41fb-a66a-f2402cd6e75a"
   },
   "outputs": [
    {
     "name": "stdout",
     "output_type": "stream",
     "text": [
      "1601 /1601\n",
      "données des artistes sauvegardé (Artistes.json)\n"
     ]
    }
   ],
   "source": [
    "artistes = {}\n",
    "boucle = 0\n",
    "for link in linksArt:\n",
    "  rep = requests.get(link)\n",
    "  if rep.ok:\n",
    "    soup = BeautifulSoup(rep.text, 'lxml')\n",
    "    nomArt = re.sub(aRemplacer, caracSpe, soup.find('h1', class_=\"card-title text-center\").text).strip()\n",
    "    metadata = soup.findAll('li', class_=\"list-inline-item\")\n",
    "    nomNom = re.sub(r\"\\s+\", \" \", metadata[0].text.strip())\n",
    "    if not metadata[2].text.strip() == 'Lieu de travail inconnu':\n",
    "      nationalite = pays[metadata[2].text.strip()[:re.search('\\s', metadata[2].text.strip()).start()]]\n",
    "    else:\n",
    "      nationalite = ''\n",
    "    if re.search(\"\\d+\\/\\d+\\/\\d+\",metadata[3].text):\n",
    "      dateNaisance = re.search(\"\\d+\\/\\d+\\/\\d+\",metadata[3].text).group()\n",
    "    else:\n",
    "      dateNaisance = \"\"\n",
    "    if soup.find('i', class_=\"fas fa-mars\"):\n",
    "      sexe = soup.find('i', class_=\"fas fa-mars\")['title']\n",
    "    else:\n",
    "      sexe = \"\"\n",
    "    listes = soup.findAll(\"div\", class_=\"list-group list-group-flush\")\n",
    "    trackList = []\n",
    "    listNbr = 0\n",
    "    if soup.find('h2', class_='h5 card-header', text= 'Liste des pistes'):\n",
    "      listNbr = 1\n",
    "      tracks = listes[0].findAll(\"a\", class_=\"list-group-item list-group-item-action d-flex justify-content-between align-items-center\")\n",
    "      for a in tracks:\n",
    "        track = {'link' : re.sub(r\"\\/episode\\/\", \"\\/track\\/\", a['href']),\n",
    "                'name' : a.find('em').text.strip(),\n",
    "                'nameEp' : re.sub(aRemplacer, caracSpe, a.find('strong').text.strip()),\n",
    "                'indexEp' : re.search(\"\\d+\",a.text).group()\n",
    "                }\n",
    "        trackList.append(track)\n",
    "    sourceListe = []\n",
    "    if soup.find('h2', class_='h5 card-header', text='Liste des sources'):\n",
    "      sources = listes[listNbr].findAll(\"a\", class_=\"list-group-item list-group-item-action d-flex justify-content-between align-items-center\")\n",
    "      for a in sources:\n",
    "        source = {\n",
    "            'nom' : a.find('span').text.strip(),\n",
    "            'link' : a['href']\n",
    "        }\n",
    "        sourceListe.append(source)\n",
    "    artiste = {\n",
    "        'nomArt' : nomArt,\n",
    "        'link' : link,\n",
    "        'nomNom' : nomNom,\n",
    "        'nationalite' : nationalite,\n",
    "        'dateNaisance' : dateNaisance,\n",
    "        'sexe' : sexe,\n",
    "        'trackList' : trackList,\n",
    "        'sourceListe' : sourceListe\n",
    "        }\n",
    "    clear_output(wait=True)\n",
    "    boucle += 1\n",
    "    print(boucle, '/1601')\n",
    "    artistes[nomArt] = artiste\n",
    "  else:\n",
    "    print(\"problème à la page \" + link)\n",
    "    print(rep)\n",
    "\n",
    "\n",
    "with open('C:/Users/Jayma/Documents/Jupyter notebook/Json LDDM to Obsidian/Artistes.json', 'w') as outfile:\n",
    "    json.dump(artistes, outfile)\n",
    "print('données des artistes sauvegardé (Artistes.json)')"
   ]
  },
  {
   "cell_type": "markdown",
   "metadata": {
    "id": "DXrLfPNAtWHZ"
   },
   "source": [
    "### Liste des Jeux"
   ]
  },
  {
   "cell_type": "code",
   "execution_count": 25,
   "metadata": {
    "colab": {
     "base_uri": "https://localhost:8080/"
    },
    "id": "IoKi0EVJvBJ4",
    "outputId": "dc8f61c8-eb72-446f-e313-90a38869857e"
   },
   "outputs": [
    {
     "name": "stdout",
     "output_type": "stream",
     "text": [
      "liste lien jeux (linksGame) : Ok\n"
     ]
    }
   ],
   "source": [
    "linksGame = []\n",
    "for i in range(1,51):\n",
    "  url = \"https://lddm.psln.nl/game?page=\" + str(i)\n",
    "  rep = requests.get(url)\n",
    "  if rep.ok:\n",
    "    soup = BeautifulSoup(rep.text, 'lxml')\n",
    "    aList = soup.findAll('a', class_=\"list-group-item list-group-item-action d-flex justify-content-between align-items-center\")\n",
    "    aList = aList[2:]\n",
    "    for a in aList:\n",
    "      link = a['href']\n",
    "      linksGame.append(link)\n",
    "  else:\n",
    "    print(\"problème à la page \" + i)\n",
    "    print(rep)\n",
    "print(\"liste lien jeux (linksGame) : Ok\")"
   ]
  },
  {
   "cell_type": "code",
   "execution_count": 26,
   "metadata": {
    "colab": {
     "base_uri": "https://localhost:8080/"
    },
    "id": "4AlYzqUKupiq",
    "outputId": "e59560cb-4cae-4ae0-9ea9-db80ed275df3"
   },
   "outputs": [
    {
     "name": "stdout",
     "output_type": "stream",
     "text": [
      "1477 /1485\n",
      "données des jeux sauvegardé (Jeux.json)\n",
      "il y a 9 érreurs\n"
     ]
    }
   ],
   "source": [
    "jeux = {}\n",
    "jeuDoublon = []\n",
    "lienErreur = []\n",
    "paysManque = {}\n",
    "nErreur = 0\n",
    "boucle = 0\n",
    "for link in linksGame:\n",
    "#for i in range(2):\n",
    "  #link = linksGame[i]\n",
    "  rep = requests.get(link)\n",
    "  if rep.ok:\n",
    "    soup = BeautifulSoup(rep.text, 'lxml')\n",
    "    nomJeu = re.sub(aRemplacer, caracSpe, soup.find('h1', class_=\"card-title text-center\").text)\n",
    "    metadata = soup.findAll('ol', class_=\"list-inline text-center\")\n",
    "    if metadata[0].find('li').text.strip():\n",
    "      datePubli = metadata[0].find('li').text.strip()\n",
    "    else:\n",
    "      datePubli = \"\"\n",
    "    studio = re.sub(aRemplacer, caracSpe, metadata[1].text.strip())[re.search('\\s', re.sub(aRemplacer, caracSpe, metadata[1].text.strip())).end():].strip()\n",
    "    if re.sub(aRemplacer, caracSpe, metadata[1].text.strip())[:re.search('\\s', re.sub(aRemplacer, caracSpe, metadata[1].text.strip())).start()] in pays:\n",
    "      nat = pays[re.sub(aRemplacer, caracSpe, metadata[1].text.strip())[:re.search('\\s', re.sub(aRemplacer, caracSpe, metadata[1].text.strip())).start()]]\n",
    "    else:\n",
    "      paysManque[nomJeu] = re.sub(aRemplacer, caracSpe, metadata[1].text.strip())[:re.search('\\s', re.sub(aRemplacer, caracSpe, metadata[1].text.strip())).start()]\n",
    "    studioLink = metadata[1].find('a')['href']\n",
    "    modeJeu = []\n",
    "    for mode in metadata[2].findAll('li'):\n",
    "      modeJeu.append(mode.text.strip())\n",
    "    genres = []\n",
    "    for genre in metadata[3].findAll('li'):\n",
    "      genres.append(genre.text.strip())\n",
    "    consoles = []\n",
    "    for console in metadata[4].findAll('li'):\n",
    "      consoles.append(console.text.strip())\n",
    "    listes = soup.findAll(\"ul\", class_=\"list-group list-group-flush\")\n",
    "    trackList = []\n",
    "    listNbr = 0\n",
    "    if soup.find('h2', class_='h5 card-header', text= 'Liste des pistes'):\n",
    "      listNbr = 1\n",
    "      tracks = listes[0].findAll(\"a\", class_=\"list-group-item list-group-item-action d-flex justify-content-between align-items-center\")\n",
    "      for a in tracks:\n",
    "        track = {'link' : a['href'],\n",
    "                'name' : a.find('strong').text.strip(),\n",
    "                'indexEp' : re.search('\\d+', re.search(\"\\s{10}\\d{1,2}\\.\\s\",a.text).group()).group()\n",
    "                }\n",
    "        trackList.append(track)\n",
    "    sourceListe = []\n",
    "    if soup.find('h2', class_='h5 card-header', text='Liste des sources'):\n",
    "      sources = listes[listNbr].findAll(\"a\", class_=\"list-group-item list-group-item-action d-flex justify-content-between align-items-center\")\n",
    "      for a in sources:\n",
    "        source = {\n",
    "            'nom' : a.find('span').text.strip(),\n",
    "            'link' : a['href']\n",
    "        }\n",
    "        sourceListe.append(source)\n",
    "    jeu = {\n",
    "        'nomJeu' : nomJeu,\n",
    "        'link' : link,\n",
    "        'datePubli' : datePubli,\n",
    "        'studio' : studio,\n",
    "        'studioLink' : studioLink,\n",
    "        'nat' : nat,\n",
    "        'modeJeu' : modeJeu,\n",
    "        'genres' : genres,\n",
    "        'consoles' : consoles,\n",
    "        'trackList' : trackList,\n",
    "        'sourceListe' : sourceListe\n",
    "        }\n",
    "    clear_output(wait=True)\n",
    "    boucle += 1\n",
    "    print(boucle, '/1485')\n",
    "    if nomJeu in jeux.keys():\n",
    "      jeuDoublon.append(nomJeu)\n",
    "      jeu['nomJeu'] = nomJeu+ ' (2)'\n",
    "      jeux[nomJeu + '(2)'] = jeu\n",
    "    else:\n",
    "      jeux[nomJeu] = jeu\n",
    "  else:\n",
    "    nErreur += 1\n",
    "    lienErreur.append(link)\n",
    "    print(\"problème à la page \" + link)\n",
    "    print(rep)\n",
    "\n",
    "\n",
    "with open('C:/Users/Jayma/Documents/Jupyter notebook/Json LDDM to Obsidian/Jeux.json', 'w') as outfile:\n",
    "    json.dump(jeux, outfile)\n",
    "print('données des jeux sauvegardé (Jeux.json)')\n",
    "print('il y a ' + str(nErreur) + ' érreurs')\n",
    "jeuDoublon\n",
    "for jeu,paysJeu in paysManque.items():\n",
    "  print('dans '+ jeu+ ' le pays '+ paysJeu+ ' est chelou')"
   ]
  },
  {
   "cell_type": "code",
   "execution_count": null,
   "metadata": {
    "id": "8rCAea5gb51i"
   },
   "outputs": [],
   "source": [
    "with open('lienErreur.json', 'w') as outfile:\n",
    "    json.dump(lienErreur, outfile)\n",
    "print('données des lien d\\'Erreur sauvegardé (lienErreur.json)')"
   ]
  },
  {
   "cell_type": "markdown",
   "metadata": {
    "id": "EFmiTNLBWCw-"
   },
   "source": [
    "### Liste des Studios"
   ]
  },
  {
   "cell_type": "code",
   "execution_count": 28,
   "metadata": {
    "colab": {
     "base_uri": "https://localhost:8080/"
    },
    "id": "oAHjRbW6WHde",
    "outputId": "1885446c-ec46-4389-ed02-56f619bab708"
   },
   "outputs": [
    {
     "name": "stdout",
     "output_type": "stream",
     "text": [
      "liste lien studios (linksStudio) : Ok\n"
     ]
    }
   ],
   "source": [
    "linksStudio = []\n",
    "for i in range(1,26):\n",
    "  url = \"https://lddm.psln.nl/studio?page=\" + str(i)\n",
    "  rep = requests.get(url)\n",
    "  if rep.ok:\n",
    "    soup = BeautifulSoup(rep.text, 'lxml')\n",
    "    aList = soup.findAll('a', class_=\"list-group-item list-group-item-action d-flex justify-content-between align-items-center\")\n",
    "    aList = aList[2:]\n",
    "    for a in aList:\n",
    "      link = a['href']\n",
    "      linksStudio.append(link)\n",
    "  else:\n",
    "    print(\"problème à la page \" + i)\n",
    "    print(rep)\n",
    "print(\"liste lien studios (linksStudio) : Ok\")"
   ]
  },
  {
   "cell_type": "code",
   "execution_count": 29,
   "metadata": {
    "colab": {
     "base_uri": "https://localhost:8080/"
    },
    "id": "Gz3fD0bSeZ0T",
    "outputId": "c5741714-72d9-416c-85b0-de13663a1b63"
   },
   "outputs": [
    {
     "name": "stdout",
     "output_type": "stream",
     "text": [
      "735 /742\n",
      "données des studios sauvegardé (Studios.json)\n",
      "il y a 0 érreurs\n"
     ]
    }
   ],
   "source": [
    "studios = {}\n",
    "lienErreur = []\n",
    "nErreur = 0\n",
    "boucle = 0\n",
    "for link in linksStudio:\n",
    "#for i in range(2):\n",
    "  #link = linksStudio[i]\n",
    "  rep = requests.get(link)\n",
    "  if rep.ok:\n",
    "    soup = BeautifulSoup(rep.text, 'lxml')\n",
    "    nomStudio = re.sub(aRemplacer, caracSpe, soup.find('h1', class_=\"h5 card-header\").text).strip()[:-4].strip()\n",
    "    nat = pays[re.sub(aRemplacer, caracSpe, soup.find('h1', class_=\"h5 card-header\").text).strip()[-4:].strip()]\n",
    "    gameList = []\n",
    "    games = soup.findAll(\"a\", class_=\"list-group-item list-group-item-action d-flex justify-content-between align-items-center\")\n",
    "    for a in games:\n",
    "      game = {'link' : a['href'],\n",
    "              'name' : re.sub(aRemplacer, caracSpe, a.find('strong').text.strip())\n",
    "              }\n",
    "      gameList.append(game)\n",
    "    studio = {\n",
    "        'nomStudio' : nomStudio,\n",
    "        'nat' : nat,\n",
    "        'link' : link,\n",
    "        'gameList' : gameList\n",
    "        }\n",
    "    clear_output(wait=True)\n",
    "    boucle += 1\n",
    "    print(boucle, '/742')\n",
    "    studios[nomStudio] = studio\n",
    "  else:\n",
    "    nErreur += 1\n",
    "    lienErreur.append(link)\n",
    "    print(\"problème à la page \" + link)\n",
    "    print(rep)\n",
    "\n",
    "\n",
    "with open('C:/Users/Jayma/Documents/Jupyter notebook/Json LDDM to Obsidian/Studios.json', 'w') as outfile:\n",
    "    json.dump(studios, outfile)\n",
    "print('données des studios sauvegardé (Studios.json)')\n",
    "print('il y a ' + str(nErreur) + ' érreurs')"
   ]
  },
  {
   "cell_type": "markdown",
   "metadata": {
    "id": "csvRG5nx84vo"
   },
   "source": [
    "## Recomposition MarckDown"
   ]
  },
  {
   "cell_type": "code",
   "execution_count": 2,
   "metadata": {
    "id": "LbvAUJTgkZpq"
   },
   "outputs": [],
   "source": [
    "with open('C:/Users/Jayma/Documents/Jupyter notebook/Json LDDM to Obsidian/Episodes.json', 'r') as infile:\n",
    "  episodes = json.load(infile)\n",
    "with open('C:/Users/Jayma/Documents/Jupyter notebook/Json LDDM to Obsidian/Artistes.json', 'r') as infile:\n",
    "  artistes = json.load(infile)\n",
    "with open('C:/Users/Jayma/Documents/Jupyter notebook/Json LDDM to Obsidian/Jeux.json', 'r') as infile:\n",
    "  jeux = json.load(infile)\n",
    "with open('C:/Users/Jayma/Documents/Jupyter notebook/Json LDDM to Obsidian/Studios.json', 'r') as infile:\n",
    "  studios = json.load(infile)"
   ]
  },
  {
   "cell_type": "markdown",
   "metadata": {
    "id": "Pw_szAyc9WNa"
   },
   "source": [
    "### Note des Episodes"
   ]
  },
  {
   "cell_type": "code",
   "execution_count": 28,
   "metadata": {
    "colab": {
     "base_uri": "https://localhost:8080/"
    },
    "id": "8831x6UtWv4m",
    "outputId": "de67b8c1-e93d-415e-8600-77d0798c1e34"
   },
   "outputs": [
    {
     "name": "stdout",
     "output_type": "stream",
     "text": [
      "fini, tout sauvegardé dans le dossier Episodes\n"
     ]
    }
   ],
   "source": [
    "if not os.path.exists('C:/Users/Jayma/Documents/Jupyter notebook/Episodes'):\n",
    " os.makedirs('C:/Users/Jayma/Documents/Jupyter notebook/Episodes')\n",
    "for episode in episodes.values():\n",
    "  textTrack = []\n",
    "  for track in episode['trackListe']:\n",
    "    artist = []\n",
    "    for art in track['artist']:\n",
    "      artist.append('[[Artistes/' + art+ '|'+ art+ ']]')\n",
    "    textTrack.append(track['index'] + '. **' + track['name'] + '** - ' + ', '.join(artist) +('', ' *Reprise*')[track['reprise']]+ ('', '\\n**[[Jeux/' + track['game'] + '|'+ track['game']+ ']] -** *[[Studios/' + track['studio'] + '|'+ track['studio']+ ']] - ' + track['dateJeu'] + '*')[bool(track['game'])])\n",
    "  textRedige = (\n",
    "      '# ' + episode['titre'] + '\\n'\n",
    "      '##### **saison n°' + episode['nSaison'] + ' - episode n°' + episode['nEpisode'] + '**\\n'\n",
    "      '📆*' + episode['datePubli'] + '* - ⏱' + episode['duree'] + '\\n\\n'\n",
    "      + episode['text'] + '\\n![[LDDM'+ episode['nEpisode']+ '.mp3]]\\n'\n",
    "      '### TrackList\\n' +\n",
    "      '\\n\\n'.join(textTrack)\n",
    "  )\n",
    "  with open('C:/Users/Jayma/Documents/Jupyter notebook/Episodes/' + episode['nEpisode'] + '- ' + episode['titre'] + '.md', 'w', encoding='utf8') as outfile:\n",
    "    outfile.write(textRedige)\n",
    "print('fini, tout sauvegardé dans le dossier Episodes')"
   ]
  },
  {
   "cell_type": "markdown",
   "metadata": {
    "id": "VEfMsaGOO-H9"
   },
   "source": [
    "### Note des Artistes"
   ]
  },
  {
   "cell_type": "code",
   "execution_count": 29,
   "metadata": {
    "colab": {
     "base_uri": "https://localhost:8080/"
    },
    "id": "Id7pHer-Pvn-",
    "outputId": "adfaaa9c-c2e7-4ef6-f438-7df530c9a5e1"
   },
   "outputs": [
    {
     "name": "stdout",
     "output_type": "stream",
     "text": [
      "fini, tout sauvegardé dans le dossier Artistes\n"
     ]
    }
   ],
   "source": [
    "if not os.path.exists('C:/Users/Jayma/Documents/Jupyter notebook/Artistes'):\n",
    " os.makedirs('C:/Users/Jayma/Documents/Jupyter notebook/Artistes')\n",
    "for artiste in artistes.values():\n",
    "  textTrack = []\n",
    "  for trackArt in artiste['trackList']:\n",
    "    for trackEp in episodes[str(trackArt['indexEp'])]['trackListe']:\n",
    "      if trackArt['name'] == trackEp['name'] and artiste['nomArt'] in trackEp['artist']:\n",
    "        if trackEp['game']:\n",
    "          textTrack.append('- **'+ trackArt['name']+ '** - [[Episodes/'+ trackArt['indexEp']+ '- '+ trackArt['nameEp']+ '|'+ trackArt['indexEp']+ '- '+ trackArt['nameEp']+ ']]'+ ('',' *Reprise*')[trackEp['reprise']]+ '\\n**[[Jeux/'+ trackEp['game']+ '|'+ trackEp['game']+ ']] -** *[[Studios/'+ trackEp['studio']+ '|'+ trackEp['studio']+ ']] - '+ trackEp['dateJeu']+ '*')\n",
    "        else:\n",
    "          textTrack.append('- **'+ trackArt['name']+ '** - [[Episodes/'+ trackArt['indexEp']+ '- '+ trackArt['nameEp']+ '|'+ trackArt['indexEp']+ '- '+ trackArt['nameEp']+ ']]'+ ('',' *Reprise*')[trackEp['reprise']])\n",
    "        break\n",
    "  textSource = []\n",
    "  for source in artiste['sourceListe']:\n",
    "    textSource.append('- ['+ source['nom']+ ']('+ source['link']+ ')')\n",
    "  if artiste['sexe']:\n",
    "    if artiste['nomNom']:\n",
    "      nomSexe = '##### **' + artiste['nomNom'] + '** - ' + artiste['sexe']\n",
    "    else:\n",
    "      nomSexe = '##### ' + artiste['sexe']\n",
    "  else:\n",
    "    if artiste['nomNom']:\n",
    "      nomSexe = '##### **' + artiste['nomNom'] + '**'\n",
    "    else:\n",
    "      nomSexe = ''\n",
    "  if artiste['dateNaisance']:\n",
    "    naisance = '📆*' + artiste['dateNaisance'] + '*'\n",
    "  else:\n",
    "    naisance = ''\n",
    "  if artiste['nationalite']:\n",
    "    if artiste['dateNaisance']:\n",
    "      nat = ' - #N/' + re.sub('\\s', '_', artiste['nationalite'])\n",
    "    else:\n",
    "      nat = '#N/' + re.sub('\\s', '_', artiste['nationalite'])\n",
    "  else:\n",
    "    nat = ''\n",
    "  \n",
    "  textRedige = (\n",
    "      '# ' + artiste['nomArt'] + '\\n'\n",
    "      + nomSexe + '\\n' +\n",
    "      naisance + nat + '\\n\\n'+ ('', '\\n### TrackList\\n')[bool(textTrack)]+ \n",
    "      '\\n\\n'.join(textTrack)+ \n",
    "      ('', '\\n### Sources\\n')[bool(textSource)]+ \n",
    "      '\\n'.join(textSource)\n",
    "  )\n",
    "  with open('C:/Users/Jayma/Documents/Jupyter notebook/Artistes/' + artiste['nomArt'] + '.md', 'w', encoding='utf8') as outfile:\n",
    "    outfile.write(textRedige)\n",
    "print('fini, tout sauvegardé dans le dossier Artistes')"
   ]
  },
  {
   "cell_type": "code",
   "execution_count": 30,
   "metadata": {
    "id": "KOQ5ogggjDqh"
   },
   "outputs": [
    {
     "name": "stdout",
     "output_type": "stream",
     "text": [
      "sa marche avec : B.B. Rights\n",
      "sa marche avec : David S. Kates\n",
      "sa marche avec : Donald S. Griffin\n",
      "sa marche avec : G. Kill\n",
      "sa marche avec : Isak J. Martinsson\n",
      "sa marche avec : Kim M. Jensen\n",
      "sa marche avec : T. Ashley Jenkins\n",
      "sa marche avec : Tracy W. Bush\n",
      "fini\n",
      "['Rights', 'Kates', 'Griffin', 'Kill', 'Martinsson', 'Jensen', 'Ashley Jenkins', 'Bush']\n"
     ]
    }
   ],
   "source": [
    "artisteRelou = []\n",
    "nomArtRelou = []\n",
    "for artiste in artistes.keys():\n",
    "  if re.search('\\.\\s', artiste):\n",
    "    print('sa marche avec : '+ artiste)\n",
    "    artisteRelou.append(artiste)\n",
    "    nomArtRelou.append(artiste[re.search('\\. ', artiste).end():])\n",
    "print('fini')\n",
    "print(nomArtRelou)"
   ]
  },
  {
   "cell_type": "markdown",
   "metadata": {
    "id": "rz_CrFEyPC_1"
   },
   "source": [
    "### Notes des Jeux"
   ]
  },
  {
   "cell_type": "code",
   "execution_count": 21,
   "metadata": {
    "colab": {
     "base_uri": "https://localhost:8080/"
    },
    "id": "5mOzPjqRPf_t",
    "outputId": "3dfb60e9-bf67-4015-f66c-e8a192dd39cc"
   },
   "outputs": [
    {
     "name": "stdout",
     "output_type": "stream",
     "text": [
      "fini, tout sauvegardé dans le dossier Jeux\n"
     ]
    }
   ],
   "source": [
    "if not os.path.exists('C:/Users/Jayma/Documents/Jupyter notebook/Jeux'):\n",
    " os.makedirs('C:/Users/Jayma/Documents/Jupyter notebook/Jeux')\n",
    "for jeu in jeux.values():\n",
    "  textTrack = []\n",
    "  if bool(re.search('\\s\\(2\\)$', jeu['nomJeu'])):\n",
    "    jeutest = jeu['nomJeu'][:-4]\n",
    "  else:\n",
    "    jeutest = jeu['nomJeu']\n",
    "  for trackJeu in jeu['trackList']:\n",
    "    for trackEp in episodes[str(trackJeu['indexEp'])]['trackListe']:\n",
    "      if trackJeu['name'] == trackEp['name'] and jeutest == trackEp['game']:\n",
    "        artist = []\n",
    "        for art in trackEp['artist']:\n",
    "          artist.append('[[Artistes/'+ art+ '|'+ art+ ']]')\n",
    "        textTrack.append('- **'+ trackJeu['name']+ '** - '+ ', '.join(artist)+ ' / *[[Episodes/'+ trackJeu['indexEp']+ '- '+ episodes[str(trackJeu['indexEp'])]['titre']+ '|'+ trackJeu['indexEp']+ '- '+ episodes[str(trackJeu['indexEp'])]['titre']+ ']]*'+ ('', ' *Reprise*')[trackEp['reprise']])\n",
    "        break\n",
    "  if jeu['studio']:\n",
    "    if jeu['nat']:\n",
    "      if jeu['datePubli']:\n",
    "        SND = '##### **[[Studios/'+ jeu['studio']+ '|'+ jeu['studio']+ ']]** - #N/'+ re.sub('\\s', '_', jeu['nat'])+ ' - *'+ jeu['datePubli']+ '*'\n",
    "      else:\n",
    "        SND = '##### **[[Studios/'+ jeu['studio']+ '|'+ jeu['studio']+ ']]** - #N/'+ re.sub('\\s', '_', jeu['nat'])\n",
    "    else:\n",
    "      if jeu['datePubli']:\n",
    "        SND = '##### **[[Studios/'+ jeu['studio']+ '|'+ jeu['studio']+ ']]** - *'+ jeu['datePubli']+ '*'\n",
    "      else:\n",
    "        SND = '##### **[[Studios/'+ jeu['studio']+ '|'+ jeu['studio']+ ']]**'\n",
    "  else:\n",
    "    if jeu['nat']:\n",
    "      if jeu['datePubli']:\n",
    "        SND = '##### #N/'+ re.sub('\\s', '_', jeu['nat'])+ ' - *'+ jeu['datePubli']+ '*'\n",
    "      else:\n",
    "        SND = '##### #N/'+ re.sub('\\s', '_', jeu['nat'])\n",
    "    else:\n",
    "      if jeu['datePubli']:\n",
    "        SND = '##### *'+ jeu['datePubli']+ '*'\n",
    "      else:\n",
    "        SND = ''\n",
    "  modes = []\n",
    "  for mode in jeu['modeJeu']:\n",
    "    modes.append('#M/'+ re.sub('\\s', '_', mode))\n",
    "  genres = ''\n",
    "  for genre in jeu['genres']:\n",
    "    genres = genres+ '- #G/'+ re.sub('\\'', '', re.sub('\\s', '_', genre))+ '\\n'\n",
    "  consoles = ''\n",
    "  for console in jeu['consoles']:\n",
    "    consoles = consoles+ '- #C/'+ re.sub('/', '-', re.sub('\\s', '_', console))+ '\\n'\n",
    "  textRedige = (\n",
    "      '# ' + jeu['nomJeu'] +  '\\n'+\n",
    "      SND + '\\n'+ \n",
    "      ' - '.join(modes) + '\\n'\n",
    "      '###### Genres :\\n'+ \n",
    "      genres+ \n",
    "      '\\n###### Consoles :\\n'+ \n",
    "      consoles+ \n",
    "      '\\n### TrackList\\n' +\n",
    "      '\\n\\n'.join(textTrack)\n",
    "  )\n",
    "  with open('C:/Users/Jayma/Documents/Jupyter notebook/Jeux/' + jeu['nomJeu'] + '.md', 'w', encoding='utf8') as outfile:\n",
    "    outfile.write(textRedige)\n",
    "print('fini, tout sauvegardé dans le dossier Jeux')"
   ]
  },
  {
   "cell_type": "code",
   "execution_count": 17,
   "metadata": {},
   "outputs": [
    {
     "data": {
      "text/plain": [
       "'truccoqf'"
      ]
     },
     "execution_count": 17,
     "metadata": {},
     "output_type": "execute_result"
    }
   ],
   "source": [
    "textt = 'truccoqf (2)'\n",
    "textt[:-4]"
   ]
  },
  {
   "cell_type": "markdown",
   "metadata": {
    "id": "NSkO7kZaPHou"
   },
   "source": [
    "### Notes des Studios"
   ]
  },
  {
   "cell_type": "code",
   "execution_count": 36,
   "metadata": {
    "colab": {
     "base_uri": "https://localhost:8080/"
    },
    "id": "5GNsNHsyY6O3",
    "outputId": "292cb0bb-613e-4910-e3c5-e05d91795463"
   },
   "outputs": [
    {
     "name": "stdout",
     "output_type": "stream",
     "text": [
      "fini, tout sauvegardé dans le dossier Studios\n"
     ]
    }
   ],
   "source": [
    "if not os.path.exists('C:/Users/Jayma/Documents/Jupyter notebook/Studios'):\n",
    " os.makedirs('C:/Users/Jayma/Documents/Jupyter notebook/Studios')\n",
    "for studio in studios.values():\n",
    "  textJeux = []\n",
    "  for jeu in studio['gameList']:\n",
    "    artist = []\n",
    "    morceauJeu = {}\n",
    "    for morceau in jeux[jeu['name']]['trackList']:\n",
    "      morceauJeu[morceau['name']] = morceau['indexEp']\n",
    "    for morceauNom,ep in morceauJeu.items():\n",
    "      for track in episodes[ep]['trackListe']:\n",
    "        if track['name'] == morceauNom and studio['nomStudio'] == track['studio']:\n",
    "          for art in track['artist']:\n",
    "            if not ('[[Artistes/'+ art+ '|'+ art+ ']]' in artist or track['reprise']):\n",
    "              artist.append('[[Artistes/'+ art+ '|'+ art+ ']]')\n",
    "          break\n",
    "    textJeux.append('- **[[Jeux/'+ jeu['name'] + '|'+ jeu['name']+ ']]** - *' + jeux[jeu['name']]['datePubli'][-4:]+ '*\\n'+ ', '.join(artist))\n",
    "  textRedige = (\n",
    "      '# ' + studio['nomStudio'] + '\\n'\n",
    "      '##### #N/'+ re.sub('\\s', '_', studio['nat']) + '\\n\\n'\n",
    "      '### Liste de Jeux\\n' +\n",
    "      '\\n\\n'.join(textJeux)\n",
    "  )\n",
    "  with open('C:/Users/Jayma/Documents/Jupyter notebook/Studios/' + studio['nomStudio'] + '.md', 'w', encoding='utf8') as outfile:\n",
    "    outfile.write(textRedige)\n",
    "print('fini, tout sauvegardé dans le dossier Studios')"
   ]
  }
 ],
 "metadata": {
  "colab": {
   "collapsed_sections": [
    "4vn5qtlx9aOl",
    "DXrLfPNAtWHZ",
    "Pw_szAyc9WNa",
    "VEfMsaGOO-H9",
    "rz_CrFEyPC_1"
   ],
   "name": "LDDM to Obsidian.ipynb",
   "provenance": [],
   "toc_visible": true
  },
  "kernelspec": {
   "display_name": "Python 3",
   "language": "python",
   "name": "python3"
  },
  "language_info": {
   "codemirror_mode": {
    "name": "ipython",
    "version": 3
   },
   "file_extension": ".py",
   "mimetype": "text/x-python",
   "name": "python",
   "nbconvert_exporter": "python",
   "pygments_lexer": "ipython3",
   "version": "3.8.8"
  }
 },
 "nbformat": 4,
 "nbformat_minor": 4
}
