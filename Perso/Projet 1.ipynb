{
 "cells": [
  {
   "cell_type": "markdown",
   "metadata": {
    "id": "cOuFVU1T8SK5"
   },
   "source": [
    "# Netoyage des données"
   ]
  },
  {
   "cell_type": "code",
   "execution_count": 1,
   "metadata": {
    "id": "apnlT6jBXLHu"
   },
   "outputs": [],
   "source": [
    "import time\n",
    "import os\n",
    "import pandas as pd\n",
    "import numpy as np\n",
    "import seaborn as sns\n",
    "import matplotlib.pyplot as plt\n",
    "from IPython.display import clear_output\n",
    "from sklearn.model_selection import train_test_split"
   ]
  },
  {
   "cell_type": "code",
   "execution_count": 2,
   "metadata": {
    "id": "4ScOWU58XSWZ"
   },
   "outputs": [],
   "source": [
    "pd.set_option('display.max_columns', 184)\n",
    "pd.set_option('display.max_rows', 184)\n",
    "pd.set_option('display.min_rows', 100)\n",
    "pd.set_option('display.max_colwidth', 50)\n",
    "pd.set_option('display.max_seq_items', 184)\n",
    "pd.set_option('display.width', 50)"
   ]
  },
  {
   "cell_type": "code",
   "execution_count": 3,
   "metadata": {},
   "outputs": [],
   "source": [
    "class Chrono(object):  \n",
    "    def __init__(self):\n",
    "        self.start()\n",
    "    def start(self):  \n",
    "        if hasattr(self, 'interval'):  \n",
    "            del self.interval  \n",
    "        self.start_time = time.time()  \n",
    "  \n",
    "    def stop(self):  \n",
    "        if hasattr(self, 'start_time'):  \n",
    "            self.interval = time.time() - self.start_time  \n",
    "            del self.start_time # Force timer reinit  \n",
    "            print('{h}:%.3f temps passé'.format(h = int(self.interval//60)) % (self.interval%60))"
   ]
  },
  {
   "cell_type": "code",
   "execution_count": 5,
   "metadata": {
    "colab": {
     "base_uri": "https://localhost:8080/"
    },
    "id": "85zlHmPmXaAd",
    "outputId": "76369a7e-99f2-4d37-c326-d05f60b20c11"
   },
   "outputs": [
    {
     "name": "stderr",
     "output_type": "stream",
     "text": [
      "C:\\ProgramData\\Anaconda3\\lib\\site-packages\\IPython\\core\\interactiveshell.py:3146: DtypeWarning: Columns (0,12,18,19,20,21,22,26,27,28,30,51,63) have mixed types.Specify dtype option on import or set low_memory=False.\n",
      "  has_raised = await self.run_ast_nodes(code_ast.body, cell_name,\n"
     ]
    }
   ],
   "source": [
    "df = pd.read_csv(\"D:/Jayma/Machine Learning/data set/Projet 1/en.openfoodfacts.org.products.csv\", sep= \"\\t\")"
   ]
  },
  {
   "cell_type": "code",
   "execution_count": 6,
   "metadata": {
    "id": "7IbXeg2TZm5A"
   },
   "outputs": [],
   "source": [
    "df = df.drop_duplicates(subset='code')"
   ]
  },
  {
   "cell_type": "code",
   "execution_count": 7,
   "metadata": {
    "id": "ZSr9LsyNZnk-"
   },
   "outputs": [],
   "source": [
    "df = df.set_index('code')"
   ]
  },
  {
   "cell_type": "code",
   "execution_count": 8,
   "metadata": {
    "id": "m83Ls76oXoAH"
   },
   "outputs": [],
   "source": [
    "sampled_df = df.sample(frac = 0.01)"
   ]
  },
  {
   "cell_type": "code",
   "execution_count": 9,
   "metadata": {
    "id": "Rdt54Z2VXrXf"
   },
   "outputs": [],
   "source": [
    "sampled_df.to_csv('D:/Jayma/Machine Learning/data set/Projet 1/test_en.csv')"
   ]
  },
  {
   "cell_type": "code",
   "execution_count": 4,
   "metadata": {
    "colab": {
     "base_uri": "https://localhost:8080/"
    },
    "id": "paXKeODYs4vI",
    "outputId": "884b04b9-fb71-45b5-d962-c16f477fc7ab"
   },
   "outputs": [],
   "source": [
    "sampled_df = pd.read_csv(\"D:/Jayma/Machine Learning/data set/Projet 1/test_en.csv\")"
   ]
  },
  {
   "cell_type": "markdown",
   "metadata": {
    "id": "pxokxN9L8x-X"
   },
   "source": [
    "Pour avoir un visuel de la base de donnée."
   ]
  },
  {
   "cell_type": "code",
   "execution_count": null,
   "metadata": {
    "id": "RAi-RcgFX012"
   },
   "outputs": [],
   "source": [
    "plt.figure(figsize=(50,20))\n",
    "sns.heatmap(sampled_df.isna(), cbar=False)"
   ]
  },
  {
   "cell_type": "markdown",
   "metadata": {},
   "source": [
    "# Fonctions"
   ]
  },
  {
   "cell_type": "code",
   "execution_count": 5,
   "metadata": {},
   "outputs": [],
   "source": [
    "def netoyageCat(serie, seuil=20, new_val=\"Autre\", fillna=True):\n",
    "    mask_bool = serie.value_counts() < seuil\n",
    "    mask_autre = mask_bool.copy()\n",
    "    mask_autre[mask_bool] = new_val\n",
    "    serie = serie.replace(mask_autre[mask_bool])\n",
    "    if fillna:\n",
    "        serie.fillna(new_val, inplace=True)\n",
    "    return serie"
   ]
  },
  {
   "cell_type": "code",
   "execution_count": 6,
   "metadata": {},
   "outputs": [],
   "source": [
    "def multiOnehotTags(serie):\n",
    "    load=0\n",
    "    df_temp = pd.DataFrame()\n",
    "    for i in range(serie.shape[0]):\n",
    "        val = serie.loc[i]\n",
    "        if type(val) == str:\n",
    "            for r in range(val.count('en:')):\n",
    "                virgule = val.find(',')\n",
    "                if virgule == -1:\n",
    "                    df_temp.loc[i,val[3:]] = 1\n",
    "                else:\n",
    "                    df_temp.loc[i,val[3:virgule]] = 1\n",
    "                    val = val[virgule+1:]\n",
    "        else:\n",
    "            df_temp.loc[i,:] = 0\n",
    "        if load < i//1000:\n",
    "            load = i//1000\n",
    "            clear_output(wait=True)\n",
    "            print(i, '/', serie.shape[0], '(%.4f)' % (i/serie.shape[0]))\n",
    "    df_temp.fillna(0, inplace=True)\n",
    "    return df_temp"
   ]
  },
  {
   "cell_type": "code",
   "execution_count": 8,
   "metadata": {},
   "outputs": [],
   "source": [
    "def dropOnehot(df, seuil):\n",
    "    r=0\n",
    "    liste_drop = []\n",
    "    for i in range(df.shape[1]):\n",
    "        if df.iloc[:,i].value_counts()[1.0] < seuil:\n",
    "            liste_drop.append(df.columns[i])\n",
    "            r+=1\n",
    "    print(r,' colonnes ejecte dans ', df.shape[1] ,' colonnes')\n",
    "    return df.drop(liste_drop, axis=1)"
   ]
  },
  {
   "cell_type": "code",
   "execution_count": 7,
   "metadata": {},
   "outputs": [],
   "source": [
    "def Onehot(serie):\n",
    "    load=0\n",
    "    df_temp = pd.DataFrame()\n",
    "    for i in range(serie.shape[0]):\n",
    "        val = serie.loc[i]\n",
    "        if type(val) == str:\n",
    "            df_temp.loc[i,val] = 1\n",
    "        else:\n",
    "            df_temp.loc[i,:] = 0\n",
    "        if load < i//1000:\n",
    "            load = i//1000\n",
    "            clear_output(wait=True)\n",
    "            print(i, '/', serie.shape[0], '(%.4f)' % (i/serie.shape[0]))\n",
    "    df_temp.fillna(0, inplace=True)\n",
    "    return df_temp"
   ]
  },
  {
   "cell_type": "code",
   "execution_count": 9,
   "metadata": {},
   "outputs": [],
   "source": [
    "def listMainCat(serie, seuil=1, en=''):\n",
    "    serie_temp = pd.Series()\n",
    "    serie_values = serie.value_counts()\n",
    "    for i in range(serie_values.shape[0]):\n",
    "        val = serie_values.index[i]\n",
    "        for r in range(val.count(',')+1):\n",
    "            virgule = val.find(',')\n",
    "            if virgule == -1:\n",
    "                if val[len(en):] in serie_temp:\n",
    "                    serie_temp[val[len(en):]] += serie_values[i]\n",
    "                else:\n",
    "                    serie_temp[val[len(en):]] = serie_values[i]\n",
    "            else:\n",
    "                if val[len(en):virgule] in serie_temp:\n",
    "                    serie_temp[val[len(en):virgule]] += serie_values[i]\n",
    "                else:\n",
    "                    serie_temp[val[len(en):virgule]] = serie_values[i]\n",
    "                val = val[virgule+1:]\n",
    "    serie_temp.sort_values(ascending=False)\n",
    "    for i in range(serie_temp.shape[0]):\n",
    "        if serie_temp.iloc[i] < seuil:\n",
    "            serie_temp = serie_temp.iloc[0:i]\n",
    "            break\n",
    "    return serie_temp"
   ]
  },
  {
   "cell_type": "markdown",
   "metadata": {},
   "source": [
    "### analyse bivariée"
   ]
  },
  {
   "cell_type": "code",
   "execution_count": 10,
   "metadata": {},
   "outputs": [],
   "source": [
    "def coninTab(serieliste1, liste1, serieliste2, liste2, normalize=False):\n",
    "    reste = pd.Series()\n",
    "    df_cont = pd.DataFrame()\n",
    "    for i in range(liste1.shape[0]): # colonne\n",
    "        for r in range(liste2.shape[0]): # lignes\n",
    "            df_cont.loc[liste2.index[r], liste1.index[i]] = serieliste2[serieliste2.str.contains(liste2.index[r],na=False, regex=False) & serieliste1.str.contains(liste1.index[i],na=False, regex=False)].shape[0]\n",
    "        clear_output(wait=True)\n",
    "        print(i+1, '/', liste1.shape[0])\n",
    "        df_cont.loc['Le Reste',liste1.index[i]] = liste1[i] - df_cont[liste1.index[i]].sum()\n",
    "        if normalize:\n",
    "            df_cont = df_cont/df_cont[liste1.index[i]].sum()\n",
    "        df_cont.loc['Total',liste1.index[i]] = df_cont[liste1.index[i]].sum()\n",
    "        reste = serieliste1.str.contains(liste1.index[i],na=False, regex=False) | reste\n",
    "    for r in range(liste2.shape[0]):\n",
    "        df_cont.loc[liste2.index[r],'Le Reste'] = serieliste2[serieliste2.str.contains(liste2.index[r],na=False, regex=False) & ~reste].shape[0]\n",
    "    if normalize:\n",
    "        df_cont['Le Reste'] = df_cont['Le Reste']/df_cont['Le Reste'].sum()\n",
    "    df_cont['Total'] = df_cont.sum(axis=1)\n",
    "    if df_cont.loc['Le Reste'].sum() == 0:\n",
    "        df_cont.drop(['Le Reste'], axis=0, inplace=True)\n",
    "    if df_cont.loc[:,'Le Reste'].sum() == 0:\n",
    "        df_cont.drop(['Le Reste'], axis=1, inplace=True)\n",
    "    return df_cont"
   ]
  },
  {
   "cell_type": "markdown",
   "metadata": {},
   "source": [
    "### affichage bivariée"
   ]
  },
  {
   "cell_type": "code",
   "execution_count": 11,
   "metadata": {},
   "outputs": [],
   "source": [
    "def correspTav(serielisteC, liste1, serielisteR, liste2, annot=False):\n",
    "    cont = coninTab(serielisteC, liste1, serielisteR, liste2)\n",
    "    indep = cont.loc[:,[\"Total\"]].dot(cont.loc[[\"Total\"],:])/len(serielisteC)\n",
    "    measure = (cont-indep)**2/indep\n",
    "    xi_n = measure.sum().sum()\n",
    "    print(xi_n)\n",
    "    table = measure/xi_n\n",
    "    plt.figure(figsize=(.6*len(liste1),.6*len(liste2)))\n",
    "    if annot:\n",
    "        sns.heatmap(table.iloc[:-1,:-1], annot=cont.iloc[:-1,:-1], linewidths=.2)\n",
    "    else:\n",
    "        sns.heatmap(table.iloc[:-1,:-1], linewidths=.2)\n",
    "    plt.show()\n",
    "    return table, cont"
   ]
  },
  {
   "cell_type": "code",
   "execution_count": 12,
   "metadata": {},
   "outputs": [],
   "source": [
    "def listBarPlot(serie, serieliste, liste, n_plot=10, moy=False, Autre=False):\n",
    "    if liste.shape[0] < n_plot:\n",
    "        n_plot = liste.shape[0]\n",
    "    reste = pd.Series()\n",
    "    plt.figure(figsize=(30,7*((n_plot//4)+1)))\n",
    "    for i in range(n_plot):\n",
    "        plt.subplot((n_plot//4)+1, 4,i+1)\n",
    "        val_counts = serie[serieliste.str.contains(liste.index[i],na=False, regex=False)].value_counts()\n",
    "        if moy:\n",
    "            val_counts.plot.bar(title='{titre} (moyenne: {moy})'.format(titre = liste.index[i], moy = (val_counts.index * val_counts / val_counts.sum()).sum()))\n",
    "        else:\n",
    "            val_counts.plot.bar(title=liste.index[i])\n",
    "        reste = serieliste.str.contains(liste.index[i],na=False, regex=False) | reste\n",
    "        plt.legend()\n",
    "    if Autre:\n",
    "        plt.subplot((n_plot//4)+1, 4,i+2)\n",
    "        if moy:\n",
    "            serie[~reste].value_counts().plot.bar(title='Le Reste (moyenne: {moy})'.format(moy = (serie[~reste].value_counts().index * serie[~reste].value_counts() / serie[~reste].value_counts().sum()).sum()))\n",
    "        else:\n",
    "            serie[~reste].value_counts().plot.bar(title='Le Reste')\n",
    "        plt.legend()\n",
    "    plt.show()"
   ]
  },
  {
   "cell_type": "code",
   "execution_count": 13,
   "metadata": {},
   "outputs": [],
   "source": [
    "def biListBarPlot(serieliste1, liste1, serieliste2, liste2, n_plot=10, n_cat=10,Autre=False):\n",
    "    if liste2.shape[0] < n_plot:\n",
    "        n_plot = liste2.shape[0]\n",
    "    reste = pd.Series()\n",
    "    plt.figure(figsize=(40,7*((n_plot//4)+1)))\n",
    "    for i in range(n_plot):\n",
    "        plt.subplot((n_plot//4)+1, 4, i+1)\n",
    "        serie_sum = pd.Series()\n",
    "        for r in range(n_cat):\n",
    "            serie_sum[liste1.index[r]] = serieliste1[serieliste1.str.contains(liste1.index[r],na=False, regex=False) & serieliste2.str.contains(liste2.index[i],na=False, regex=False)].shape[0]\n",
    "        serie_sum['Le Reste'] = liste2[i] - serie_sum.sum()\n",
    "        serie_sum.plot.bar(title=liste2.index[i])\n",
    "        reste = serieliste2.str.contains(liste2.index[i],na=False, regex=False) | reste\n",
    "        plt.legend()\n",
    "    if Autre:\n",
    "        plt.subplot((n_plot//4)+1, 4,i+2)\n",
    "        serie_sum = pd.Series()\n",
    "        for r in range(n_cat):\n",
    "            serie_sum[liste1.index[r]] = serieliste1[serieliste1.str.contains(liste1.index[r],na=False, regex=False) & reste].shape[0]\n",
    "        serie_sum.plot.bar(title='Le Reste')\n",
    "        plt.legend()\n",
    "    plt.show()"
   ]
  },
  {
   "cell_type": "markdown",
   "metadata": {},
   "source": [
    "### dataframe de base"
   ]
  },
  {
   "cell_type": "code",
   "execution_count": 14,
   "metadata": {
    "id": "wUwP4ufPaf0t"
   },
   "outputs": [],
   "source": [
    "df_meta = sampled_df[['product_name', 'last_modified_t', 'additives_n', 'nutriscore_score',\n",
    "                      'nutriscore_grade', 'nova_group', 'energy_100g']]"
   ]
  },
  {
   "cell_type": "code",
   "execution_count": 15,
   "metadata": {},
   "outputs": [],
   "source": [
    "df_meta_cat = sampled_df[['pnns_groups_1', 'pnns_groups_2', 'brands_tags', 'manufacturing_places_tags', 'labels_tags', 'countries_tags', 'allergens', 'additives_tags', 'origins_tags']]"
   ]
  },
  {
   "cell_type": "code",
   "execution_count": 16,
   "metadata": {},
   "outputs": [
    {
     "name": "stderr",
     "output_type": "stream",
     "text": [
      "C:\\ProgramData\\Anaconda3\\lib\\site-packages\\pandas\\core\\series.py:4517: SettingWithCopyWarning: \n",
      "A value is trying to be set on a copy of a slice from a DataFrame\n",
      "\n",
      "See the caveats in the documentation: https://pandas.pydata.org/pandas-docs/stable/user_guide/indexing.html#returning-a-view-versus-a-copy\n",
      "  return super().fillna(\n"
     ]
    }
   ],
   "source": [
    "df_meta_cat['pnns_groups_1'].fillna('unknown',inplace=True)\n",
    "df_meta_cat['pnns_groups_2'].fillna('unknown',inplace=True)"
   ]
  },
  {
   "cell_type": "code",
   "execution_count": 17,
   "metadata": {},
   "outputs": [
    {
     "name": "stderr",
     "output_type": "stream",
     "text": [
      "C:\\ProgramData\\Anaconda3\\lib\\site-packages\\pandas\\core\\series.py:4563: SettingWithCopyWarning: \n",
      "A value is trying to be set on a copy of a slice from a DataFrame\n",
      "\n",
      "See the caveats in the documentation: https://pandas.pydata.org/pandas-docs/stable/user_guide/indexing.html#returning-a-view-versus-a-copy\n",
      "  return super().replace(\n"
     ]
    }
   ],
   "source": [
    "df_meta_cat['pnns_groups_1'].replace(['fruits-and-vegetables', 'sugary-snacks', 'cereals-and-potatoes'], \n",
    "                                        ['Fruits and vegetables', 'Sugary snacks', 'Cereals and potatoes'], inplace=True)\n",
    "df_meta_cat['pnns_groups_2'].replace(['Pizza pies and quiches', 'legumes', 'cereals', 'fruits', 'vegetables'], \n",
    "                                        ['Pizza pies and quiche', 'Legumes', 'Cereals', 'Fruits', 'Vegetables'], inplace=True)"
   ]
  },
  {
   "cell_type": "code",
   "execution_count": 18,
   "metadata": {
    "id": "1mpbKd7naT-a"
   },
   "outputs": [],
   "source": [
    "df_nutriments = sampled_df.drop(['url', 'creator', 'created_t', 'created_datetime', 'last_modified_t', 'last_modified_datetime', 'generic_name', 'quantity', 'packaging', 'packaging_tags', 'packaging_text', 'brands', 'categories', 'categories_tags', 'categories_en',\n",
    "                             'origins', 'origins_en', 'manufacturing_places', 'labels', 'labels_en', 'emb_codes', 'emb_codes_tags', 'first_packaging_code_geo', 'cities', 'cities_tags', 'purchase_places', 'stores', 'countries',\n",
    "                             'countries_en', 'ingredients_text', 'allergens_en', 'traces', 'traces_tags', 'traces_en', 'serving_size', 'serving_quantity', 'no_nutriments', 'additives', 'additives_en', 'ingredients_from_palm_oil_n', 'ingredients_from_palm_oil', \n",
    "                             'ingredients_from_palm_oil_tags', 'ingredients_that_may_be_from_palm_oil_n', 'ingredients_that_may_be_from_palm_oil', 'ingredients_that_may_be_from_palm_oil_tags', 'states', 'states_tags', 'states_en', 'brand_owner', 'main_category', \n",
    "                             'main_category_en', 'image_url', 'image_small_url', 'image_ingredients_url', 'image_ingredients_small_url', 'image_nutrition_url', 'image_nutrition_small_url', 'product_name', 'brands_tags', 'labels_tags', 'countries_tags', 'allergens',\n",
    "                             'additives_n', 'additives_tags', 'nutriscore_score', 'nutriscore_grade', 'nova_group', 'pnns_groups_1', 'pnns_groups_2', 'carbon-footprint_100g', 'carbon-footprint-from-meat-or-fish_100g', 'nutrition-score-fr_100g', 'nutrition-score-uk_100g'],axis=1)\n",
    "df_nutriments = df_nutriments.fillna(0)"
   ]
  },
  {
   "cell_type": "code",
   "execution_count": 19,
   "metadata": {
    "id": "K7Ya8AiDTpzH"
   },
   "outputs": [],
   "source": [
    "def trieCat(df, colone):\n",
    "    load=0\n",
    "    df_temp = pd.DataFrame()\n",
    "    for i in range(df.shape[0]):\n",
    "        val = df.loc[i,colone]\n",
    "        if type(val) == str:\n",
    "            for r in range(val.count('en:')):\n",
    "                virgule = val.find(',')\n",
    "                if virgule == -1:\n",
    "                    df_temp.loc[i,val[3:]] = 1\n",
    "                else:\n",
    "                    df_temp.loc[i,val[3:virgule]] = 1\n",
    "                    val = val[virgule+1:]\n",
    "\n",
    "        if load < i//1000:\n",
    "            load = i//1000\n",
    "            clear_output(wait=True)\n",
    "            print(i, '/', df.shape[0], '(%.4f)' % (i/df.shape[0]))\n",
    "    df_temp = df_temp.fillna(0)\n",
    "    return df_temp"
   ]
  },
  {
   "cell_type": "markdown",
   "metadata": {},
   "source": [
    "## Listes"
   ]
  },
  {
   "cell_type": "code",
   "execution_count": 25,
   "metadata": {},
   "outputs": [
    {
     "name": "stderr",
     "output_type": "stream",
     "text": [
      "<ipython-input-9-8504458445fd>:2: DeprecationWarning: The default dtype for empty Series will be 'object' instead of 'float64' in a future version. Specify a dtype explicitly to silence this warning.\n",
      "  serie_temp = pd.Series()\n"
     ]
    }
   ],
   "source": [
    "list_pnns1 = listMainCat(df_meta_cat['pnns_groups_1'])\n",
    "list_pnns2 = listMainCat(df_meta_cat['pnns_groups_2'])\n",
    "list_brands = listMainCat(df_meta_cat['brands_tags'], seuil=10)\n",
    "list_manufactur = listMainCat(df_meta_cat['manufacturing_places_tags'], seuil=10)"
   ]
  },
  {
   "cell_type": "code",
   "execution_count": 26,
   "metadata": {},
   "outputs": [
    {
     "name": "stderr",
     "output_type": "stream",
     "text": [
      "<ipython-input-9-8504458445fd>:2: DeprecationWarning: The default dtype for empty Series will be 'object' instead of 'float64' in a future version. Specify a dtype explicitly to silence this warning.\n",
      "  serie_temp = pd.Series()\n"
     ]
    }
   ],
   "source": [
    "list_labels = listMainCat(df_meta_cat['labels_tags'], seuil=10, en='en:')\n",
    "list_pays_vente = listMainCat(df_meta_cat['countries_tags'], seuil=10, en='en:')\n",
    "list_allergens = listMainCat(df_meta_cat['allergens'], seuil=10, en='en:')\n",
    "list_additives = listMainCat(df_meta_cat['additives_tags'], seuil=10, en='en:')\n",
    "list_origins = listMainCat(df_meta_cat['origins_tags'], seuil=10, en='en:')"
   ]
  },
  {
   "cell_type": "code",
   "execution_count": 22,
   "metadata": {},
   "outputs": [
    {
     "name": "stdout",
     "output_type": "stream",
     "text": [
      "pnns_groups_1 (10,)\n",
      "pnns_groups_2 (40,)\n",
      "brands_tags (2,)\n",
      "manufacturing_places_tags (1,)\n",
      "labels_tags (12,)\n",
      "countries_tags (9,)\n",
      "allergens (5,)\n",
      "additives_tags (15,)\n",
      "origins_tags (1,)\n"
     ]
    }
   ],
   "source": [
    "print('pnns_groups_1', list_pnns1.shape)\n",
    "print('pnns_groups_2', list_pnns2.shape)\n",
    "print('brands_tags', list_brands.shape)\n",
    "print('manufacturing_places_tags', list_manufactur.shape)\n",
    "print('labels_tags', list_labels.shape)\n",
    "print('countries_tags', list_pays_vente.shape)\n",
    "print('allergens', list_allergens.shape)\n",
    "print('additives_tags', list_additives.shape)\n",
    "print('origins_tags', list_origins.shape)"
   ]
  },
  {
   "cell_type": "code",
   "execution_count": 29,
   "metadata": {
    "scrolled": false
   },
   "outputs": [
    {
     "name": "stdout",
     "output_type": "stream",
     "text": [
      "10 / 10\n",
      "3468.013145157239\n"
     ]
    },
    {
     "data": {
      "image/png": "[encoded data removed]",
      "text/plain": [
       "<Figure size 432x3412.8 with 2 Axes>"
      ]
     },
     "metadata": {
      "needs_background": "light"
     },
     "output_type": "display_data"
    },
    {
     "name": "stdout",
     "output_type": "stream",
     "text": [
      "Wall time: 9.22 s\n"
     ]
    }
   ],
   "source": [
    "%%time\n",
    "truc, troc = correspTav(df_meta_cat['pnns_groups_1'], list_pnns1, df_meta_cat['brands_tags'], list_brands, annot=False)"
   ]
  },
  {
   "cell_type": "code",
   "execution_count": null,
   "metadata": {},
   "outputs": [],
   "source": []
  },
  {
   "cell_type": "code",
   "execution_count": null,
   "metadata": {},
   "outputs": [],
   "source": []
  },
  {
   "cell_type": "code",
   "execution_count": null,
   "metadata": {},
   "outputs": [],
   "source": []
  },
  {
   "cell_type": "code",
   "execution_count": null,
   "metadata": {},
   "outputs": [],
   "source": []
  },
  {
   "cell_type": "code",
   "execution_count": null,
   "metadata": {},
   "outputs": [],
   "source": []
  },
  {
   "cell_type": "code",
   "execution_count": 122,
   "metadata": {
    "colab": {
     "base_uri": "https://localhost:8080/"
    },
    "id": "7nGf-9GGkh8y",
    "outputId": "384ad7d6-cbbb-4542-d9a8-7b0417212e9f"
   },
   "outputs": [
    {
     "name": "stdout",
     "output_type": "stream",
     "text": [
      "10  pays ejecte dans  19  pays\n"
     ]
    }
   ],
   "source": [
    "r=0\n",
    "liste_drop = []\n",
    "for i in range(df_prov.shape[1]):\n",
    "  if df_prov.iloc[:,i].value_counts()[1.0] < 100:\n",
    "    liste_drop.append(df_prov.columns[i])\n",
    "    r+=1\n",
    "print(r,' pays ejecte dans ', df_prov.shape[1] ,' pays')"
   ]
  },
  {
   "cell_type": "code",
   "execution_count": 123,
   "metadata": {
    "id": "EdgQ5j8nnYka"
   },
   "outputs": [],
   "source": [
    "df_prov.drop(liste_drop ,axis=1, inplace=True)"
   ]
  },
  {
   "cell_type": "code",
   "execution_count": null,
   "metadata": {
    "colab": {
     "base_uri": "https://localhost:8080/"
    },
    "id": "u_qajmX4x4Ae",
    "outputId": "0d67dece-a23a-4fce-b729-a5534fb317d2"
   },
   "outputs": [
    {
     "data": {
      "text/plain": [
       "1    155512\n",
       "Name: brands_tags, dtype: int64"
      ]
     },
     "execution_count": 16,
     "metadata": {
      "tags": []
     },
     "output_type": "execute_result"
    }
   ],
   "source": [
    "test_brands = df_meta['brands_tags'].mask(df_meta['brands_tags'].value_counts() < 50, 1)\n",
    "test_brands.value_counts()"
   ]
  },
  {
   "cell_type": "code",
   "execution_count": null,
   "metadata": {
    "colab": {
     "base_uri": "https://localhost:8080/"
    },
    "id": "4OE78xc6bTFM",
    "outputId": "27ae34d0-3399-431d-8e1b-f6243a4631ac"
   },
   "outputs": [
    {
     "name": "stdout",
     "output_type": "stream",
     "text": [
      "france                                                 4576\n",
      "italie                                                  618\n",
      "deutschland                                             433\n",
      "belgique                                                346\n",
      "suisse                                                  340\n",
      "                                                       ... \n",
      "durfa-global-gmbh-co-kg,philippstr-27,d-52349-duren       1\n",
      "carl-kuhne-22761-hambourg-allemagne                       1\n",
      "42470-france                                              1\n",
      "67742-lauterecken                                         1\n",
      "ker-cadelac,tourc-h,bretagne,france                       1\n",
      "Name: manufacturing_places_tags, Length: 6170, dtype: int64\n",
      "True     0.933519\n",
      "False    0.066481\n",
      "Name: manufacturing_places_tags, dtype: float64\n"
     ]
    }
   ],
   "source": [
    "print(sampled_df['manufacturing_places_tags'].value_counts())\n",
    "print(sampled_df['manufacturing_places_tags'].isna().value_counts(normalize=True))"
   ]
  },
  {
   "cell_type": "markdown",
   "metadata": {
    "id": "kJ-C-oxuqGgt"
   },
   "source": [
    "# Première annalyse et graphiques"
   ]
  },
  {
   "cell_type": "code",
   "execution_count": null,
   "metadata": {
    "id": "KMCB_EgEqFxB"
   },
   "outputs": [],
   "source": [
    "import seaborn as sns"
   ]
  },
  {
   "cell_type": "code",
   "execution_count": null,
   "metadata": {
    "colab": {
     "base_uri": "https://localhost:8080/",
     "height": 357
    },
    "id": "dW4-_EkIsPdP",
    "outputId": "3b47f13f-3e1d-4726-f55e-1f7b45d84477"
   },
   "outputs": [
    {
     "data": {
      "text/plain": [
       "d    0.310282\n",
       "c    0.212756\n",
       "e    0.188593\n",
       "a    0.161809\n",
       "b    0.126560\n",
       "Name: nutriscore_grade, dtype: float64"
      ]
     },
     "execution_count": 19,
     "metadata": {
      "tags": []
     },
     "output_type": "execute_result"
    },
    {
     "data": {
      "image/png": "[encoded data removed]",
      "text/plain": [
       "<Figure size 432x288 with 1 Axes>"
      ]
     },
     "metadata": {
      "tags": []
     },
     "output_type": "display_data"
    }
   ],
   "source": [
    "df_meta['nutriscore_grade'].value_counts().plot.pie()\n",
    "df_meta['nutriscore_grade'].value_counts(normalize=True)"
   ]
  },
  {
   "cell_type": "code",
   "execution_count": null,
   "metadata": {
    "colab": {
     "base_uri": "https://localhost:8080/"
    },
    "id": "LtxUSlU-lSGC",
    "outputId": "0b9fdb95-c562-43a0-f41d-2a49b4448a77"
   },
   "outputs": [
    {
     "data": {
      "text/plain": [
       "(155512, 16)"
      ]
     },
     "execution_count": 24,
     "metadata": {
      "tags": []
     },
     "output_type": "execute_result"
    }
   ],
   "source": [
    "df_meta.shape"
   ]
  }
 ],
 "metadata": {
  "colab": {
   "collapsed_sections": [],
   "name": "Untitled",
   "provenance": []
  },
  "kernelspec": {
   "display_name": "Python 3",
   "language": "python",
   "name": "python3"
  },
  "language_info": {
   "codemirror_mode": {
    "name": "ipython",
    "version": 3
   },
   "file_extension": ".py",
   "mimetype": "text/x-python",
   "name": "python",
   "nbconvert_exporter": "python",
   "pygments_lexer": "ipython3",
   "version": "3.8.5"
  }
 },
 "nbformat": 4,
 "nbformat_minor": 1
}
