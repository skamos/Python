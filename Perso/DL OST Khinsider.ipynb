{
 "cells": [
  {
   "cell_type": "code",
   "execution_count": 1,
   "metadata": {},
   "outputs": [],
   "source": [
    "import os\n",
    "import requests\n",
    "import eyed3\n",
    "import re\n",
    "from bs4 import BeautifulSoup\n",
    "caracSpe = ' '\n",
    "aRemplacer = r'[<>:\"/\\\\|?*#\\[\\]]'"
   ]
  },
  {
   "cell_type": "code",
   "execution_count": 2,
   "metadata": {},
   "outputs": [],
   "source": [
    "# Les SuperVariables\n",
    "URL = 'https://downloads.khinsider.com/game-soundtracks/album/neotokyo'\n",
    "DOSSIER = 'NeoTokyo'"
   ]
  },
  {
   "cell_type": "code",
   "execution_count": 3,
   "metadata": {},
   "outputs": [
    {
     "name": "stdout",
     "output_type": "stream",
     "text": [
      "les liens enregistré dans links\n"
     ]
    }
   ],
   "source": [
    "rep = requests.get(URL)\n",
    "soup = BeautifulSoup(rep.text, 'lxml')\n",
    "if rep.ok:\n",
    "  tracklist = soup.find('table', id='songlist')\n",
    "  allA = tracklist.findAll('a')\n",
    "  links = []\n",
    "  for a in allA:\n",
    "    if not 'https://downloads.khinsider.com' + a['href'] in links:\n",
    "      links.append('https://downloads.khinsider.com' + a['href'])\n",
    "else:\n",
    "  print(\"problème à la page \" + URL)\n",
    "  print(rep)\n",
    "print('les liens enregistré dans links')"
   ]
  },
  {
   "cell_type": "code",
   "execution_count": 4,
   "metadata": {},
   "outputs": [
    {
     "name": "stdout",
     "output_type": "stream",
     "text": [
      "les liens des fichier audio sont dans tracks\n"
     ]
    }
   ],
   "source": [
    "tracks = []\n",
    "for link in links:\n",
    "  rep = requests.get(link)\n",
    "  soup = BeautifulSoup(rep.text, 'lxml')\n",
    "  if rep.ok:\n",
    "    tracks.append([soup.find('audio', id='audio')['src'], soup.find('div', id='EchoTopic').findAll('b')[-1].text.strip()])\n",
    "  else:\n",
    "    print(\"problème à la page \" + link)\n",
    "    print(rep)\n",
    "print('les liens des fichier audio sont dans tracks')"
   ]
  },
  {
   "cell_type": "code",
   "execution_count": 5,
   "metadata": {},
   "outputs": [
    {
     "name": "stdout",
     "output_type": "stream",
     "text": [
      "tout est téléchargé\n"
     ]
    }
   ],
   "source": [
    "if not os.path.exists('C:/Users/Jayma/Downloads/'+ DOSSIER):\n",
    "  os.makedirs('C:/Users/Jayma/Downloads/'+ DOSSIER)\n",
    "for track in tracks:\n",
    "  rep = requests.get(track[0])\n",
    "  if rep.ok:\n",
    "    with open('C:/Users/Jayma/Downloads/'+ DOSSIER+ '/'+ track[1]+ \".mp3\", 'wb') as f:\n",
    "      f.write(rep.content)\n",
    "    titre = eyed3.load('C:/Users/Jayma/Downloads/'+ DOSSIER+ '/'+ track[1]+ \".mp3\")\n",
    "    if bool(titre):\n",
    "      titre = re.sub(aRemplacer, caracSpe, titre.tag.title)\n",
    "      os.rename('C:/Users/Jayma/Downloads/'+ DOSSIER+ '/'+ track[1]+ \".mp3\",'C:/Users/Jayma/Downloads/'+ DOSSIER+ '/'+ titre+ '.mp3')\n",
    "    else:\n",
    "      print('les tags des titres sont inéxistant, a vérifier les tags')\n",
    "  else:\n",
    "    print(\"problème à la page \" + track)\n",
    "    print(rep)\n",
    "print('tout est téléchargé')"
   ]
  },
  {
   "cell_type": "code",
   "execution_count": null,
   "metadata": {},
   "outputs": [],
   "source": []
  }
 ],
 "metadata": {
  "kernelspec": {
   "display_name": "Python 3",
   "language": "python",
   "name": "python3"
  },
  "language_info": {
   "codemirror_mode": {
    "name": "ipython",
    "version": 3
   },
   "file_extension": ".py",
   "mimetype": "text/x-python",
   "name": "python",
   "nbconvert_exporter": "python",
   "pygments_lexer": "ipython3",
   "version": "3.8.8"
  }
 },
 "nbformat": 4,
 "nbformat_minor": 4
}
