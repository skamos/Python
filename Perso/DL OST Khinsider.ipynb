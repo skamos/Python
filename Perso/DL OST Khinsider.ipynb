{
 "cells": [
  {
   "cell_type": "code",
   "execution_count": 26,
   "metadata": {},
   "outputs": [],
   "source": [
    "import os\n",
    "import requests\n",
    "import eyed3\n",
    "import re\n",
    "from tqdm import tqdm\n",
    "from bs4 import BeautifulSoup\n",
    "caracSpe = ' '\n",
    "aRemplacer = r'[<>:\"/\\\\|?*#\\[\\]]'"
   ]
  },
  {
   "cell_type": "code",
   "execution_count": 44,
   "metadata": {},
   "outputs": [],
   "source": [
    "# Les SuperVariables\n",
    "URL = 'https://downloads.khinsider.com/game-soundtracks/album/crypt-of-the-necrodancer'\n",
    "DOSSIER = 'Crypt of the Necrodancer'"
   ]
  },
  {
   "cell_type": "code",
   "execution_count": 45,
   "metadata": {},
   "outputs": [
    {
     "name": "stdout",
     "output_type": "stream",
     "text": [
      "les liens enregistré dans links\n"
     ]
    }
   ],
   "source": [
    "rep = requests.get(URL)\n",
    "soup = BeautifulSoup(rep.text, 'lxml')\n",
    "if rep.ok:\n",
    "  tracklist = soup.find('table', id='songlist')\n",
    "  allA = tracklist.findAll('a')\n",
    "  links = []\n",
    "  for a in allA:\n",
    "    if not 'https://downloads.khinsider.com' + a['href'] in links:\n",
    "      links.append('https://downloads.khinsider.com' + a['href'])\n",
    "else:\n",
    "  print(\"problème à la page \" + URL)\n",
    "  print(rep)\n",
    "print('les liens enregistré dans links')"
   ]
  },
  {
   "cell_type": "code",
   "execution_count": 46,
   "metadata": {},
   "outputs": [
    {
     "name": "stderr",
     "output_type": "stream",
     "text": [
      "100%|██████████| 84/84 [00:55<00:00,  1.51it/s]"
     ]
    },
    {
     "name": "stdout",
     "output_type": "stream",
     "text": [
      "les liens des fichier audio sont dans tracks\n"
     ]
    },
    {
     "name": "stderr",
     "output_type": "stream",
     "text": [
      "\n"
     ]
    }
   ],
   "source": [
    "tracks = []\n",
    "for link in tqdm(links):\n",
    "  rep = requests.get(link)\n",
    "  soup = BeautifulSoup(rep.text, 'lxml')\n",
    "  if rep.ok:\n",
    "    tracks.append([soup.find('audio', id='audio')['src'], soup.find('div', id='EchoTopic').findAll('b')[-1].text.strip()])\n",
    "  else:\n",
    "    print(\"problème à la page \" + link)\n",
    "    print(rep)\n",
    "print('les liens des fichier audio sont dans tracks')"
   ]
  },
  {
   "cell_type": "code",
   "execution_count": 47,
   "metadata": {},
   "outputs": [
    {
     "name": "stderr",
     "output_type": "stream",
     "text": [
      "100%|██████████| 84/84 [11:29<00:00,  8.20s/it]"
     ]
    },
    {
     "name": "stdout",
     "output_type": "stream",
     "text": [
      "tout est téléchargé de Crypt of the Necrodancer\n"
     ]
    },
    {
     "name": "stderr",
     "output_type": "stream",
     "text": [
      "\n"
     ]
    }
   ],
   "source": [
    "if not os.path.exists('C:/Users/Jayma/Downloads/'+ DOSSIER):\n",
    "  os.makedirs('C:/Users/Jayma/Downloads/'+ DOSSIER)\n",
    "for track in tqdm(tracks):\n",
    "  rep = requests.get(track[0])\n",
    "  if rep.ok:\n",
    "    with open('C:/Users/Jayma/Downloads/'+ DOSSIER+ '/'+ track[1]+ \".mp3\", 'wb') as f:\n",
    "      f.write(rep.content)\n",
    "    titre = eyed3.load('C:/Users/Jayma/Downloads/'+ DOSSIER+ '/'+ track[1]+ \".mp3\")\n",
    "    if bool(titre.tag):\n",
    "      titre = re.sub(aRemplacer, caracSpe, titre.tag.title)\n",
    "      os.rename('C:/Users/Jayma/Downloads/'+ DOSSIER+ '/'+ track[1]+ \".mp3\",'C:/Users/Jayma/Downloads/'+ DOSSIER+ '/'+ titre+ '.mp3')\n",
    "    else:\n",
    "      print('les tags des titres sont inéxistant, vérifier les tags pour '+ track[1])\n",
    "  else:\n",
    "    print(\"problème à la page \" + track)\n",
    "    print(rep)\n",
    "print('tout est téléchargé de '+ DOSSIER)"
   ]
  },
  {
   "cell_type": "code",
   "execution_count": null,
   "metadata": {},
   "outputs": [],
   "source": []
  }
 ],
 "metadata": {
  "kernelspec": {
   "display_name": "Python 3",
   "language": "python",
   "name": "python3"
  },
  "language_info": {
   "codemirror_mode": {
    "name": "ipython",
    "version": 3
   },
   "file_extension": ".py",
   "mimetype": "text/x-python",
   "name": "python",
   "nbconvert_exporter": "python",
   "pygments_lexer": "ipython3",
   "version": "3.8.8"
  },
  "varInspector": {
   "cols": {
    "lenName": 16,
    "lenType": 16,
    "lenVar": 40
   },
   "kernels_config": {
    "python": {
     "delete_cmd_postfix": "",
     "delete_cmd_prefix": "del ",
     "library": "var_list.py",
     "varRefreshCmd": "print(var_dic_list())"
    },
    "r": {
     "delete_cmd_postfix": ") ",
     "delete_cmd_prefix": "rm(",
     "library": "var_list.r",
     "varRefreshCmd": "cat(var_dic_list()) "
    }
   },
   "types_to_exclude": [
    "module",
    "function",
    "builtin_function_or_method",
    "instance",
    "_Feature"
   ],
   "window_display": false
  }
 },
 "nbformat": 4,
 "nbformat_minor": 4
}
