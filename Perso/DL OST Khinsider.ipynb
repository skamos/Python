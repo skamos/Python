{
 "cells": [
  {
   "cell_type": "code",
   "execution_count": 66,
   "metadata": {},
   "outputs": [],
   "source": [
    "import os\n",
    "import requests\n",
    "import re\n",
    "from tqdm import tqdm\n",
    "from urllib.parse import unquote\n",
    "from bs4 import BeautifulSoup\n",
    "caracSpe = ' '\n",
    "aRemplacer = r'[<>:\"/\\\\|?*#\\[\\]]'"
   ]
  },
  {
   "cell_type": "code",
   "execution_count": 2,
   "metadata": {},
   "outputs": [],
   "source": [
    "# Les SuperVariables\n",
    "URL = 'https://downloads.khinsider.com/game-soundtracks/album/outer-wilds-original-soundtrack'\n",
    "DOSSIER = 'Outer Wilds'"
   ]
  },
  {
   "cell_type": "code",
   "execution_count": 3,
   "metadata": {},
   "outputs": [
    {
     "name": "stdout",
     "output_type": "stream",
     "text": [
      "les liens enregistré dans links\n"
     ]
    }
   ],
   "source": [
    "rep = requests.get(URL)\n",
    "soup = BeautifulSoup(rep.text, 'lxml')\n",
    "if rep.ok:\n",
    "  tracklist = soup.find('table', id='songlist')\n",
    "  allA = tracklist.findAll('a')\n",
    "  links = []\n",
    "  for a in allA:\n",
    "    if not 'https://downloads.khinsider.com' + a['href'] in links:\n",
    "      links.append('https://downloads.khinsider.com' + a['href'])\n",
    "else:\n",
    "  print(\"problème à la page \" + URL)\n",
    "  print(rep)\n",
    "print('les liens enregistré dans links')"
   ]
  },
  {
   "cell_type": "code",
   "execution_count": 71,
   "metadata": {},
   "outputs": [
    {
     "name": "stderr",
     "output_type": "stream",
     "text": [
      "100%|██████████| 28/28 [00:15<00:00,  1.86it/s]"
     ]
    },
    {
     "name": "stdout",
     "output_type": "stream",
     "text": [
      "les liens des fichier audio sont dans tracks\n"
     ]
    },
    {
     "name": "stderr",
     "output_type": "stream",
     "text": [
      "\n"
     ]
    }
   ],
   "source": [
    "tracks = []\n",
    "for link in tqdm(links):\n",
    "  rep = requests.get(link)\n",
    "  soup = BeautifulSoup(rep.text, 'lxml')\n",
    "  if rep.ok:\n",
    "    flac_url = False\n",
    "    mp3_url = False\n",
    "    for span in soup.findAll('span', class_='songDownloadLink'):\n",
    "      if 'FLAC' in span.text:\n",
    "        flac_url = span.parent['href']\n",
    "      if 'MP3' in span.text:\n",
    "        mp3_url = span.parent['href']\n",
    "    if flac_url:\n",
    "      tracks.append([flac_url, unquote(flac_url[re.search(r'\\/(?!.*\\/)', flac_url).end():])])\n",
    "    elif mp3_url:\n",
    "      tracks.append([mp3_url, unquote(mp3_url[re.search(r'\\/(?!.*\\/)', mp3_url).end():])])\n",
    "    else:\n",
    "      print('il n\\'y a ni MP3 ni FLAC pour ' + link)\n",
    "  else:\n",
    "    print(\"problème à la page \" + link)\n",
    "    print(rep)\n",
    "print('les liens des fichier audio sont dans tracks')"
   ]
  },
  {
   "cell_type": "code",
   "execution_count": 70,
   "metadata": {},
   "outputs": [
    {
     "name": "stderr",
     "output_type": "stream",
     "text": [
      "  4%|▎         | 1/28 [00:02<01:19,  2.93s/it]"
     ]
    },
    {
     "name": "stdout",
     "output_type": "stream",
     "text": [
      "doublon du fichier : 01. Timber Hearth.flac ajout de autre\n"
     ]
    },
    {
     "name": "stderr",
     "output_type": "stream",
     "text": [
      "100%|██████████| 28/28 [01:25<00:00,  3.06s/it]"
     ]
    },
    {
     "name": "stdout",
     "output_type": "stream",
     "text": [
      "tout est téléchargé de Outer Wilds\n"
     ]
    },
    {
     "name": "stderr",
     "output_type": "stream",
     "text": [
      "\n"
     ]
    }
   ],
   "source": [
    "if not os.path.exists('C:/Users/Jayma/Downloads/'+ DOSSIER):\n",
    "  os.makedirs('C:/Users/Jayma/Downloads/'+ DOSSIER)\n",
    "for track in tqdm(tracks):\n",
    "  rep = requests.get(track[0])\n",
    "  if rep.ok:\n",
    "    if track[1] in os.listdir('C:/Users/Jayma/Downloads/'+ DOSSIER):\n",
    "      print('doublon du fichier : ' + track[1] + ' ajout de autre')\n",
    "      track[1] = 'autre ' + track[1]\n",
    "    with open('C:/Users/Jayma/Downloads/'+ DOSSIER+ '/'+ track[1], 'wb') as f:\n",
    "      f.write(rep.content)\n",
    "  else:\n",
    "    print(\"problème à la page \" + track)\n",
    "    print(rep)\n",
    "print('tout est téléchargé de '+ DOSSIER)"
   ]
  },
  {
   "cell_type": "code",
   "execution_count": null,
   "metadata": {},
   "outputs": [],
   "source": []
  }
 ],
 "metadata": {
  "kernelspec": {
   "display_name": "Python 3",
   "language": "python",
   "name": "python3"
  },
  "language_info": {
   "codemirror_mode": {
    "name": "ipython",
    "version": 3
   },
   "file_extension": ".py",
   "mimetype": "text/x-python",
   "name": "python",
   "nbconvert_exporter": "python",
   "pygments_lexer": "ipython3",
   "version": "3.8.8"
  },
  "varInspector": {
   "cols": {
    "lenName": 16,
    "lenType": 16,
    "lenVar": 40
   },
   "kernels_config": {
    "python": {
     "delete_cmd_postfix": "",
     "delete_cmd_prefix": "del ",
     "library": "var_list.py",
     "varRefreshCmd": "print(var_dic_list())"
    },
    "r": {
     "delete_cmd_postfix": ") ",
     "delete_cmd_prefix": "rm(",
     "library": "var_list.r",
     "varRefreshCmd": "cat(var_dic_list()) "
    }
   },
   "types_to_exclude": [
    "module",
    "function",
    "builtin_function_or_method",
    "instance",
    "_Feature"
   ],
   "window_display": false
  }
 },
 "nbformat": 4,
 "nbformat_minor": 4
}
