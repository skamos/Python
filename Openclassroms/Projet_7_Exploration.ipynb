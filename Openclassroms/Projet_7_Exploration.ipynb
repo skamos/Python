{
 "cells": [
  {
   "cell_type": "markdown",
   "metadata": {},
   "source": [
    "## final code"
   ]
  },
  {
   "cell_type": "code",
   "execution_count": 55,
   "metadata": {},
   "outputs": [
    {
     "name": "stderr",
     "output_type": "stream",
     "text": [
      "Downloading: 100%|██████████| 843/843 [00:00<00:00, 211kB/s]\n",
      "Downloading: 100%|██████████| 1.18G/1.18G [01:05<00:00, 19.1MB/s]\n",
      "Some weights of Wav2Vec2ForCTC were not initialized from the model checkpoint at facebook/wav2vec2-large-960h and are newly initialized: ['wav2vec2.masked_spec_embed']\n",
      "You should probably TRAIN this model on a down-stream task to be able to use it for predictions and inference.\n",
      "Reusing dataset librispeech_asr (C:\\Users\\Jayma\\.cache\\huggingface\\datasets\\librispeech_asr\\clean\\2.1.0\\14c8bffddb861b4b3a4fcdff648a56980dbb808f3fc56f5a3d56b18ee88458eb)\n",
      "100%|██████████| 20/20 [02:57<00:00,  8.87s/it]\n"
     ]
    },
    {
     "data": {
      "text/plain": [
       "0.0021333333333333334"
      ]
     },
     "execution_count": 55,
     "metadata": {},
     "output_type": "execute_result"
    }
   ],
   "source": [
    "import numpy as np\n",
    "from tqdm import tqdm\n",
    "from transformers import Wav2Vec2Processor, Data2VecAudioForCTC, Wav2Vec2ForCTC\n",
    "from datasets import load_dataset\n",
    "import jiwer\n",
    "import torch\n",
    "\n",
    "# load model and processor\n",
    "processor = Wav2Vec2Processor.from_pretrained(\"facebook/data2vec-audio-large-960h\")\n",
    "mdl_data2vec = Data2VecAudioForCTC.from_pretrained(\"facebook/data2vec-audio-large-960h\")\n",
    "mdl_wav2vec = Wav2Vec2ForCTC.from_pretrained(\"facebook/wav2vec2-large-960h\")\n",
    "\n",
    "librispeech_eval = load_dataset(\"librispeech_asr\", \"clean\", split=\"test\")\n",
    "\n",
    "sample_test = sample(librispeech_eval['audio'], 20)\n",
    "\n",
    "X = []\n",
    "Y = []\n",
    "for ind in tqdm(np.random.randint(0, len(librispeech_eval['audio']), 20)):\n",
    "    X.append(librispeech_eval['audio'][ind]['array'])\n",
    "    Y.append(librispeech_eval['text'][ind])\n",
    "    \n",
    "input_values = processor(X, return_tensors=\"pt\", sampling_rate=16000, padding=\"longest\").input_values\n",
    "with torch.no_grad():\n",
    "    logits_data2vec = mdl_data2vec(input_values).logits\n",
    "    logits_wav2vec = mdl_wav2vec(input_values).logits\n",
    "    \n",
    "Y_pred = processor.batch_decode(torch.argmax(logits_data2vec, dim=-1))\n",
    "Y_base = processor.batch_decode(torch.argmax(logits_wav2vec, dim=-1))\n",
    "\n",
    "\n",
    "jiwer.wer(Y, Y_pred)\n",
    "jiwer.cer(Y, Y_pred)"
   ]
  },
  {
   "cell_type": "code",
   "execution_count": 57,
   "metadata": {},
   "outputs": [
    {
     "name": "stdout",
     "output_type": "stream",
     "text": [
      "WER baseline : 0.031, CER baseline 0.0096\n",
      "WER data2vec : 0.011, CER data2vec 0.0021\n"
     ]
    }
   ],
   "source": [
    "print(\"WER baseline : {:.2}, CER baseline {:.2}\".format(jiwer.wer(Y, Y_base), jiwer.cer(Y, Y_base)))\n",
    "print(\"WER data2vec : {:.2}, CER data2vec {:.2}\".format(jiwer.wer(Y, Y_pred), jiwer.cer(Y, Y_pred)))"
   ]
  }
 ],
 "metadata": {
  "kernelspec": {
   "display_name": "Python 3.8.8 ('base')",
   "language": "python",
   "name": "python3"
  },
  "language_info": {
   "codemirror_mode": {
    "name": "ipython",
    "version": 3
   },
   "file_extension": ".py",
   "mimetype": "text/x-python",
   "name": "python",
   "nbconvert_exporter": "python",
   "pygments_lexer": "ipython3",
   "version": "3.8.8"
  },
  "orig_nbformat": 4,
  "vscode": {
   "interpreter": {
    "hash": "ad2bdc8ecc057115af97d19610ffacc2b4e99fae6737bb82f5d7fb13d2f2c186"
   }
  }
 },
 "nbformat": 4,
 "nbformat_minor": 2
}
