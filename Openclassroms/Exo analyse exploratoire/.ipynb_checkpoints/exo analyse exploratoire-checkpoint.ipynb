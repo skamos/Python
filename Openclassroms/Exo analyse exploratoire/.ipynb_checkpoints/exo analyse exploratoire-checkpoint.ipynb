{
 "cells": [
  {
   "cell_type": "code",
   "execution_count": 8,
   "id": "ea14999f",
   "metadata": {},
   "outputs": [],
   "source": [
    "import pandas as pd\n",
    "from sklearn import decomposition, preprocessing\n",
    "import matplotlib.pyplot as plt\n",
    "import math\n",
    "import numpy as np"
   ]
  },
  {
   "cell_type": "code",
   "execution_count": 2,
   "id": "38b1f158",
   "metadata": {},
   "outputs": [],
   "source": [
    "df_my_cours = pd.read_csv(\"data/my_courses.csv\").set_index('titreCours').drop(['moyenneDeClasse', 'ratioQuizEvaluation'], 1)"
   ]
  },
  {
   "cell_type": "code",
   "execution_count": 3,
   "id": "3982223e",
   "metadata": {},
   "outputs": [],
   "source": [
    "df_my_cours = (df_my_cours-df_my_cours.mean())/df_my_cours.std()"
   ]
  },
  {
   "cell_type": "code",
   "execution_count": 4,
   "id": "8e32c2df",
   "metadata": {},
   "outputs": [],
   "source": [
    "X_skaled = preprocessing.StandardScaler().fit_transform(df_my_cours.values)\n",
    "pca = decomposition.PCA(n_components=8)\n",
    "X_projected = pca.fit_transform(X_skaled)\n",
    "df_proj = pd.DataFrame(X_projected, index=df_my_cours.index, columns=[\"F\"+str(i+1) for i in range(8)])/ math.sqrt(len(df_my_cours.columns))"
   ]
  },
  {
   "cell_type": "code",
   "execution_count": 5,
   "id": "cf047704",
   "metadata": {},
   "outputs": [],
   "source": [
    "df_merg = pd.concat([df_proj.iloc[:,:2], df_my_cours], axis=1)"
   ]
  },
  {
   "cell_type": "code",
   "execution_count": 6,
   "id": "a5715074",
   "metadata": {},
   "outputs": [],
   "source": [
    "collu = ['inscription', 'progression', 'duree', 'difficulte', 'nbChapitres', 'nbEvaluations', 'derniereMiseAJour', 'idCours']"
   ]
  },
  {
   "cell_type": "code",
   "execution_count": 9,
   "id": "d7fe02e0",
   "metadata": {
    "scrolled": true
   },
   "outputs": [],
   "source": [
    "corrcoef = np.zeros((2, 8))\n",
    "for i in range(len(corrcoef)):\n",
    "    for r in range(len(corrcoef[0])):\n",
    "        corrcoef[i][r] = df_proj.iloc[:,i].corr(df_my_cours.iloc[:,r])"
   ]
  },
  {
   "cell_type": "code",
   "execution_count": 10,
   "id": "fea221f5",
   "metadata": {},
   "outputs": [
    {
     "data": {
      "text/plain": [
       "<function matplotlib.pyplot.show(close=None, block=None)>"
      ]
     },
     "execution_count": 10,
     "metadata": {},
     "output_type": "execute_result"
    },
    {
     "data": {
      "image/png": "[encoded data removed]",
      "text/plain": [
       "<Figure size 432x288 with 1 Axes>"
      ]
     },
     "metadata": {
      "needs_background": "light"
     },
     "output_type": "display_data"
    }
   ],
   "source": [
    "plt.scatter(corrcoef[0], corrcoef[1])\n",
    "for i, label in enumerate(collu):\n",
    "    plt.text(corrcoef[0][i], corrcoef[1][i], label)\n",
    "plt.grid(which='major')\n",
    "plt.show"
   ]
  },
  {
   "cell_type": "code",
   "execution_count": 11,
   "id": "fbc5d0e4",
   "metadata": {},
   "outputs": [
    {
     "data": {
      "text/plain": [
       "<function matplotlib.pyplot.show(close=None, block=None)>"
      ]
     },
     "execution_count": 11,
     "metadata": {},
     "output_type": "execute_result"
    },
    {
     "data": {
      "image/png": "[encoded data removed]",
      "text/plain": [
       "<Figure size 432x288 with 1 Axes>"
      ]
     },
     "metadata": {
      "needs_background": "light"
     },
     "output_type": "display_data"
    }
   ],
   "source": [
    "plt.plot(df_proj['F1'],df_proj['F2'], 'bo')\n",
    "plt.show"
   ]
  }
 ],
 "metadata": {
  "kernelspec": {
   "display_name": "Python 3",
   "language": "python",
   "name": "python3"
  },
  "language_info": {
   "codemirror_mode": {
    "name": "ipython",
    "version": 3
   },
   "file_extension": ".py",
   "mimetype": "text/x-python",
   "name": "python",
   "nbconvert_exporter": "python",
   "pygments_lexer": "ipython3",
   "version": "3.8.8"
  },
  "varInspector": {
   "cols": {
    "lenName": 16,
    "lenType": 16,
    "lenVar": 40
   },
   "kernels_config": {
    "python": {
     "delete_cmd_postfix": "",
     "delete_cmd_prefix": "del ",
     "library": "var_list.py",
     "varRefreshCmd": "print(var_dic_list())"
    },
    "r": {
     "delete_cmd_postfix": ") ",
     "delete_cmd_prefix": "rm(",
     "library": "var_list.r",
     "varRefreshCmd": "cat(var_dic_list()) "
    }
   },
   "oldHeight": 238.65,
   "position": {
    "height": "40px",
    "left": "1113.2px",
    "right": "20px",
    "top": "120px",
    "width": "402.8px"
   },
   "types_to_exclude": [
    "module",
    "function",
    "builtin_function_or_method",
    "instance",
    "_Feature"
   ],
   "varInspector_section_display": "none",
   "window_display": true
  }
 },
 "nbformat": 4,
 "nbformat_minor": 5
}
