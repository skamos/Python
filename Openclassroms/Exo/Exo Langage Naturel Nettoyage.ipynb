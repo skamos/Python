{
 "cells": [
  {
   "cell_type": "code",
   "execution_count": 11,
   "metadata": {
    "collapsed": true
   },
   "outputs": [],
   "source": [
    "import nltk\n",
    "import os\n",
    "from tqdm import tqdm"
   ]
  },
  {
   "cell_type": "code",
   "execution_count": 13,
   "outputs": [],
   "source": [
    "path = 'data/questions/training/'\n",
    "files = os.listdir(path)"
   ],
   "metadata": {
    "collapsed": false,
    "pycharm": {
     "name": "#%%\n"
    }
   }
  },
  {
   "cell_type": "code",
   "execution_count": 15,
   "outputs": [
    {
     "name": "stderr",
     "output_type": "stream",
     "text": [
      "100%|██████████| 380298/380298 [03:05<00:00, 2055.39it/s]\n"
     ]
    }
   ],
   "source": [
    "\n",
    "questions = []\n",
    "for file in tqdm(files):\n",
    "    with open(path + file, 'r', encoding='utf8') as f:\n",
    "        questions.append(f.read())"
   ],
   "metadata": {
    "collapsed": false,
    "pycharm": {
     "name": "#%%\n"
    }
   }
  },
  {
   "cell_type": "code",
   "execution_count": 16,
   "outputs": [
    {
     "data": {
      "text/plain": "'http://web.archive.org/web/20150103125807id_/http://edition.cnn.com/2007/TRAVEL/getaways/12/24/offseason.europe/index.html\\n\\n( @entity0 ) -- each summer , @entity1 greets a stampede of sightseers and shoppers with eager cash registers . before jumping into the peak - season pig pile , consider the advantages of an off - season trip . major cities like @entity10 crackle with energy year - round . given the current weakness of our dollar overseas , the potential price - savings of an off - season trip are enough to brighten a gray winter day . airfares are often hundreds of dollars less . with fewer crowds in @entity1 , you \\'ll sleep cheaper . many fine hotels drop their prices , and budget hotels have plenty of vacancies . to save some money on hotels in the off - season , arrive late without a reservation , notice how many empty rooms they have ( look for keys on the rack ) , and give the receptionist an excuse to win your business with a deep discount . explain that you \\'re a senior ( hosteller , student , artist , whatever ) with a particular price limit , and bargain from there . note that while tourist - oriented places may be cheaper in the low season , the opposite is true of big - city business centers ( especially @entity47 and the @entity49 capitals ) , which are busiest and most expensive in the off - season . for many travelers , \" shoulder season \" -- april , may , early june , september and early october -- offers the best mix of peak - season and off - season pros and cons. in shoulder season you \\'ll enjoy decent weather , long days , fewer crowds and a local tourist industry that is still eager to please and entertain . outside of peak season , adventurers loiter all alone through @entity63 \\'s home , ponder un-pestered in @entity65 \\'s @entity64 , kick up sand on virgin beaches and chat with laid - back guards by log fires in @entity71 chateaux . in wintertime @entity72 you can be alone atop @entity74 bell tower , watching the clouds of your breath roll over the @entity78 domes of the church to a horizon of cut - glass @entity81 . below , on @entity83 , hungry pigeons fidget and wonder , \" where are the tourists ? \" without the crowds , you can enjoy step - right - up service at tourist offices and experience a more @entity1 . although many popular tourist - oriented parks , shows and tours will be closed , off - season is in - season for the high culture : plays and operas are in their crowd - pleasing glory . for instance , in @entity101 , while the @entity98 , @entity99 and @entity100 are scarce in the summer , all have a busy schedule of performances through the rest of the year . @entity1 \\'s major cities crackle with energy year - round . in @entity108 , you can spend your days at the @entity109 and @entity110 , and your nights at a cozy pub or a world - class play . in @entity10 -- the @entity10 that always sparkles -- you can get face - to - face with @entity117 and scale the @entity118 . in @entity119 , you \\'ll see @entity121 paintings and @entity122 without peak - season crowds . but winter travel has its drawbacks . because much of @entity1 is in @entity127 latitudes , the days are short . it \\'s dark by 5 p.m. the weather can be miserable -- cold , windy , and drizzly -- and then turn worse . but just as summer can be wet and gray , winter can be crisp and blue , and even into mid-november , hillsides blaze with colorful leaves . to thrive in the winter , you \\'ll need to get the most out of your limited daylight hours . start early and eat a quick lunch . pack for the cold and wet -- layers , rainproof parka , gloves , wool hat , long johns , waterproof shoes and an umbrella . use undershirts to limit the washing of slow - drying heavy shirts . dress warmly . cold weather is colder when you \\'re outdoors trying to enjoy yourself all day long . and cheap hotels are not always adequately heated in the off - season . off - season hours are limited . tourist information offices normally stay open year - round but have shorter hours in the winter . while most sights stay open through the winter , they typically operate on shorter schedules ( such as 10 a.m. to 5 p.m. rather than 9 a.m. to 7 p.m. ) , with darkness often determining the closing time . winter sightseeing is fine in big cities , which bustle year - round , but it \\'s more frustrating in small tourist towns , which often close down entirely . in december many beach resorts are shut up as tight as canned hams . while @entity1 \\'s wonderful outdoor evening ambience survives year - round in the south , wintertime streets are empty in the north after dark . english - language tours , common in the summer , are rare during the off - season , when most visitors are natives . another disadvantage of winter travel is loneliness . the solo traveler wo n\\'t have the built - in camaraderie of other travelers that he or she would find in peak season . still , this can be a plus , since it encourages you to really connect with the locals you traveled halfway around the world to meet . regardless of when you go , if your objective is to \" meet the people , \" you \\'ll find @entity1 filled with them 365 days a year . @entity192 writes @entity1 travel guidebooks and hosts travel shows on public television and public radio . e-mail him at @entity198 , or write to him c / o @entity199 2009 , @entity200 , @entity201 . 98020 . copyright 2007 @entity192 , @entity202 , @entity204 e-mail to a friend\\n\\n@entity192 produces 30 guidebooks on @placeholder travel\\n\\n@entity1\\n\\n@entity117:Mona\\n@entity81:Alps\\n@entity83:St. Mark \\'s Square\\n@entity110:National Gallery\\n@entity119:Florence\\n@entity118:Eiffel Tower\\n@entity1:European\\n@entity0:Tribune Media Services\\n@entity211:Europe Through the Back Door\\n@entity199:P.O. Box\\n@entity198:rick@ricksteves.com\\n@entity192:Rick Steves\\n@entity78:Byzantine\\n@entity74:St. Mark \\'s\\n@entity121:Renaissance\\n@entity71:French\\n@entity72:Venice\\n@entity10:City of Light\\n@entity127:Canadian\\n@entity100:Spanish Riding School\\n@entity101:Vienna\\n@entity99:Opera\\n@entity98:Boys Choir\\n@entity108:London\\n@entity202:DISTRIBUTED BY TRIBUNE MEDIA SERVICES\\n@entity201:Wash\\n@entity200:Edmonds\\n@entity122:Michelangelo \\'s David\\n@entity204:INC.\\n@entity49:Scandinavian\\n@entity47:Brussels\\n@entity64:Forum\\n@entity65:Rome\\n@entity63:Leonardo\\n@entity109:British Museum'"
     },
     "execution_count": 16,
     "metadata": {},
     "output_type": "execute_result"
    }
   ],
   "source": [
    "questions[0]\n"
   ],
   "metadata": {
    "collapsed": false,
    "pycharm": {
     "name": "#%%\n"
    }
   }
  }
 ],
 "metadata": {
  "kernelspec": {
   "display_name": "Python 3",
   "language": "python",
   "name": "python3"
  },
  "language_info": {
   "codemirror_mode": {
    "name": "ipython",
    "version": 2
   },
   "file_extension": ".py",
   "mimetype": "text/x-python",
   "name": "python",
   "nbconvert_exporter": "python",
   "pygments_lexer": "ipython2",
   "version": "2.7.6"
  }
 },
 "nbformat": 4,
 "nbformat_minor": 0
}