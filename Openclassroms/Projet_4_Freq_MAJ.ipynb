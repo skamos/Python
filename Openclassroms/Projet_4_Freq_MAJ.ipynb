{
 "cells": [
  {
   "cell_type": "code",
   "execution_count": 1,
   "id": "82aaf90b",
   "metadata": {},
   "outputs": [],
   "source": [
    "import numpy as np\n",
    "import scipy\n",
    "import pandas as pd\n",
    "import matplotlib.pyplot as plt\n",
    "import seaborn as sns\n",
    "import re\n",
    "import math"
   ]
  },
  {
   "cell_type": "code",
   "execution_count": 2,
   "id": "1962cfbb",
   "metadata": {},
   "outputs": [],
   "source": [
    "pd.set_option('display.max_columns', 100)\n",
    "pd.set_option('display.max_rows', 100)\n",
    "pd.set_option('display.min_rows', 50)\n",
    "pd.set_option('display.max_colwidth', 100)\n",
    "pd.set_option('display.max_seq_items', 50)\n",
    "pd.set_option('display.width', 100)"
   ]
  },
  {
   "cell_type": "code",
   "execution_count": 3,
   "id": "289fbc4a",
   "metadata": {},
   "outputs": [],
   "source": [
    "#chargement des base de données\n",
    "df_geolocation = pd.read_csv('Data/olist_geolocation_dataset.csv')\n",
    "df_orders = pd.read_csv('Data/olist_orders_dataset.csv')\n",
    "df_order_items = pd.read_csv('Data/olist_order_items_dataset.csv')\n",
    "df_order_reviews = pd.read_csv('Data/olist_order_reviews_dataset.csv')\n",
    "df_customers = pd.read_csv('Data/olist_customers_dataset.csv')\n",
    "df_order_payments = pd.read_csv('Data/olist_order_payments_dataset.csv')\n",
    "df_products = pd.read_csv('Data/olist_products_dataset.csv')\n",
    "df_sellers = pd.read_csv('Data/olist_sellers_dataset.csv')\n",
    "df_product_category_name = pd.read_csv('Data/product_category_name_translation.csv')"
   ]
  },
  {
   "cell_type": "markdown",
   "id": "4e82cd2c",
   "metadata": {},
   "source": [
    "## Fonctions"
   ]
  },
  {
   "cell_type": "code",
   "execution_count": 4,
   "id": "72225dd1",
   "metadata": {},
   "outputs": [],
   "source": [
    "def deg2rad(x):\n",
    "    return math.pi*x/180\n",
    "\n",
    "def get_distance_m(lat1, lng1, lat2, lng2):\n",
    "    earth_radius = 6378137   # Terre = sphère de 6378km de rayon\n",
    "    rlo1 = deg2rad(lng1)    # CONVERSION\n",
    "    rla1 = deg2rad(lat1)\n",
    "    rlo2 = deg2rad(lng2)\n",
    "    rla2 = deg2rad(lat2)\n",
    "    dlo = (rlo2 - rlo1) / 2\n",
    "    dla = (rla2 - rla1) / 2\n",
    "    a = (np.sin(dla) * np.sin(dla)) + np.cos(rla1) * np.cos(rla2) * (np.sin(dlo) * np.sin(dlo))\n",
    "    d = 2 * np.arctan2(np.sqrt(a), np.sqrt(1 - a))\n",
    "    return (earth_radius * d)"
   ]
  },
  {
   "cell_type": "markdown",
   "id": "7ef7897f",
   "metadata": {},
   "source": [
    "## Nettoyage de base"
   ]
  },
  {
   "cell_type": "code",
   "execution_count": 5,
   "id": "e3ea7a3f",
   "metadata": {},
   "outputs": [],
   "source": [
    "# prepare customers\n",
    "df_geolocation = df_geolocation.groupby(['geolocation_zip_code_prefix']).mean()\n",
    "df_customers = df_customers.merge(df_geolocation, left_on='customer_zip_code_prefix', right_on='geolocation_zip_code_prefix')\n",
    "\n",
    "# prépare order\n",
    "df_orders = df_orders.merge(df_customers[['customer_unique_id', 'customer_id']], on='customer_id')\n",
    "df_orders = df_orders.merge(df_order_reviews, on='order_id', how='left')\n",
    "# keep only last review if multiple\n",
    "df_orders = df_orders.sort_values(by='review_answer_timestamp').drop_duplicates(subset=['order_id'], keep='last')\n",
    "\n",
    "for i in df_order_payments.index:\n",
    "    df_order_payments.loc[i,df_order_payments.loc[i,'payment_type']] = df_order_payments.loc[i,'payment_value']\n",
    "df_order_payments = df_order_payments.join(pd.get_dummies(df_order_payments['payment_type']), rsuffix=\"_bin\")\n",
    "df_order_payments.fillna(0, inplace=True)\n",
    "df_payment = pd.DataFrame({'order_id' : df_order_payments['order_id'].value_counts().index, 'number_of_payment' : df_order_payments['order_id'].value_counts()})\n",
    "df_payment = df_payment.merge(df_order_payments[['order_id', 'payment_value', 'boleto', 'credit_card', 'debit_card', 'not_defined', 'voucher', 'boleto_bin', 'credit_card_bin', 'debit_card_bin', 'not_defined_bin', 'voucher_bin']].groupby('order_id').sum(), on='order_id')\n",
    "df_orders = df_orders.merge(df_payment, on='order_id')\n",
    "\n",
    "# prépare order items\n",
    "df_sellers = df_sellers.merge(df_geolocation, left_on='seller_zip_code_prefix', right_on='geolocation_zip_code_prefix', how='left')\n",
    "df_products = df_products.merge(df_product_category_name, on='product_category_name', how='left')\n",
    "df_order_items = df_order_items.merge(df_sellers, on='seller_id', how='left')\n",
    "df_order_items = df_order_items.merge(df_products, on='product_id', how='left')\n",
    "df_order_items = df_order_items.merge(df_orders[['order_id', 'customer_unique_id']], on='order_id')"
   ]
  },
  {
   "cell_type": "code",
   "execution_count": 6,
   "id": "97afa4fe",
   "metadata": {},
   "outputs": [],
   "source": [
    "# prosessing on df_customers\n",
    "df_customers['customer_city'] = df_customers['customer_city'].str.title()\n",
    "\n",
    "# prosessing on df_orders\n",
    "date_columns = ['order_purchase_timestamp', 'order_approved_at', 'order_delivered_carrier_date', 'order_delivered_customer_date', 'order_estimated_delivery_date', 'review_creation_date', 'review_answer_timestamp']\n",
    "for col in date_columns:\n",
    "    df_orders[col] = pd.to_datetime(df_orders[col], format='%Y-%m-%d %H:%M:%S')\n",
    "\n",
    "\n",
    "df_orders['order_status'] = df_orders['order_status'].str.title()\n",
    "# Engineering new/essential columns\n",
    "df_orders['order_purchase_year'] = df_orders.order_purchase_timestamp.apply(lambda x: x.year)\n",
    "df_orders['order_purchase_month'] = df_orders.order_purchase_timestamp.apply(lambda x: x.month)\n",
    "df_orders['order_purchase_dayofweek'] = df_orders.order_purchase_timestamp.apply(lambda x: x.dayofweek)\n",
    "df_orders['order_purchase_hour'] = df_orders.order_purchase_timestamp.apply(lambda x: x.hour)\n",
    "df_orders['order_purchase_day'] = df_orders['order_purchase_dayofweek'].map({0:'Mon',1:'Tue',2:'Wed',3:'Thu',4:'Fri',5:'Sat',6:'Sun'})\n",
    "df_orders['order_purchase_mon'] = df_orders.order_purchase_timestamp.apply(lambda x: x.month).map({1:'Jan',2:'Feb',3:'Mar',4:'Apr',5:'May',6:'Jun',7:'Jul',8:'Aug',9:'Sep',10:'Oct',11:'Nov',12:'Dec'})\n"
   ]
  },
  {
   "cell_type": "code",
   "execution_count": 7,
   "id": "09a3b901",
   "metadata": {},
   "outputs": [],
   "source": [
    "# Extracting attributes for purchase date - Time of the Day\n",
    "hours_bins = [-0.1, 6, 12, 18, 23]\n",
    "hours_labels = ['Dawn', 'Morning', 'Afternoon', 'Night']\n",
    "df_orders['order_purchase_time_day'] = pd.cut(df_orders['order_purchase_hour'], hours_bins, labels=hours_labels)\n",
    "\n",
    "# Changing the month attribute for correct ordenation\n",
    "df_orders['month_year'] = df_orders['order_purchase_month'].astype(str).apply(lambda x: '0' + x if len(x) == 1 else x)\n",
    "df_orders['month_year'] = df_orders['order_purchase_year'].astype(str) + '-' + df_orders['month_year'].astype(str)\n",
    "# Creating year month column\n",
    "df_orders['month_y'] = df_orders['order_purchase_timestamp'].map(lambda date: 100*date.year + date.month)\n",
    "\n",
    "# prosessing on df_order_items\n",
    "df_order_items['seller_city'] = df_order_items['seller_city'].str.title()\n",
    "df_order_items['product_category_name'] = df_order_items['product_category_name'].str.replace('_', ' ').str.title()\n",
    "df_order_items['product_category_name_english'] = df_order_items['product_category_name_english'].str.replace('_', ' ').str.title()\n",
    "df_order_items['nbItems'] = 1\n",
    "\n",
    "df_order_items = df_order_items.merge(df_customers[['customer_unique_id', 'geolocation_lat', 'geolocation_lng']], on=\"customer_unique_id\", suffixes=('_seller', '_customer'))\n",
    "df_order_items['euclidean_distance'] = math.pi*np.sqrt(((df_order_items['geolocation_lat_seller']-df_order_items['geolocation_lat_customer'])**2+(df_order_items['geolocation_lng_seller']-df_order_items['geolocation_lng_customer'])**2))/180 * 6378137\n",
    "df_order_items['orthodromique_distance'] = get_distance_m(df_order_items['geolocation_lat_seller'], df_order_items['geolocation_lng_seller'], df_order_items['geolocation_lat_customer'], df_order_items['geolocation_lng_customer'])\n",
    "df_order_items['orthodromique_distance_log'] = np.log(df_order_items['orthodromique_distance']+1)\n",
    "df_order_items['product_volume'] = df_order_items['product_height_cm'] * df_order_items['product_length_cm'] * df_order_items['product_width_cm']\n",
    "df_order_items[['product_volume_log', 'product_weight_g_log']] = np.log(df_order_items[['product_volume', 'product_weight_g']]+1)\n"
   ]
  },
  {
   "cell_type": "code",
   "execution_count": 8,
   "id": "3df9d8ba",
   "metadata": {},
   "outputs": [],
   "source": [
    "# relative time\n",
    "df_orders['delivery_against_estimated'] = (df_orders['order_estimated_delivery_date'] - df_orders['order_delivered_customer_date']).astype('timedelta64[h]')/24\n",
    "df_orders['order_approved_timelapse'] = (df_orders['order_approved_at'] - df_orders['order_purchase_timestamp']).astype('timedelta64[h]')\n",
    "df_orders['order_delivered_carrier_timelapse'] = (df_orders['order_delivered_carrier_date'] - df_orders['order_purchase_timestamp']).astype('timedelta64[h]')/24\n",
    "df_orders['order_delivered_customer_timelapse'] = (df_orders['order_delivered_customer_date'] - df_orders['order_purchase_timestamp']).astype('timedelta64[h]')/24\n",
    "df_orders['order_estimated_delivery_timelapse'] = (df_orders['order_estimated_delivery_date'] - df_orders['order_purchase_timestamp']).astype('timedelta64[h]')/24\n",
    "df_orders['review_creation_timelapse_from_delivery'] = (df_orders['review_creation_date'] - df_orders['order_delivered_customer_date']).astype('timedelta64[m]')\n",
    "df_orders['review_answer_timeslapse_from_review'] = (df_orders['review_answer_timestamp'] - df_orders['review_creation_date']).astype('timedelta64[h]')\n",
    "\n",
    "df_orders.drop(['review_comment_title', 'review_comment_message'], axis=1, inplace=True)\n",
    "df_order_items['product_category_name_english'].fillna('unknown', inplace=True)\n",
    "\n",
    "df_orders = df_orders[df_orders['order_status'] == 'Delivered']\n",
    "df_orders.drop(['order_status'], axis=1, inplace=True)\n",
    "df_orders.dropna(inplace=True)\n",
    "\n",
    "df_onehot = pd.get_dummies(df_orders[['order_purchase_day', 'order_purchase_mon', 'order_purchase_time_day']], prefix=['order_purchase_day', 'order_purchase_mon', 'order_purchase_time_day'])\n",
    "df_orders = df_orders.join(df_onehot)"
   ]
  },
  {
   "cell_type": "code",
   "execution_count": 21,
   "id": "254a91d4",
   "metadata": {},
   "outputs": [
    {
     "data": {
      "text/plain": [
       "Timestamp('2018-08-26 15:00:37')"
      ]
     },
     "execution_count": 21,
     "metadata": {},
     "output_type": "execute_result"
    }
   ],
   "source": [
    "df_orders['order_purchase_timestamp'].max() - pd.to_timedelta(3, unit='d')"
   ]
  },
  {
   "cell_type": "code",
   "execution_count": 17,
   "id": "8899143e",
   "metadata": {},
   "outputs": [
    {
     "data": {
      "text/plain": [
       "Timedelta('3 days 00:00:00')"
      ]
     },
     "execution_count": 17,
     "metadata": {},
     "output_type": "execute_result"
    }
   ],
   "source": [
    "pd.to_timedelta(3, unit='d')\n",
    "Préparation des différents Datasets\n"
   ]
  },
  {
   "cell_type": "markdown",
   "id": "2cbc23f0",
   "metadata": {},
   "source": [
    "## Final DataFrame"
   ]
  },
  {
   "cell_type": "code",
   "execution_count": 9,
   "id": "a50820a5",
   "metadata": {},
   "outputs": [],
   "source": [
    "df = pd.DataFrame({'customer_unique_id' : df_customers['customer_unique_id'].value_counts().index})\n",
    "df = df.merge(df_customers.groupby('customer_unique_id').first()[['customer_city']], on='customer_unique_id')\n",
    "\n",
    "city_count = df['customer_city'].value_counts()\n",
    "for i in range(df.shape[0]):\n",
    "    val = df.index[i]\n",
    "    df.loc[val, 'customer_city_size']= city_count[df.loc[val, 'customer_city']]\n",
    "    \n",
    "# Merge df_orders\n",
    "order_agg = {\n",
    "            'order_purchase_timestamp': 'max',\n",
    "            'payment_value': 'sum'\n",
    "            }\n",
    "df = df.merge(df_orders.groupby('customer_unique_id').agg(order_agg), on='customer_unique_id')\n",
    "\n",
    "# Merge df_order_items\n",
    "order_items_agg = {'price': 'mean',\n",
    "                   'freight_value': 'sum',\n",
    "                   'orthodromique_distance_log': 'mean',\n",
    "                   'product_volume_log': 'mean'\n",
    "                  }\n",
    "df = df.merge(df_order_items.groupby('customer_unique_id').agg(order_items_agg), on='customer_unique_id')\n",
    "\n",
    "# fillna\n",
    "fill_dic = {\n",
    "            'orthodromique_distance_log': df['orthodromique_distance_log'].mean(),\n",
    "            'product_volume_log': df['product_volume_log'].mean()\n",
    "           }\n",
    "df.fillna(fill_dic, inplace=True)\n",
    "\n",
    "# rename columns\n",
    "df.rename(columns={\n",
    "                   'order_purchase_timestamp': 'recency',\n",
    "                   'payment_value': 'revenue',\n",
    "                   'price': 'mean_price',\n",
    "                   'freight_value': 'mean_freight_value'\n",
    "                  }, inplace=True)\n",
    "df['recency'] = (df['recency'].max() - df['recency']).astype('timedelta64[h]')/24\n",
    "df.dropna(inplace=True)"
   ]
  },
  {
   "cell_type": "code",
   "execution_count": null,
   "id": "96651f85",
   "metadata": {},
   "outputs": [],
   "source": []
  }
 ],
 "metadata": {
  "kernelspec": {
   "display_name": "Python 3",
   "language": "python",
   "name": "python3"
  },
  "language_info": {
   "codemirror_mode": {
    "name": "ipython",
    "version": 3
   },
   "file_extension": ".py",
   "mimetype": "text/x-python",
   "name": "python",
   "nbconvert_exporter": "python",
   "pygments_lexer": "ipython3",
   "version": "3.8.8"
  },
  "varInspector": {
   "cols": {
    "lenName": 16,
    "lenType": 16,
    "lenVar": 40
   },
   "kernels_config": {
    "python": {
     "delete_cmd_postfix": "",
     "delete_cmd_prefix": "del ",
     "library": "var_list.py",
     "varRefreshCmd": "print(var_dic_list())"
    },
    "r": {
     "delete_cmd_postfix": ") ",
     "delete_cmd_prefix": "rm(",
     "library": "var_list.r",
     "varRefreshCmd": "cat(var_dic_list()) "
    }
   },
   "types_to_exclude": [
    "module",
    "function",
    "builtin_function_or_method",
    "instance",
    "_Feature"
   ],
   "window_display": false
  }
 },
 "nbformat": 4,
 "nbformat_minor": 5
}
