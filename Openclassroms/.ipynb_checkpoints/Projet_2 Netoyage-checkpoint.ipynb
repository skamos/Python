{
 "cells": [
  {
   "cell_type": "markdown",
   "metadata": {
    "id": "cOuFVU1T8SK5",
    "tags": []
   },
   "source": [
    "# Netoyage des données"
   ]
  },
  {
   "cell_type": "markdown",
   "metadata": {
    "id": "lBausBOlTxtO",
    "tags": []
   },
   "source": [
    "### Importation des librairies"
   ]
  },
  {
   "cell_type": "code",
   "execution_count": 1,
   "metadata": {
    "id": "apnlT6jBXLHu"
   },
   "outputs": [],
   "source": [
    "import re\n",
    "import pandas as pd\n",
    "import seaborn as sns\n",
    "import matplotlib.pyplot as plt"
   ]
  },
  {
   "cell_type": "markdown",
   "metadata": {
    "id": "fuupaVWQT5kF",
    "tags": []
   },
   "source": [
    "### Chargement de la base de donnée"
   ]
  },
  {
   "cell_type": "code",
   "execution_count": 2,
   "metadata": {},
   "outputs": [
    {
     "name": "stderr",
     "output_type": "stream",
     "text": [
      "C:\\ProgramData\\Anaconda3\\lib\\site-packages\\IPython\\core\\interactiveshell.py:3165: DtypeWarning: Columns (0,8,13,19,20,21,22,23,27,28,29,31,32,33,38,40,41,42,52,55,64) have mixed types.Specify dtype option on import or set low_memory=False.\n",
      "  has_raised = await self.run_ast_nodes(code_ast.body, cell_name,\n"
     ]
    }
   ],
   "source": [
    "df = pd.read_csv(\"Data/en.openfoodfacts.org.products.csv\", sep= \"\\t\")"
   ]
  },
  {
   "cell_type": "code",
   "execution_count": 4,
   "metadata": {
    "id": "ZSr9LsyNZnk-"
   },
   "outputs": [
    {
     "ename": "MemoryError",
     "evalue": "Unable to allocate 1.87 GiB for an array with shape (125, 2002725) and data type float64",
     "output_type": "error",
     "traceback": [
      "\u001b[1;31m---------------------------------------------------------------------------\u001b[0m",
      "\u001b[1;31mMemoryError\u001b[0m                               Traceback (most recent call last)",
      "\u001b[1;32m<ipython-input-4-0813fde17c22>\u001b[0m in \u001b[0;36m<module>\u001b[1;34m\u001b[0m\n\u001b[0;32m      1\u001b[0m \u001b[1;31m# on prend la variable code comme index\u001b[0m\u001b[1;33m\u001b[0m\u001b[1;33m\u001b[0m\u001b[1;33m\u001b[0m\u001b[0m\n\u001b[1;32m----> 2\u001b[1;33m \u001b[0mdf\u001b[0m \u001b[1;33m=\u001b[0m \u001b[0mdf\u001b[0m\u001b[1;33m.\u001b[0m\u001b[0mdrop_duplicates\u001b[0m\u001b[1;33m(\u001b[0m\u001b[0msubset\u001b[0m\u001b[1;33m=\u001b[0m\u001b[1;34m'code'\u001b[0m\u001b[1;33m)\u001b[0m\u001b[1;33m\u001b[0m\u001b[1;33m\u001b[0m\u001b[0m\n\u001b[0m\u001b[0;32m      3\u001b[0m \u001b[0mdf\u001b[0m \u001b[1;33m=\u001b[0m \u001b[0mdf\u001b[0m\u001b[1;33m.\u001b[0m\u001b[0mset_index\u001b[0m\u001b[1;33m(\u001b[0m\u001b[1;34m'code'\u001b[0m\u001b[1;33m)\u001b[0m\u001b[1;33m\u001b[0m\u001b[1;33m\u001b[0m\u001b[0m\n\u001b[0;32m      4\u001b[0m \u001b[1;33m\u001b[0m\u001b[0m\n\u001b[0;32m      5\u001b[0m \u001b[1;31m# on créée là base de donnée qui sera utiliser\u001b[0m\u001b[1;33m\u001b[0m\u001b[1;33m\u001b[0m\u001b[1;33m\u001b[0m\u001b[0m\n",
      "\u001b[1;32mC:\\ProgramData\\Anaconda3\\lib\\site-packages\\pandas\\core\\frame.py\u001b[0m in \u001b[0;36mdrop_duplicates\u001b[1;34m(self, subset, keep, inplace, ignore_index)\u001b[0m\n\u001b[0;32m   5271\u001b[0m         \u001b[0mduplicated\u001b[0m \u001b[1;33m=\u001b[0m \u001b[0mself\u001b[0m\u001b[1;33m.\u001b[0m\u001b[0mduplicated\u001b[0m\u001b[1;33m(\u001b[0m\u001b[0msubset\u001b[0m\u001b[1;33m,\u001b[0m \u001b[0mkeep\u001b[0m\u001b[1;33m=\u001b[0m\u001b[0mkeep\u001b[0m\u001b[1;33m)\u001b[0m\u001b[1;33m\u001b[0m\u001b[1;33m\u001b[0m\u001b[0m\n\u001b[0;32m   5272\u001b[0m \u001b[1;33m\u001b[0m\u001b[0m\n\u001b[1;32m-> 5273\u001b[1;33m         \u001b[0mresult\u001b[0m \u001b[1;33m=\u001b[0m \u001b[0mself\u001b[0m\u001b[1;33m[\u001b[0m\u001b[1;33m-\u001b[0m\u001b[0mduplicated\u001b[0m\u001b[1;33m]\u001b[0m\u001b[1;33m\u001b[0m\u001b[1;33m\u001b[0m\u001b[0m\n\u001b[0m\u001b[0;32m   5274\u001b[0m         \u001b[1;32mif\u001b[0m \u001b[0mignore_index\u001b[0m\u001b[1;33m:\u001b[0m\u001b[1;33m\u001b[0m\u001b[1;33m\u001b[0m\u001b[0m\n\u001b[0;32m   5275\u001b[0m             \u001b[0mresult\u001b[0m\u001b[1;33m.\u001b[0m\u001b[0mindex\u001b[0m \u001b[1;33m=\u001b[0m \u001b[0mibase\u001b[0m\u001b[1;33m.\u001b[0m\u001b[0mdefault_index\u001b[0m\u001b[1;33m(\u001b[0m\u001b[0mlen\u001b[0m\u001b[1;33m(\u001b[0m\u001b[0mresult\u001b[0m\u001b[1;33m)\u001b[0m\u001b[1;33m)\u001b[0m\u001b[1;33m\u001b[0m\u001b[1;33m\u001b[0m\u001b[0m\n",
      "\u001b[1;32mC:\\ProgramData\\Anaconda3\\lib\\site-packages\\pandas\\core\\frame.py\u001b[0m in \u001b[0;36m__getitem__\u001b[1;34m(self, key)\u001b[0m\n\u001b[0;32m   3013\u001b[0m         \u001b[1;31m# Do we have a (boolean) 1d indexer?\u001b[0m\u001b[1;33m\u001b[0m\u001b[1;33m\u001b[0m\u001b[1;33m\u001b[0m\u001b[0m\n\u001b[0;32m   3014\u001b[0m         \u001b[1;32mif\u001b[0m \u001b[0mcom\u001b[0m\u001b[1;33m.\u001b[0m\u001b[0mis_bool_indexer\u001b[0m\u001b[1;33m(\u001b[0m\u001b[0mkey\u001b[0m\u001b[1;33m)\u001b[0m\u001b[1;33m:\u001b[0m\u001b[1;33m\u001b[0m\u001b[1;33m\u001b[0m\u001b[0m\n\u001b[1;32m-> 3015\u001b[1;33m             \u001b[1;32mreturn\u001b[0m \u001b[0mself\u001b[0m\u001b[1;33m.\u001b[0m\u001b[0m_getitem_bool_array\u001b[0m\u001b[1;33m(\u001b[0m\u001b[0mkey\u001b[0m\u001b[1;33m)\u001b[0m\u001b[1;33m\u001b[0m\u001b[1;33m\u001b[0m\u001b[0m\n\u001b[0m\u001b[0;32m   3016\u001b[0m \u001b[1;33m\u001b[0m\u001b[0m\n\u001b[0;32m   3017\u001b[0m         \u001b[1;31m# We are left with two options: a single key, and a collection of keys,\u001b[0m\u001b[1;33m\u001b[0m\u001b[1;33m\u001b[0m\u001b[1;33m\u001b[0m\u001b[0m\n",
      "\u001b[1;32mC:\\ProgramData\\Anaconda3\\lib\\site-packages\\pandas\\core\\frame.py\u001b[0m in \u001b[0;36m_getitem_bool_array\u001b[1;34m(self, key)\u001b[0m\n\u001b[0;32m   3068\u001b[0m         \u001b[0mkey\u001b[0m \u001b[1;33m=\u001b[0m \u001b[0mcheck_bool_indexer\u001b[0m\u001b[1;33m(\u001b[0m\u001b[0mself\u001b[0m\u001b[1;33m.\u001b[0m\u001b[0mindex\u001b[0m\u001b[1;33m,\u001b[0m \u001b[0mkey\u001b[0m\u001b[1;33m)\u001b[0m\u001b[1;33m\u001b[0m\u001b[1;33m\u001b[0m\u001b[0m\n\u001b[0;32m   3069\u001b[0m         \u001b[0mindexer\u001b[0m \u001b[1;33m=\u001b[0m \u001b[0mkey\u001b[0m\u001b[1;33m.\u001b[0m\u001b[0mnonzero\u001b[0m\u001b[1;33m(\u001b[0m\u001b[1;33m)\u001b[0m\u001b[1;33m[\u001b[0m\u001b[1;36m0\u001b[0m\u001b[1;33m]\u001b[0m\u001b[1;33m\u001b[0m\u001b[1;33m\u001b[0m\u001b[0m\n\u001b[1;32m-> 3070\u001b[1;33m         \u001b[1;32mreturn\u001b[0m \u001b[0mself\u001b[0m\u001b[1;33m.\u001b[0m\u001b[0m_take_with_is_copy\u001b[0m\u001b[1;33m(\u001b[0m\u001b[0mindexer\u001b[0m\u001b[1;33m,\u001b[0m \u001b[0maxis\u001b[0m\u001b[1;33m=\u001b[0m\u001b[1;36m0\u001b[0m\u001b[1;33m)\u001b[0m\u001b[1;33m\u001b[0m\u001b[1;33m\u001b[0m\u001b[0m\n\u001b[0m\u001b[0;32m   3071\u001b[0m \u001b[1;33m\u001b[0m\u001b[0m\n\u001b[0;32m   3072\u001b[0m     \u001b[1;32mdef\u001b[0m \u001b[0m_getitem_multilevel\u001b[0m\u001b[1;33m(\u001b[0m\u001b[0mself\u001b[0m\u001b[1;33m,\u001b[0m \u001b[0mkey\u001b[0m\u001b[1;33m)\u001b[0m\u001b[1;33m:\u001b[0m\u001b[1;33m\u001b[0m\u001b[1;33m\u001b[0m\u001b[0m\n",
      "\u001b[1;32mC:\\ProgramData\\Anaconda3\\lib\\site-packages\\pandas\\core\\generic.py\u001b[0m in \u001b[0;36m_take_with_is_copy\u001b[1;34m(self, indices, axis)\u001b[0m\n\u001b[0;32m   3598\u001b[0m         \u001b[0mSee\u001b[0m \u001b[0mthe\u001b[0m \u001b[0mdocstring\u001b[0m \u001b[0mof\u001b[0m\u001b[0;31m \u001b[0m\u001b[0;31m`\u001b[0m\u001b[0mtake\u001b[0m\u001b[0;31m`\u001b[0m \u001b[1;32mfor\u001b[0m \u001b[0mfull\u001b[0m \u001b[0mexplanation\u001b[0m \u001b[0mof\u001b[0m \u001b[0mthe\u001b[0m \u001b[0mparameters\u001b[0m\u001b[1;33m.\u001b[0m\u001b[1;33m\u001b[0m\u001b[1;33m\u001b[0m\u001b[0m\n\u001b[0;32m   3599\u001b[0m         \"\"\"\n\u001b[1;32m-> 3600\u001b[1;33m         \u001b[0mresult\u001b[0m \u001b[1;33m=\u001b[0m \u001b[0mself\u001b[0m\u001b[1;33m.\u001b[0m\u001b[0mtake\u001b[0m\u001b[1;33m(\u001b[0m\u001b[0mindices\u001b[0m\u001b[1;33m=\u001b[0m\u001b[0mindices\u001b[0m\u001b[1;33m,\u001b[0m \u001b[0maxis\u001b[0m\u001b[1;33m=\u001b[0m\u001b[0maxis\u001b[0m\u001b[1;33m)\u001b[0m\u001b[1;33m\u001b[0m\u001b[1;33m\u001b[0m\u001b[0m\n\u001b[0m\u001b[0;32m   3601\u001b[0m         \u001b[1;31m# Maybe set copy if we didn't actually change the index.\u001b[0m\u001b[1;33m\u001b[0m\u001b[1;33m\u001b[0m\u001b[1;33m\u001b[0m\u001b[0m\n\u001b[0;32m   3602\u001b[0m         \u001b[1;32mif\u001b[0m \u001b[1;32mnot\u001b[0m \u001b[0mresult\u001b[0m\u001b[1;33m.\u001b[0m\u001b[0m_get_axis\u001b[0m\u001b[1;33m(\u001b[0m\u001b[0maxis\u001b[0m\u001b[1;33m)\u001b[0m\u001b[1;33m.\u001b[0m\u001b[0mequals\u001b[0m\u001b[1;33m(\u001b[0m\u001b[0mself\u001b[0m\u001b[1;33m.\u001b[0m\u001b[0m_get_axis\u001b[0m\u001b[1;33m(\u001b[0m\u001b[0maxis\u001b[0m\u001b[1;33m)\u001b[0m\u001b[1;33m)\u001b[0m\u001b[1;33m:\u001b[0m\u001b[1;33m\u001b[0m\u001b[1;33m\u001b[0m\u001b[0m\n",
      "\u001b[1;32mC:\\ProgramData\\Anaconda3\\lib\\site-packages\\pandas\\core\\generic.py\u001b[0m in \u001b[0;36mtake\u001b[1;34m(self, indices, axis, is_copy, **kwargs)\u001b[0m\n\u001b[0;32m   3584\u001b[0m         \u001b[0mself\u001b[0m\u001b[1;33m.\u001b[0m\u001b[0m_consolidate_inplace\u001b[0m\u001b[1;33m(\u001b[0m\u001b[1;33m)\u001b[0m\u001b[1;33m\u001b[0m\u001b[1;33m\u001b[0m\u001b[0m\n\u001b[0;32m   3585\u001b[0m \u001b[1;33m\u001b[0m\u001b[0m\n\u001b[1;32m-> 3586\u001b[1;33m         new_data = self._mgr.take(\n\u001b[0m\u001b[0;32m   3587\u001b[0m             \u001b[0mindices\u001b[0m\u001b[1;33m,\u001b[0m \u001b[0maxis\u001b[0m\u001b[1;33m=\u001b[0m\u001b[0mself\u001b[0m\u001b[1;33m.\u001b[0m\u001b[0m_get_block_manager_axis\u001b[0m\u001b[1;33m(\u001b[0m\u001b[0maxis\u001b[0m\u001b[1;33m)\u001b[0m\u001b[1;33m,\u001b[0m \u001b[0mverify\u001b[0m\u001b[1;33m=\u001b[0m\u001b[1;32mTrue\u001b[0m\u001b[1;33m\u001b[0m\u001b[1;33m\u001b[0m\u001b[0m\n\u001b[0;32m   3588\u001b[0m         )\n",
      "\u001b[1;32mC:\\ProgramData\\Anaconda3\\lib\\site-packages\\pandas\\core\\internals\\managers.py\u001b[0m in \u001b[0;36mtake\u001b[1;34m(self, indexer, axis, verify, convert)\u001b[0m\n\u001b[0;32m   1472\u001b[0m \u001b[1;33m\u001b[0m\u001b[0m\n\u001b[0;32m   1473\u001b[0m         \u001b[0mnew_labels\u001b[0m \u001b[1;33m=\u001b[0m \u001b[0mself\u001b[0m\u001b[1;33m.\u001b[0m\u001b[0maxes\u001b[0m\u001b[1;33m[\u001b[0m\u001b[0maxis\u001b[0m\u001b[1;33m]\u001b[0m\u001b[1;33m.\u001b[0m\u001b[0mtake\u001b[0m\u001b[1;33m(\u001b[0m\u001b[0mindexer\u001b[0m\u001b[1;33m)\u001b[0m\u001b[1;33m\u001b[0m\u001b[1;33m\u001b[0m\u001b[0m\n\u001b[1;32m-> 1474\u001b[1;33m         return self.reindex_indexer(\n\u001b[0m\u001b[0;32m   1475\u001b[0m             \u001b[0mnew_axis\u001b[0m\u001b[1;33m=\u001b[0m\u001b[0mnew_labels\u001b[0m\u001b[1;33m,\u001b[0m \u001b[0mindexer\u001b[0m\u001b[1;33m=\u001b[0m\u001b[0mindexer\u001b[0m\u001b[1;33m,\u001b[0m \u001b[0maxis\u001b[0m\u001b[1;33m=\u001b[0m\u001b[0maxis\u001b[0m\u001b[1;33m,\u001b[0m \u001b[0mallow_dups\u001b[0m\u001b[1;33m=\u001b[0m\u001b[1;32mTrue\u001b[0m\u001b[1;33m\u001b[0m\u001b[1;33m\u001b[0m\u001b[0m\n\u001b[0;32m   1476\u001b[0m         )\n",
      "\u001b[1;32mC:\\ProgramData\\Anaconda3\\lib\\site-packages\\pandas\\core\\internals\\managers.py\u001b[0m in \u001b[0;36mreindex_indexer\u001b[1;34m(self, new_axis, indexer, axis, fill_value, allow_dups, copy, consolidate, only_slice)\u001b[0m\n\u001b[0;32m   1309\u001b[0m             )\n\u001b[0;32m   1310\u001b[0m         \u001b[1;32melse\u001b[0m\u001b[1;33m:\u001b[0m\u001b[1;33m\u001b[0m\u001b[1;33m\u001b[0m\u001b[0m\n\u001b[1;32m-> 1311\u001b[1;33m             new_blocks = [\n\u001b[0m\u001b[0;32m   1312\u001b[0m                 blk.take_nd(\n\u001b[0;32m   1313\u001b[0m                     \u001b[0mindexer\u001b[0m\u001b[1;33m,\u001b[0m\u001b[1;33m\u001b[0m\u001b[1;33m\u001b[0m\u001b[0m\n",
      "\u001b[1;32mC:\\ProgramData\\Anaconda3\\lib\\site-packages\\pandas\\core\\internals\\managers.py\u001b[0m in \u001b[0;36m<listcomp>\u001b[1;34m(.0)\u001b[0m\n\u001b[0;32m   1310\u001b[0m         \u001b[1;32melse\u001b[0m\u001b[1;33m:\u001b[0m\u001b[1;33m\u001b[0m\u001b[1;33m\u001b[0m\u001b[0m\n\u001b[0;32m   1311\u001b[0m             new_blocks = [\n\u001b[1;32m-> 1312\u001b[1;33m                 blk.take_nd(\n\u001b[0m\u001b[0;32m   1313\u001b[0m                     \u001b[0mindexer\u001b[0m\u001b[1;33m,\u001b[0m\u001b[1;33m\u001b[0m\u001b[1;33m\u001b[0m\u001b[0m\n\u001b[0;32m   1314\u001b[0m                     \u001b[0maxis\u001b[0m\u001b[1;33m=\u001b[0m\u001b[0maxis\u001b[0m\u001b[1;33m,\u001b[0m\u001b[1;33m\u001b[0m\u001b[1;33m\u001b[0m\u001b[0m\n",
      "\u001b[1;32mC:\\ProgramData\\Anaconda3\\lib\\site-packages\\pandas\\core\\internals\\blocks.py\u001b[0m in \u001b[0;36mtake_nd\u001b[1;34m(self, indexer, axis, new_mgr_locs, fill_value)\u001b[0m\n\u001b[0;32m   1393\u001b[0m             \u001b[0mallow_fill\u001b[0m \u001b[1;33m=\u001b[0m \u001b[1;32mTrue\u001b[0m\u001b[1;33m\u001b[0m\u001b[1;33m\u001b[0m\u001b[0m\n\u001b[0;32m   1394\u001b[0m \u001b[1;33m\u001b[0m\u001b[0m\n\u001b[1;32m-> 1395\u001b[1;33m         new_values = algos.take_nd(\n\u001b[0m\u001b[0;32m   1396\u001b[0m             \u001b[0mvalues\u001b[0m\u001b[1;33m,\u001b[0m \u001b[0mindexer\u001b[0m\u001b[1;33m,\u001b[0m \u001b[0maxis\u001b[0m\u001b[1;33m=\u001b[0m\u001b[0maxis\u001b[0m\u001b[1;33m,\u001b[0m \u001b[0mallow_fill\u001b[0m\u001b[1;33m=\u001b[0m\u001b[0mallow_fill\u001b[0m\u001b[1;33m,\u001b[0m \u001b[0mfill_value\u001b[0m\u001b[1;33m=\u001b[0m\u001b[0mfill_value\u001b[0m\u001b[1;33m\u001b[0m\u001b[1;33m\u001b[0m\u001b[0m\n\u001b[0;32m   1397\u001b[0m         )\n",
      "\u001b[1;32mC:\\ProgramData\\Anaconda3\\lib\\site-packages\\pandas\\core\\algorithms.py\u001b[0m in \u001b[0;36mtake_nd\u001b[1;34m(arr, indexer, axis, out, fill_value, allow_fill)\u001b[0m\n\u001b[0;32m   1752\u001b[0m             \u001b[0mout\u001b[0m \u001b[1;33m=\u001b[0m \u001b[0mnp\u001b[0m\u001b[1;33m.\u001b[0m\u001b[0mempty\u001b[0m\u001b[1;33m(\u001b[0m\u001b[0mout_shape\u001b[0m\u001b[1;33m,\u001b[0m \u001b[0mdtype\u001b[0m\u001b[1;33m=\u001b[0m\u001b[0mdtype\u001b[0m\u001b[1;33m,\u001b[0m \u001b[0morder\u001b[0m\u001b[1;33m=\u001b[0m\u001b[1;34m\"F\"\u001b[0m\u001b[1;33m)\u001b[0m\u001b[1;33m\u001b[0m\u001b[1;33m\u001b[0m\u001b[0m\n\u001b[0;32m   1753\u001b[0m         \u001b[1;32melse\u001b[0m\u001b[1;33m:\u001b[0m\u001b[1;33m\u001b[0m\u001b[1;33m\u001b[0m\u001b[0m\n\u001b[1;32m-> 1754\u001b[1;33m             \u001b[0mout\u001b[0m \u001b[1;33m=\u001b[0m \u001b[0mnp\u001b[0m\u001b[1;33m.\u001b[0m\u001b[0mempty\u001b[0m\u001b[1;33m(\u001b[0m\u001b[0mout_shape\u001b[0m\u001b[1;33m,\u001b[0m \u001b[0mdtype\u001b[0m\u001b[1;33m=\u001b[0m\u001b[0mdtype\u001b[0m\u001b[1;33m)\u001b[0m\u001b[1;33m\u001b[0m\u001b[1;33m\u001b[0m\u001b[0m\n\u001b[0m\u001b[0;32m   1755\u001b[0m \u001b[1;33m\u001b[0m\u001b[0m\n\u001b[0;32m   1756\u001b[0m     func = _get_take_nd_function(\n",
      "\u001b[1;31mMemoryError\u001b[0m: Unable to allocate 1.87 GiB for an array with shape (125, 2002725) and data type float64"
     ]
    }
   ],
   "source": [
    "# on prend la variable code comme index\n",
    "df = df.drop_duplicates(subset='code')\n",
    "df = df.set_index('code')\n",
    "\n",
    "# on créée là base de donnée qui sera utiliser\n",
    "df_cheese = df[df['pnns_groups_2'] == 'Cheese']\n",
    "\n",
    "# on supprime l'ancienne inutile\n",
    "del df"
   ]
  },
  {
   "cell_type": "markdown",
   "metadata": {
    "id": "pxokxN9L8x-X",
    "tags": [],
    "toc-hr-collapsed": true
   },
   "source": [
    "#### Pour avoir un apercu des valeurs manquantes"
   ]
  },
  {
   "cell_type": "code",
   "execution_count": null,
   "metadata": {
    "colab": {
     "base_uri": "https://localhost:8080/",
     "height": 576
    },
    "id": "RAi-RcgFX012",
    "outputId": "6d0d39f0-bdce-4d0e-a33e-a457276b2d00",
    "tags": []
   },
   "outputs": [],
   "source": [
    "plt.figure(figsize=(50,20))\n",
    "sns.heatmap(df_cheese.isna(), cbar=False)"
   ]
  },
  {
   "cell_type": "markdown",
   "metadata": {
    "id": "d74YXWEc8Jq3",
    "tags": [],
    "toc-hr-collapsed": true
   },
   "source": [
    "## Definitions des fonctions utilisé"
   ]
  },
  {
   "cell_type": "code",
   "execution_count": null,
   "metadata": {
    "id": "ngapyie6X_Wc"
   },
   "outputs": [],
   "source": [
    "def multiOnehotTags(serie, liste, en=''):\n",
    "    '''\n",
    "    liste est la liste des valeurs qui sont autorisé (recomandé d'utiliser listMainCat)\n",
    "    onehot pour une variable qui à plusieur valeurs dans une celule\n",
    "    '''\n",
    "    df_temp = pd.DataFrame(columns=liste.keys())\n",
    "    for i in serie.index:\n",
    "        val = serie.loc[i]\n",
    "        if type(val) == str:\n",
    "            for r in range(val.count(','+ en)+1):\n",
    "                virgule = val.find(',' + en)\n",
    "                if virgule == -1:\n",
    "                    if val[len(en):] in liste:\n",
    "                        df_temp.loc[i,val[len(en):]] = 1\n",
    "                    else:\n",
    "                        df_temp.loc[i] = 0\n",
    "                else:\n",
    "                    if val[len(en):virgule] in liste:\n",
    "                        df_temp.loc[i,val[len(en):virgule]] = 1\n",
    "                    else:\n",
    "                        df_temp.loc[i] = 0\n",
    "                    val = val[virgule + 1:]\n",
    "        else:\n",
    "            df_temp.loc[i] = 0\n",
    "    return df_temp.fillna(0)"
   ]
  },
  {
   "cell_type": "code",
   "execution_count": null,
   "metadata": {
    "id": "VNcJ5YY_IgAJ"
   },
   "outputs": [],
   "source": [
    "def listMainCat(serie, seuil=10, en=''):\n",
    "    '''\n",
    "    liste dans la série toutes les valeurs existante et trie du plus féquent au moins (ne considère pas ceux en dessous du seuil)\n",
    "    seuil peut être un entier et du coup il ejecte ceux qui sont moins que ce nombre\n",
    "    ou il peut être une fraction qui est le pourcentage en desous du quel il eject\n",
    "    '''\n",
    "    serie_temp = pd.Series()\n",
    "    serie_values = serie.value_counts()\n",
    "    for i in range(serie_values.shape[0]):\n",
    "        val = serie_values.index[i]\n",
    "        for r in range(val.count(',')+1):\n",
    "            virgule = val.find(',')\n",
    "            if virgule == -1:\n",
    "                if val[len(en):] in serie_temp:\n",
    "                    serie_temp[val[len(en):]] += serie_values[i]\n",
    "                else:\n",
    "                    serie_temp[val[len(en):]] = serie_values[i]\n",
    "            else:\n",
    "                if val[len(en):virgule] in serie_temp:\n",
    "                    serie_temp[val[len(en):virgule]] += serie_values[i]\n",
    "                else:\n",
    "                    serie_temp[val[len(en):virgule]] = serie_values[i]\n",
    "                val = val[virgule+1:]\n",
    "    serie_temp.sort_values(ascending=False, inplace=True)\n",
    "    if isinstance(seuil, int):\n",
    "        for i in range(serie_temp.shape[0]):\n",
    "            if serie_temp.iloc[i] < seuil:\n",
    "                serie_temp = serie_temp.iloc[0:i]\n",
    "                break\n",
    "    elif isinstance(seuil, float):\n",
    "        for i in range(serie_temp.shape[0]):\n",
    "            if serie_temp.iloc[i]/serie.shape[0] < seuil:\n",
    "                serie_temp = serie_temp.iloc[0:i]\n",
    "                break\n",
    "    return serie_temp"
   ]
  },
  {
   "cell_type": "code",
   "execution_count": null,
   "metadata": {},
   "outputs": [],
   "source": [
    "def histplot(cols, log=False):\n",
    "    '''\n",
    "    faire plusieurs histrograme dans un bloc\n",
    "    '''\n",
    "    plt.figure(figsize=(30,20))\n",
    "    for i, col in enumerate(cols):\n",
    "        plt.subplot(3, 3, i+1)\n",
    "        plt.hist(df_cheese[col], bins=100)\n",
    "        plt.xlabel(col)\n",
    "        if log:\n",
    "            plt.yscale('log')"
   ]
  },
  {
   "cell_type": "markdown",
   "metadata": {
    "id": "0vjZ6Ddv9HEr",
    "tags": []
   },
   "source": [
    "## Netoyage"
   ]
  },
  {
   "cell_type": "code",
   "execution_count": null,
   "metadata": {
    "id": "H5yXT94i1ZUy"
   },
   "outputs": [],
   "source": [
    "# création d'une variable 'created_year' pour l'année où à été renseigner le produit\n",
    "df_cheese.loc[df_cheese['created_datetime'].notnull(), 'created_year'] = df_cheese['created_datetime'].str[:4].astype(int)"
   ]
  },
  {
   "cell_type": "markdown",
   "metadata": {
    "tags": [],
    "toc-hr-collapsed": true
   },
   "source": [
    "#### archives pour la selection des colones"
   ]
  },
  {
   "cell_type": "code",
   "execution_count": null,
   "metadata": {
    "colab": {
     "base_uri": "https://localhost:8080/"
    },
    "id": "BQRjhmowng9u",
    "outputId": "f4680108-9b6d-4f69-d6b8-63a1d6dbf6af"
   },
   "outputs": [],
   "source": [
    "# liste toutes les colones qui ont un taux de viditude en dessous du seuil\n",
    "liste = [i for i in df_cheese.columns if df_cheese[i].isna().sum()/df_cheese.shape[0] <= 0.8]\n",
    "df_cheese_na = df_cheese[liste]"
   ]
  },
  {
   "cell_type": "code",
   "execution_count": null,
   "metadata": {
    "id": "GYmnkCdBpcq_"
   },
   "outputs": [],
   "source": [
    "# voir quels tableaux sont les plus vides\n",
    "pd.DataFrame((df_cheese_na.isna().sum()/df_cheese_na.shape[0] -1).abs())"
   ]
  },
  {
   "cell_type": "code",
   "execution_count": null,
   "metadata": {
    "id": "gtD0ppeuoyS6"
   },
   "outputs": [],
   "source": [
    "# le voir sur une heatmap\n",
    "plt.figure(figsize=(3,25))\n",
    "sns.heatmap(pd.DataFrame((df_cheese_na.isna().sum()/df_cheese_na.shape[0] -1).abs()))"
   ]
  },
  {
   "cell_type": "markdown",
   "metadata": {},
   "source": [
    "#### selection des colonnes à utiliser"
   ]
  },
  {
   "cell_type": "code",
   "execution_count": null,
   "metadata": {
    "id": "IqBV06wSFlel"
   },
   "outputs": [],
   "source": [
    "# dans tout le dataset, on de selectionne que les plus utile et rempli\n",
    "df_cheese = df_cheese[['product_name', 'categories_en', 'created_year', 'ecoscore_score_fr', 'countries_tags', 'nutriscore_score',\n",
    "                       'nova_group', 'labels_tags', 'fat_100g', 'proteins_100g', 'salt_100g', 'sodium_100g', 'energy_100g', 'carbohydrates_100g',\n",
    "                       'saturated-fat_100g', 'sugars_100g', 'energy-kcal_100g']]\n"
   ]
  },
  {
   "cell_type": "markdown",
   "metadata": {
    "tags": []
   },
   "source": [
    "#### Suppretion des outliers\n",
    "pour les variable quantitatives (les nutriments et aport energétique) on retire les valeurs abérantes.\n",
    "- dans un premier temps on visualise les données en base logarithmique pour mettre en avant les idividus isolé à supprimer\n",
    "- en suite on défini des seuil à partir des graphiques pour garder la tendance générale et supprimer les outliers\n",
    "- pour finir on visualise le resultat sur une base linéaire pour comparer la différence"
   ]
  },
  {
   "cell_type": "code",
   "execution_count": null,
   "metadata": {
    "colab": {
     "base_uri": "https://localhost:8080/",
     "height": 949
    },
    "id": "NtnPv-v6p4wz",
    "outputId": "72a1470f-265c-4be4-95d2-232ca4babaf8"
   },
   "outputs": [],
   "source": [
    "histplot(['fat_100g', 'proteins_100g', 'salt_100g', 'sodium_100g', 'energy_100g', 'carbohydrates_100g', 'saturated-fat_100g', 'sugars_100g', 'energy-kcal_100g'], log=True)"
   ]
  },
  {
   "cell_type": "code",
   "execution_count": null,
   "metadata": {
    "id": "AQzwga-XpwJy"
   },
   "outputs": [],
   "source": [
    "# suppression des outlayers\n",
    "individu_initial = df_cheese.shape[0]\n",
    "df_cheese = df_cheese[(df_cheese['fat_100g'] <= 80) | (df_cheese['fat_100g'].isna())]\n",
    "df_cheese = df_cheese[(df_cheese['proteins_100g'] <= 55) | (df_cheese['proteins_100g'].isna())]\n",
    "df_cheese = df_cheese[(df_cheese['salt_100g'] <= 30) | (df_cheese['salt_100g'].isna())]\n",
    "df_cheese = df_cheese[(df_cheese['sodium_100g'] <= 10) | (df_cheese['sodium_100g'].isna())]\n",
    "df_cheese = df_cheese[(df_cheese['energy_100g'] <= 7000) | (df_cheese['energy_100g'].isna())]\n",
    "df_cheese = df_cheese[(df_cheese['carbohydrates_100g'] <= 70) | (df_cheese['carbohydrates_100g'].isna())]\n",
    "df_cheese = df_cheese[(df_cheese['saturated-fat_100g'] <= 40) | (df_cheese['saturated-fat_100g'].isna())]\n",
    "df_cheese = df_cheese[(df_cheese['sugars_100g'] <= 40) | (df_cheese['sugars_100g'].isna())]\n",
    "df_cheese = df_cheese[(df_cheese['energy-kcal_100g'] <= 1500) | (df_cheese['energy-kcal_100g'].isna())]\n",
    "individu_apres = df_cheese.shape[0]\n",
    "print('retirer les outlier à fait passer le dataset de ' + str(individu_initial) + ' à ' + str(individu_apres) + ' individues (ça en à retirer ' + str(individu_apres - individu_initial) + ')')"
   ]
  },
  {
   "cell_type": "code",
   "execution_count": null,
   "metadata": {
    "colab": {
     "base_uri": "https://localhost:8080/",
     "height": 949
    },
    "id": "hJkr4nN9uo8Z",
    "outputId": "b17a7c4c-460f-4913-ecc3-d16cf21cfd8b"
   },
   "outputs": [],
   "source": [
    "histplot(['fat_100g', 'proteins_100g', 'salt_100g', 'sodium_100g', 'energy_100g', 'carbohydrates_100g', 'saturated-fat_100g', 'sugars_100g', 'energy-kcal_100g'])"
   ]
  },
  {
   "cell_type": "markdown",
   "metadata": {
    "tags": [],
    "toc-hr-collapsed": true
   },
   "source": [
    "#### suppression des lignes trop peut remplie\n",
    "tout les individu qui ont au total moins de valeurs renseigné que le seuil ne sont pas garder,\n",
    "on fait évoluer le seuil pour voir à partir de quand on perd trop d'individu dans le dataset.\n",
    "15 est la valeur qui sera retenue"
   ]
  },
  {
   "cell_type": "code",
   "execution_count": null,
   "metadata": {
    "colab": {
     "base_uri": "https://localhost:8080/"
    },
    "id": "rh4O5pM51eW1",
    "outputId": "253aa80f-86ca-4b8b-cd69-dd92dcd9f97e"
   },
   "outputs": [],
   "source": [
    "miss_value = []\n",
    "for i in range(20):\n",
    "    miss_value.append(df_cheese.dropna(thresh=i).shape[0])\n",
    "plt.plot(range(len(miss_value)), miss_value)\n",
    "plt.xlabel(\"seuil de valeur renseigner\")\n",
    "plt.ylabel(\"nombre d'individu restant\")"
   ]
  },
  {
   "cell_type": "code",
   "execution_count": null,
   "metadata": {
    "id": "U8ukMBiK1aEO"
   },
   "outputs": [],
   "source": [
    "df_cheese.dropna(thresh=15, inplace=True)"
   ]
  },
  {
   "cell_type": "markdown",
   "metadata": {
    "tags": []
   },
   "source": [
    "#### remplissage des valeurs menquantes\n",
    "les quantitatives par la moyenne, et les nom de produit, les marque et ingredients_text par 'unknown'"
   ]
  },
  {
   "cell_type": "code",
   "execution_count": null,
   "metadata": {
    "id": "x0TKHsWw2TwB"
   },
   "outputs": [],
   "source": [
    "# valeurs quantitatives\n",
    "df_cheese[['ecoscore_score_fr', 'nutriscore_score', 'fat_100g', 'proteins_100g', 'salt_100g', 'sodium_100g', 'energy_100g', 'carbohydrates_100g', 'saturated-fat_100g',\n",
    "           'sugars_100g', 'energy-kcal_100g']] = df_cheese[['ecoscore_score_fr', 'nutriscore_score', 'fat_100g', 'proteins_100g', 'salt_100g', 'sodium_100g', 'energy_100g',\n",
    "                                                            'carbohydrates_100g', 'saturated-fat_100g', 'sugars_100g',\n",
    "                                                            'energy-kcal_100g']].fillna(df_cheese[['ecoscore_score_fr', 'nutriscore_score', 'fat_100g', 'proteins_100g',\n",
    "                                                                                                   'salt_100g', 'sodium_100g','energy_100g',\n",
    "                                                                                                   'carbohydrates_100g', 'saturated-fat_100g',\n",
    "                                                                                                   'sugars_100g', 'energy-kcal_100g']].mean())\n",
    "# valeurs qualitatives\n",
    "df_cheese.fillna({'product_name':'unknown', 'nova_group':'unknown'}, inplace=True)"
   ]
  },
  {
   "cell_type": "markdown",
   "metadata": {
    "id": "fF9sb2BT6hY4",
    "tags": []
   },
   "source": [
    "## Création de nouvelles variables\n",
    "l'idée est de faire un oneHot des valeurs les plus récurentes du dataset.\n",
    "le probleme est qu'il y a plusieurs valeurs dans un seul champ, et des fois il y à un préfixe inutile.\n",
    "1. unifier les différents préfix qu'il peut y avoir dans la variable 'labels_tags'\n",
    "2. lister les valeurs les plus récurentes à appliquer en oneHot (ceux qui sont récurents à plus de 2%)\n",
    "3. pour chaque variable :\n",
    "    1. créer un dataframe avec le oneHot de chaque valeurs qui sont indiqué dans la liste créée\n",
    "    2. l'ajouter à notre dataframe initial\n",
    "    3. supprimer la colonne de la variable utilisé"
   ]
  },
  {
   "cell_type": "code",
   "execution_count": null,
   "metadata": {
    "colab": {
     "base_uri": "https://localhost:8080/"
    },
    "id": "5zP1VmIHTL0-",
    "outputId": "de473ec4-6153-49e1-e2b2-2fc316773bf9"
   },
   "outputs": [],
   "source": [
    "# unifie tout les différents préfix sous le même préfix\n",
    "for i in df_cheese['labels_tags'].index:\n",
    "    if type(df_cheese['labels_tags'].loc[i]) == str:\n",
    "        df_cheese['labels_tags'].loc[i] = re.sub('[a-z][a-z]:', '::', df_cheese['labels_tags'].loc[i])"
   ]
  },
  {
   "cell_type": "code",
   "execution_count": null,
   "metadata": {},
   "outputs": [],
   "source": [
    "list_labels = listMainCat(df_cheese['labels_tags'], seuil=0.02, en='::')\n",
    "list_pays_vente = listMainCat(df_cheese['countries_tags'], seuil=0.02, en='en:')\n",
    "list_cat_en = listMainCat(df_cheese['categories_en'], seuil=0.02)"
   ]
  },
  {
   "cell_type": "code",
   "execution_count": null,
   "metadata": {
    "id": "uUCmWylM4_vT"
   },
   "outputs": [],
   "source": [
    "labels = multiOnehotTags(df_cheese['labels_tags'], list_labels, en='::')\n",
    "df_cheese = df_cheese.join(labels)\n",
    "df_cheese.drop('labels_tags', axis=1, inplace=True)"
   ]
  },
  {
   "cell_type": "code",
   "execution_count": null,
   "metadata": {
    "id": "3th4L0ltWqhj"
   },
   "outputs": [],
   "source": [
    "countries = multiOnehotTags(df_cheese['countries_tags'], list_pays_vente, en='en:')\n",
    "df_cheese = df_cheese.join(countries)\n",
    "df_cheese.drop('countries_tags', axis=1, inplace=True)"
   ]
  },
  {
   "cell_type": "code",
   "execution_count": null,
   "metadata": {
    "id": "CZBKOBUBMYSv"
   },
   "outputs": [],
   "source": [
    "categorie = multiOnehotTags(df_cheese['categories_en'], list_cat_en)\n",
    "df_cheese = df_cheese.join(categorie)\n",
    "df_cheese.drop('categories_en', axis=1, inplace=True)\n",
    "\n",
    "# supression des variables inutiles car elles inclues tous les individus\n",
    "df_cheese.drop(['Dairies', 'Fermented foods', 'Fermented milk products', 'Cheeses'], axis=1, inplace=True)"
   ]
  },
  {
   "cell_type": "markdown",
   "metadata": {
    "tags": []
   },
   "source": [
    "## exportation du dataset netoyé"
   ]
  },
  {
   "cell_type": "code",
   "execution_count": null,
   "metadata": {
    "id": "_ByveqOvF6qq"
   },
   "outputs": [],
   "source": [
    "df_cheese.to_csv('Data/cheese_clean.csv')"
   ]
  }
 ],
 "metadata": {
  "colab": {
   "collapsed_sections": [
    "lBausBOlTxtO",
    "fuupaVWQT5kF",
    "8O6wOgrhUGNm",
    "pxokxN9L8x-X"
   ],
   "name": "Projet 2",
   "provenance": []
  },
  "kernelspec": {
   "display_name": "Python 3",
   "language": "python",
   "name": "python3"
  },
  "language_info": {
   "codemirror_mode": {
    "name": "ipython",
    "version": 3
   },
   "file_extension": ".py",
   "mimetype": "text/x-python",
   "name": "python",
   "nbconvert_exporter": "python",
   "pygments_lexer": "ipython3",
   "version": "3.8.8"
  }
 },
 "nbformat": 4,
 "nbformat_minor": 4
}
