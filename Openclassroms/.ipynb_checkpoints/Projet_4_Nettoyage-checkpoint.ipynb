{
  "nbformat": 4,
  "nbformat_minor": 0,
  "metadata": {
    "colab": {
      "name": "Projet_4 Nettoyage.ipynb",
      "provenance": [],
      "collapsed_sections": []
    },
    "kernelspec": {
      "name": "python3",
      "display_name": "Python 3"
    },
    "language_info": {
      "name": "python"
    }
  },
  "cells": [
    {
      "cell_type": "code",
      "source": [
        "from tqdm import tqdm"
      ],
      "metadata": {
        "id": "Bha6tELY6XkR"
      },
      "execution_count": null,
      "outputs": []
    },
    {
      "cell_type": "code",
      "source": [
        "import scikit_optimize"
      ],
      "metadata": {
        "colab": {
          "base_uri": "https://localhost:8080/",
          "height": 316
        },
        "id": "To09Ai5AMlI4",
        "outputId": "98abfcee-91fa-48d4-d194-55e8e5a7ac43"
      },
      "execution_count": null,
      "outputs": [
        {
          "output_type": "error",
          "ename": "ModuleNotFoundError",
          "evalue": "ignored",
          "traceback": [
            "\u001b[0;31m---------------------------------------------------------------------------\u001b[0m",
            "\u001b[0;31mModuleNotFoundError\u001b[0m                       Traceback (most recent call last)",
            "\u001b[0;32m<ipython-input-7-03fd5826d304>\u001b[0m in \u001b[0;36m<module>\u001b[0;34m()\u001b[0m\n\u001b[0;32m----> 1\u001b[0;31m \u001b[0;32mimport\u001b[0m \u001b[0mscikit_optimize\u001b[0m\u001b[0;34m\u001b[0m\u001b[0;34m\u001b[0m\u001b[0m\n\u001b[0m",
            "\u001b[0;31mModuleNotFoundError\u001b[0m: No module named 'scikit_optimize'",
            "",
            "\u001b[0;31m---------------------------------------------------------------------------\u001b[0;32m\nNOTE: If your import is failing due to a missing package, you can\nmanually install dependencies using either !pip or !apt.\n\nTo view examples of installing some common dependencies, click the\n\"Open Examples\" button below.\n\u001b[0;31m---------------------------------------------------------------------------\u001b[0m\n"
          ],
          "errorDetails": {
            "actions": [
              {
                "action": "open_url",
                "actionText": "Open Examples",
                "url": "/notebooks/snippets/importing_libraries.ipynb"
              }
            ]
          }
        }
      ]
    },
    {
      "cell_type": "code",
      "execution_count": null,
      "metadata": {
        "id": "dwmW4WjYH4CO"
      },
      "outputs": [],
      "source": [
        "import numpy as np\n",
        "import scipy\n",
        "import pandas as pd\n",
        "import matplotlib.pyplot as plt\n",
        "import seaborn as sns\n",
        "import json\n",
        "import re\n",
        "import math"
      ]
    },
    {
      "cell_type": "code",
      "source": [
        "for i in tqdm(range(1000)):\n",
        "    pass"
      ],
      "metadata": {
        "colab": {
          "base_uri": "https://localhost:8080/"
        },
        "id": "PCO-Z8B06dLv",
        "outputId": "9be64025-7b03-4817-f598-cb3aa3363734"
      },
      "execution_count": null,
      "outputs": [
        {
          "output_type": "stream",
          "name": "stderr",
          "text": [
            "100%|██████████| 1000/1000 [00:00<00:00, 2403612.61it/s]\n"
          ]
        }
      ]
    },
    {
      "cell_type": "code",
      "source": [
        "pd.set_option('display.max_columns', 100)\n",
        "pd.set_option('display.max_rows', 100)\n",
        "pd.set_option('display.min_rows', 50)\n",
        "pd.set_option('display.max_colwidth', 100)\n",
        "pd.set_option('display.max_seq_items', 50)\n",
        "pd.set_option('display.width', 100)"
      ],
      "metadata": {
        "id": "t-YlyY2uPCTm"
      },
      "execution_count": null,
      "outputs": []
    },
    {
      "cell_type": "code",
      "source": [
        "#chargement des base de données\n",
        "df_geolocation = pd.read_csv('/content/drive/MyDrive/Data Science/Data base/olist_geolocation_dataset.csv')\n",
        "df_orders = pd.read_csv('/content/drive/MyDrive/Data Science/Data base/olist_orders_dataset.csv')\n",
        "df_order_items = pd.read_csv('/content/drive/MyDrive/Data Science/Data base/olist_order_items_dataset.csv')\n",
        "df_order_reviews = pd.read_csv('/content/drive/MyDrive/Data Science/Data base/olist_order_reviews_dataset.csv')\n",
        "df_customers = pd.read_csv('/content/drive/MyDrive/Data Science/Data base/olist_customers_dataset.csv')\n",
        "df_order_payments = pd.read_csv('/content/drive/MyDrive/Data Science/Data base/olist_order_payments_dataset.csv')\n",
        "df_products = pd.read_csv('/content/drive/MyDrive/Data Science/Data base/olist_products_dataset.csv')\n",
        "df_sellers = pd.read_csv('/content/drive/MyDrive/Data Science/Data base/olist_sellers_dataset.csv')\n",
        "df_product_category_name = pd.read_csv('/content/drive/MyDrive/Data Science/Data base/product_category_name_translation.csv')"
      ],
      "metadata": {
        "id": "yfQ4J-eGL3Fv"
      },
      "execution_count": null,
      "outputs": []
    },
    {
      "cell_type": "code",
      "source": [
        "df_orders.shape"
      ],
      "metadata": {
        "colab": {
          "base_uri": "https://localhost:8080/"
        },
        "id": "J4zExdnSFpVp",
        "outputId": "8cefc4ad-bbe0-4972-cca5-8299bbe3961d"
      },
      "execution_count": null,
      "outputs": [
        {
          "output_type": "execute_result",
          "data": {
            "text/plain": [
              "(99441, 8)"
            ]
          },
          "metadata": {},
          "execution_count": 16
        }
      ]
    },
    {
      "cell_type": "code",
      "source": [
        "# prepare customers\n",
        "df_geolocation = df_geolocation.groupby(['geolocation_zip_code_prefix']).mean()\n",
        "df_customers = df_customers.merge(df_geolocation, left_on='customer_zip_code_prefix', right_on='geolocation_zip_code_prefix')\n",
        "\n",
        "# prépare order items\n",
        "df_sellers = df_sellers.merge(df_geolocation, left_on='seller_zip_code_prefix', right_on='geolocation_zip_code_prefix', how='left')\n",
        "df_products = df_products.merge(df_product_category_name, on='product_category_name', how='left')\n",
        "df_order_items = df_order_items.merge(df_sellers, on='seller_id', how='left')\n",
        "df_order_items = df_order_items.merge(df_products, on='product_id', how='left')\n",
        "\n",
        "# prépare order\n",
        "df_orders = df_orders.merge(df_customers, on='customer_id', how='left')\n",
        "df_orders = df_orders.merge(df_order_reviews, on='order_id', how='left')\n",
        "\n",
        "# keep only last review if multiple\n",
        "df_orders = df_orders.sort_values(by='review_answer_timestamp').drop_duplicates(subset=['order_id'], keep='last')\n",
        "\n",
        "# final dataframe\n",
        "df_order_payments = df_order_payments.merge(df_order_items, on='order_id')\n",
        "df = df_order_payments.merge(df_orders, on='order_id', suffixes=('_sellers', '_customers'))"
      ],
      "metadata": {
        "id": "mmr9Prschj2q"
      },
      "execution_count": null,
      "outputs": []
    },
    {
      "cell_type": "code",
      "source": [
        "date_columns = ['shipping_limit_date', 'order_purchase_timestamp', 'order_approved_at', 'order_delivered_carrier_date', 'order_delivered_customer_date', 'order_estimated_delivery_date', 'review_creation_date', 'review_answer_timestamp']\n",
        "for col in date_columns:\n",
        "    df[col] = pd.to_datetime(df[col], format='%Y-%m-%d %H:%M:%S')"
      ],
      "metadata": {
        "id": "SZjUtiOLunQS"
      },
      "execution_count": null,
      "outputs": []
    },
    {
      "cell_type": "code",
      "source": [
        "df['customer_city'] = df['customer_city'].str.title()\n",
        "df['seller_city'] = df['seller_city'].str.title()\n",
        "df['order_status'] = df['order_status'].str.title()\n",
        "df['product_category_name'] = df['product_category_name'].str.replace('_', ' ').str.title()\n",
        "df['product_category_name_english'] = df['product_category_name_english'].str.replace('_', ' ').str.title()\n",
        "df['payment_type'] = df['payment_type'].str.replace('_', ' ').str.title()\n",
        "# engineering new/essential columns\n",
        "df['delivery_against_estimated'] = (df['order_estimated_delivery_date'] - df['order_delivered_customer_date']).dt.days\n",
        "df['order_purchase_year'] = df.order_purchase_timestamp.apply(lambda x: x.year)\n",
        "df['order_purchase_month'] = df.order_purchase_timestamp.apply(lambda x: x.month)\n",
        "df['order_purchase_dayofweek'] = df.order_purchase_timestamp.apply(lambda x: x.dayofweek)\n",
        "df['order_purchase_hour'] = df.order_purchase_timestamp.apply(lambda x: x.hour)\n",
        "df['order_purchase_day'] = df['order_purchase_dayofweek'].map({0:'Mon',1:'Tue',2:'Wed',3:'Thu',4:'Fri',5:'Sat',6:'Sun'})\n",
        "df['order_purchase_mon'] = df.order_purchase_timestamp.apply(lambda x: x.month).map({1:'Jan',2:'Feb',3:'Mar',4:'Apr',5:'May',6:'Jun',7:'Jul',8:'Aug',9:'Sep',10:'Oct',11:'Nov',12:'Dec'})\n",
        "# Changing the month attribute for correct ordenation\n",
        "df['month_year'] = df['order_purchase_month'].astype(str).apply(lambda x: '0' + x if len(x) == 1 else x)\n",
        "df['month_year'] = df['order_purchase_year'].astype(str) + '-' + df['month_year'].astype(str)\n",
        "#creating year month column\n",
        "df['month_y'] = df['order_purchase_timestamp'].map(lambda date: 100*date.year + date.month)"
      ],
      "metadata": {
        "id": "V0FyFqa1vCSK"
      },
      "execution_count": null,
      "outputs": []
    },
    {
      "cell_type": "code",
      "source": [
        "df.drop(['review_comment_title', 'review_comment_message'], axis=1, inplace=True)"
      ],
      "metadata": {
        "id": "ql4KQfQ8SgzH"
      },
      "execution_count": null,
      "outputs": []
    },
    {
      "cell_type": "code",
      "source": [
        "df.shape"
      ],
      "metadata": {
        "colab": {
          "base_uri": "https://localhost:8080/"
        },
        "id": "jLIrAjTZSoHs",
        "outputId": "05e36db4-c115-422b-fa2f-7360398bcf4b"
      },
      "execution_count": null,
      "outputs": [
        {
          "output_type": "execute_result",
          "data": {
            "text/plain": [
              "(117601, 51)"
            ]
          },
          "metadata": {},
          "execution_count": 25
        }
      ]
    },
    {
      "cell_type": "code",
      "source": [
        "df.dropna().shape"
      ],
      "metadata": {
        "colab": {
          "base_uri": "https://localhost:8080/"
        },
        "id": "uN_ervwaSVLH",
        "outputId": "d47208fd-a556-467d-c181-2cdc7c376eb3"
      },
      "execution_count": null,
      "outputs": [
        {
          "output_type": "execute_result",
          "data": {
            "text/plain": [
              "(111994, 51)"
            ]
          },
          "metadata": {},
          "execution_count": 27
        }
      ]
    },
    {
      "cell_type": "code",
      "source": [
        "df['product_category_name_english'].fillna('unknown', inplace=True)"
      ],
      "metadata": {
        "id": "leHKo_jIRWDi"
      },
      "execution_count": null,
      "outputs": []
    },
    {
      "cell_type": "code",
      "source": [
        "df.dropna(inplace=True)"
      ],
      "metadata": {
        "id": "OsB0BQqXSxA-"
      },
      "execution_count": null,
      "outputs": []
    },
    {
      "cell_type": "code",
      "source": [
        "df.groupby('month_year').sum()['payment_value'].sort_index().plot()"
      ],
      "metadata": {
        "colab": {
          "base_uri": "https://localhost:8080/",
          "height": 309
        },
        "id": "pxrM3V6qwau0",
        "outputId": "6da08183-4fc9-43a7-bc9a-9bcf948aa5fc"
      },
      "execution_count": null,
      "outputs": [
        {
          "output_type": "execute_result",
          "data": {
            "text/plain": [
              "<matplotlib.axes._subplots.AxesSubplot at 0x7f190d4b51d0>"
            ]
          },
          "metadata": {},
          "execution_count": 17
        },
        {
          "output_type": "display_data",
          "data": {
            "image/png": "[encoded data removed]",
            "text/plain": [
              "<Figure size 432x288 with 1 Axes>"
            ]
          },
          "metadata": {
            "needs_background": "light"
          }
        }
      ]
    },
    {
      "cell_type": "code",
      "source": [
        "df.head()"
      ],
      "metadata": {
        "colab": {
          "base_uri": "https://localhost:8080/",
          "height": 270
        },
        "id": "WR0fnw9lSuBO",
        "outputId": "a1912ff8-896c-444d-c5a5-ba7a06db2f1b"
      },
      "execution_count": null,
      "outputs": [
        {
          "output_type": "execute_result",
          "data": {
            "text/html": [
              "\n",
              "  <div id=\"df-ce5b2fee-aef3-4336-89a4-b81e38e6fed8\">\n",
              "    <div class=\"colab-df-container\">\n",
              "      <div>\n",
              "<style scoped>\n",
              "    .dataframe tbody tr th:only-of-type {\n",
              "        vertical-align: middle;\n",
              "    }\n",
              "\n",
              "    .dataframe tbody tr th {\n",
              "        vertical-align: top;\n",
              "    }\n",
              "\n",
              "    .dataframe thead th {\n",
              "        text-align: right;\n",
              "    }\n",
              "</style>\n",
              "<table border=\"1\" class=\"dataframe\">\n",
              "  <thead>\n",
              "    <tr style=\"text-align: right;\">\n",
              "      <th></th>\n",
              "      <th>order_id</th>\n",
              "      <th>payment_sequential</th>\n",
              "      <th>payment_type</th>\n",
              "      <th>payment_installments</th>\n",
              "      <th>payment_value</th>\n",
              "      <th>order_item_id</th>\n",
              "      <th>product_id</th>\n",
              "      <th>seller_id</th>\n",
              "      <th>shipping_limit_date</th>\n",
              "      <th>price</th>\n",
              "      <th>freight_value</th>\n",
              "      <th>seller_zip_code_prefix</th>\n",
              "      <th>seller_city</th>\n",
              "      <th>seller_state</th>\n",
              "      <th>geolocation_lat_sellers</th>\n",
              "      <th>geolocation_lng_sellers</th>\n",
              "      <th>product_category_name</th>\n",
              "      <th>product_name_lenght</th>\n",
              "      <th>product_description_lenght</th>\n",
              "      <th>product_photos_qty</th>\n",
              "      <th>product_weight_g</th>\n",
              "      <th>product_length_cm</th>\n",
              "      <th>product_height_cm</th>\n",
              "      <th>product_width_cm</th>\n",
              "      <th>product_category_name_english</th>\n",
              "      <th>customer_id</th>\n",
              "      <th>order_status</th>\n",
              "      <th>order_purchase_timestamp</th>\n",
              "      <th>order_approved_at</th>\n",
              "      <th>order_delivered_carrier_date</th>\n",
              "      <th>order_delivered_customer_date</th>\n",
              "      <th>order_estimated_delivery_date</th>\n",
              "      <th>customer_unique_id</th>\n",
              "      <th>customer_zip_code_prefix</th>\n",
              "      <th>customer_city</th>\n",
              "      <th>customer_state</th>\n",
              "      <th>geolocation_lat_customers</th>\n",
              "      <th>geolocation_lng_customers</th>\n",
              "      <th>review_id</th>\n",
              "      <th>review_score</th>\n",
              "      <th>review_creation_date</th>\n",
              "      <th>review_answer_timestamp</th>\n",
              "      <th>delivery_against_estimated</th>\n",
              "      <th>order_purchase_year</th>\n",
              "      <th>order_purchase_month</th>\n",
              "      <th>order_purchase_dayofweek</th>\n",
              "      <th>order_purchase_hour</th>\n",
              "      <th>order_purchase_day</th>\n",
              "      <th>order_purchase_mon</th>\n",
              "      <th>month_year</th>\n",
              "      <th>month_y</th>\n",
              "    </tr>\n",
              "  </thead>\n",
              "  <tbody>\n",
              "    <tr>\n",
              "      <th>0</th>\n",
              "      <td>b81ef226f3fe1789b1e8b2acac839d17</td>\n",
              "      <td>1</td>\n",
              "      <td>Credit Card</td>\n",
              "      <td>8</td>\n",
              "      <td>99.33</td>\n",
              "      <td>1</td>\n",
              "      <td>af74cc53dcffc8384b29e7abfa41902b</td>\n",
              "      <td>213b25e6f54661939f11710a6fddb871</td>\n",
              "      <td>2018-05-02 22:15:09</td>\n",
              "      <td>79.80</td>\n",
              "      <td>19.53</td>\n",
              "      <td>13321</td>\n",
              "      <td>Salto</td>\n",
              "      <td>SP</td>\n",
              "      <td>-23.191965</td>\n",
              "      <td>-47.290258</td>\n",
              "      <td>Casa Construcao</td>\n",
              "      <td>57.0</td>\n",
              "      <td>921.0</td>\n",
              "      <td>8.0</td>\n",
              "      <td>800.0</td>\n",
              "      <td>17.0</td>\n",
              "      <td>27.0</td>\n",
              "      <td>17.0</td>\n",
              "      <td>home_construction</td>\n",
              "      <td>0a8556ac6be836b46b3e89920d59291c</td>\n",
              "      <td>delivered</td>\n",
              "      <td>2018-04-25 22:01:49</td>\n",
              "      <td>2018-04-25 22:15:09</td>\n",
              "      <td>2018-05-02 15:20:00</td>\n",
              "      <td>2018-05-09 17:36:51</td>\n",
              "      <td>2018-05-22</td>\n",
              "      <td>708ab75d2a007f0564aedd11139c7708</td>\n",
              "      <td>39801.0</td>\n",
              "      <td>Teofilo Otoni</td>\n",
              "      <td>MG</td>\n",
              "      <td>-17.858065</td>\n",
              "      <td>-41.495279</td>\n",
              "      <td>4ce650e117a5b292bf5ea980a61eb61e</td>\n",
              "      <td>1.0</td>\n",
              "      <td>2018-05-10</td>\n",
              "      <td>2018-05-15 23:38:00</td>\n",
              "      <td>12.0</td>\n",
              "      <td>2018</td>\n",
              "      <td>4</td>\n",
              "      <td>2</td>\n",
              "      <td>22</td>\n",
              "      <td>Wed</td>\n",
              "      <td>Apr</td>\n",
              "      <td>2018-04</td>\n",
              "      <td>201804</td>\n",
              "    </tr>\n",
              "    <tr>\n",
              "      <th>1</th>\n",
              "      <td>a9810da82917af2d9aefd1278f1dcfa0</td>\n",
              "      <td>1</td>\n",
              "      <td>Credit Card</td>\n",
              "      <td>1</td>\n",
              "      <td>24.39</td>\n",
              "      <td>1</td>\n",
              "      <td>a630cc320a8c872f9de830cf121661a3</td>\n",
              "      <td>eaf6d55068dea77334e8477d3878d89e</td>\n",
              "      <td>2018-07-02 11:18:58</td>\n",
              "      <td>17.00</td>\n",
              "      <td>7.39</td>\n",
              "      <td>4660</td>\n",
              "      <td>Sao Paulo</td>\n",
              "      <td>SP</td>\n",
              "      <td>-23.665059</td>\n",
              "      <td>-46.679519</td>\n",
              "      <td>Automotivo</td>\n",
              "      <td>59.0</td>\n",
              "      <td>1274.0</td>\n",
              "      <td>2.0</td>\n",
              "      <td>150.0</td>\n",
              "      <td>16.0</td>\n",
              "      <td>6.0</td>\n",
              "      <td>11.0</td>\n",
              "      <td>auto</td>\n",
              "      <td>f2c7fc58a9de810828715166c672f10a</td>\n",
              "      <td>delivered</td>\n",
              "      <td>2018-06-26 11:01:38</td>\n",
              "      <td>2018-06-26 11:18:58</td>\n",
              "      <td>2018-06-28 14:18:00</td>\n",
              "      <td>2018-06-29 20:32:09</td>\n",
              "      <td>2018-07-16</td>\n",
              "      <td>a8b9d3a27068454b1c98cc67d4e31e6f</td>\n",
              "      <td>2422.0</td>\n",
              "      <td>Sao Paulo</td>\n",
              "      <td>SP</td>\n",
              "      <td>-23.471749</td>\n",
              "      <td>-46.636773</td>\n",
              "      <td>ad2036caca61484fc435d7e673c020f2</td>\n",
              "      <td>5.0</td>\n",
              "      <td>2018-06-30</td>\n",
              "      <td>2018-07-03 11:23:16</td>\n",
              "      <td>16.0</td>\n",
              "      <td>2018</td>\n",
              "      <td>6</td>\n",
              "      <td>1</td>\n",
              "      <td>11</td>\n",
              "      <td>Tue</td>\n",
              "      <td>Jun</td>\n",
              "      <td>2018-06</td>\n",
              "      <td>201806</td>\n",
              "    </tr>\n",
              "    <tr>\n",
              "      <th>2</th>\n",
              "      <td>25e8ea4e93396b6fa0d3dd708e76c1bd</td>\n",
              "      <td>1</td>\n",
              "      <td>Credit Card</td>\n",
              "      <td>1</td>\n",
              "      <td>65.71</td>\n",
              "      <td>1</td>\n",
              "      <td>2028bf1b01cafb2d2b1901fca4083222</td>\n",
              "      <td>cc419e0650a3c5ba77189a1882b7556a</td>\n",
              "      <td>2017-12-26 09:52:34</td>\n",
              "      <td>56.99</td>\n",
              "      <td>8.72</td>\n",
              "      <td>9015</td>\n",
              "      <td>Santo Andre</td>\n",
              "      <td>SP</td>\n",
              "      <td>-23.659364</td>\n",
              "      <td>-46.523183</td>\n",
              "      <td>Perfumaria</td>\n",
              "      <td>54.0</td>\n",
              "      <td>1536.0</td>\n",
              "      <td>2.0</td>\n",
              "      <td>250.0</td>\n",
              "      <td>20.0</td>\n",
              "      <td>8.0</td>\n",
              "      <td>21.0</td>\n",
              "      <td>perfumery</td>\n",
              "      <td>25b14b69de0b6e184ae6fe2755e478f9</td>\n",
              "      <td>delivered</td>\n",
              "      <td>2017-12-12 11:19:55</td>\n",
              "      <td>2017-12-14 09:52:34</td>\n",
              "      <td>2017-12-15 20:13:22</td>\n",
              "      <td>2017-12-18 17:24:41</td>\n",
              "      <td>2018-01-04</td>\n",
              "      <td>6f70c0b2f7552832ba46eb57b1c5651e</td>\n",
              "      <td>2652.0</td>\n",
              "      <td>Sao Paulo</td>\n",
              "      <td>SP</td>\n",
              "      <td>-23.457636</td>\n",
              "      <td>-46.656681</td>\n",
              "      <td>bcddfa0f7d2e54cfc74bae4f01b84d92</td>\n",
              "      <td>5.0</td>\n",
              "      <td>2017-12-19</td>\n",
              "      <td>2017-12-22 17:55:30</td>\n",
              "      <td>16.0</td>\n",
              "      <td>2017</td>\n",
              "      <td>12</td>\n",
              "      <td>1</td>\n",
              "      <td>11</td>\n",
              "      <td>Tue</td>\n",
              "      <td>Dec</td>\n",
              "      <td>2017-12</td>\n",
              "      <td>201712</td>\n",
              "    </tr>\n",
              "    <tr>\n",
              "      <th>3</th>\n",
              "      <td>ba78997921bbcdc1373bb41e913ab953</td>\n",
              "      <td>1</td>\n",
              "      <td>Credit Card</td>\n",
              "      <td>8</td>\n",
              "      <td>107.78</td>\n",
              "      <td>1</td>\n",
              "      <td>548e5bfe28edceab6b51fa707cc9556f</td>\n",
              "      <td>da8622b14eb17ae2831f4ac5b9dab84a</td>\n",
              "      <td>2017-12-12 12:13:20</td>\n",
              "      <td>89.90</td>\n",
              "      <td>17.88</td>\n",
              "      <td>13405</td>\n",
              "      <td>Piracicaba</td>\n",
              "      <td>SP</td>\n",
              "      <td>-22.708702</td>\n",
              "      <td>-47.664701</td>\n",
              "      <td>Cama Mesa Banho</td>\n",
              "      <td>60.0</td>\n",
              "      <td>188.0</td>\n",
              "      <td>1.0</td>\n",
              "      <td>1200.0</td>\n",
              "      <td>44.0</td>\n",
              "      <td>2.0</td>\n",
              "      <td>35.0</td>\n",
              "      <td>bed_bath_table</td>\n",
              "      <td>7a5d8efaaa1081f800628c30d2b0728f</td>\n",
              "      <td>delivered</td>\n",
              "      <td>2017-12-06 12:04:06</td>\n",
              "      <td>2017-12-06 12:13:20</td>\n",
              "      <td>2017-12-07 20:28:28</td>\n",
              "      <td>2017-12-21 01:35:51</td>\n",
              "      <td>2018-01-04</td>\n",
              "      <td>87695ed086ebd36f20404c82d20fca87</td>\n",
              "      <td>36060.0</td>\n",
              "      <td>Juiz De Fora</td>\n",
              "      <td>MG</td>\n",
              "      <td>-21.741553</td>\n",
              "      <td>-43.335326</td>\n",
              "      <td>5bc7680443b4ef765fec11a8201eeb0c</td>\n",
              "      <td>5.0</td>\n",
              "      <td>2017-12-21</td>\n",
              "      <td>2017-12-22 01:10:39</td>\n",
              "      <td>13.0</td>\n",
              "      <td>2017</td>\n",
              "      <td>12</td>\n",
              "      <td>2</td>\n",
              "      <td>12</td>\n",
              "      <td>Wed</td>\n",
              "      <td>Dec</td>\n",
              "      <td>2017-12</td>\n",
              "      <td>201712</td>\n",
              "    </tr>\n",
              "    <tr>\n",
              "      <th>4</th>\n",
              "      <td>42fdf880ba16b47b59251dd489d4441a</td>\n",
              "      <td>1</td>\n",
              "      <td>Credit Card</td>\n",
              "      <td>2</td>\n",
              "      <td>128.45</td>\n",
              "      <td>1</td>\n",
              "      <td>386486367c1f9d4f587a8864ccb6902b</td>\n",
              "      <td>cca3071e3e9bb7d12640c9fbe2301306</td>\n",
              "      <td>2018-05-31 16:14:41</td>\n",
              "      <td>113.57</td>\n",
              "      <td>14.88</td>\n",
              "      <td>14940</td>\n",
              "      <td>Ibitinga</td>\n",
              "      <td>SP</td>\n",
              "      <td>-21.757321</td>\n",
              "      <td>-48.829744</td>\n",
              "      <td>Cama Mesa Banho</td>\n",
              "      <td>54.0</td>\n",
              "      <td>120.0</td>\n",
              "      <td>1.0</td>\n",
              "      <td>835.0</td>\n",
              "      <td>40.0</td>\n",
              "      <td>9.0</td>\n",
              "      <td>33.0</td>\n",
              "      <td>bed_bath_table</td>\n",
              "      <td>15fd6fb8f8312dbb4674e4518d6fa3b3</td>\n",
              "      <td>delivered</td>\n",
              "      <td>2018-05-21 13:59:17</td>\n",
              "      <td>2018-05-21 16:14:41</td>\n",
              "      <td>2018-05-22 11:46:00</td>\n",
              "      <td>2018-06-01 21:44:53</td>\n",
              "      <td>2018-06-13</td>\n",
              "      <td>4291db0da71914754618cd789aebcd56</td>\n",
              "      <td>18570.0</td>\n",
              "      <td>Conchas</td>\n",
              "      <td>SP</td>\n",
              "      <td>-23.019107</td>\n",
              "      <td>-48.010925</td>\n",
              "      <td>d4f36356231f2e8a28c0209df9181c29</td>\n",
              "      <td>5.0</td>\n",
              "      <td>2018-06-02</td>\n",
              "      <td>2018-06-05 15:19:55</td>\n",
              "      <td>11.0</td>\n",
              "      <td>2018</td>\n",
              "      <td>5</td>\n",
              "      <td>0</td>\n",
              "      <td>13</td>\n",
              "      <td>Mon</td>\n",
              "      <td>May</td>\n",
              "      <td>2018-05</td>\n",
              "      <td>201805</td>\n",
              "    </tr>\n",
              "  </tbody>\n",
              "</table>\n",
              "</div>\n",
              "      <button class=\"colab-df-convert\" onclick=\"convertToInteractive('df-ce5b2fee-aef3-4336-89a4-b81e38e6fed8')\"\n",
              "              title=\"Convert this dataframe to an interactive table.\"\n",
              "              style=\"display:none;\">\n",
              "        \n",
              "  <svg xmlns=\"http://www.w3.org/2000/svg\" height=\"24px\"viewBox=\"0 0 24 24\"\n",
              "       width=\"24px\">\n",
              "    <path d=\"M0 0h24v24H0V0z\" fill=\"none\"/>\n",
              "    <path d=\"M18.56 5.44l.94 2.06.94-2.06 2.06-.94-2.06-.94-.94-2.06-.94 2.06-2.06.94zm-11 1L8.5 8.5l.94-2.06 2.06-.94-2.06-.94L8.5 2.5l-.94 2.06-2.06.94zm10 10l.94 2.06.94-2.06 2.06-.94-2.06-.94-.94-2.06-.94 2.06-2.06.94z\"/><path d=\"M17.41 7.96l-1.37-1.37c-.4-.4-.92-.59-1.43-.59-.52 0-1.04.2-1.43.59L10.3 9.45l-7.72 7.72c-.78.78-.78 2.05 0 2.83L4 21.41c.39.39.9.59 1.41.59.51 0 1.02-.2 1.41-.59l7.78-7.78 2.81-2.81c.8-.78.8-2.07 0-2.86zM5.41 20L4 18.59l7.72-7.72 1.47 1.35L5.41 20z\"/>\n",
              "  </svg>\n",
              "      </button>\n",
              "      \n",
              "  <style>\n",
              "    .colab-df-container {\n",
              "      display:flex;\n",
              "      flex-wrap:wrap;\n",
              "      gap: 12px;\n",
              "    }\n",
              "\n",
              "    .colab-df-convert {\n",
              "      background-color: #E8F0FE;\n",
              "      border: none;\n",
              "      border-radius: 50%;\n",
              "      cursor: pointer;\n",
              "      display: none;\n",
              "      fill: #1967D2;\n",
              "      height: 32px;\n",
              "      padding: 0 0 0 0;\n",
              "      width: 32px;\n",
              "    }\n",
              "\n",
              "    .colab-df-convert:hover {\n",
              "      background-color: #E2EBFA;\n",
              "      box-shadow: 0px 1px 2px rgba(60, 64, 67, 0.3), 0px 1px 3px 1px rgba(60, 64, 67, 0.15);\n",
              "      fill: #174EA6;\n",
              "    }\n",
              "\n",
              "    [theme=dark] .colab-df-convert {\n",
              "      background-color: #3B4455;\n",
              "      fill: #D2E3FC;\n",
              "    }\n",
              "\n",
              "    [theme=dark] .colab-df-convert:hover {\n",
              "      background-color: #434B5C;\n",
              "      box-shadow: 0px 1px 3px 1px rgba(0, 0, 0, 0.15);\n",
              "      filter: drop-shadow(0px 1px 2px rgba(0, 0, 0, 0.3));\n",
              "      fill: #FFFFFF;\n",
              "    }\n",
              "  </style>\n",
              "\n",
              "      <script>\n",
              "        const buttonEl =\n",
              "          document.querySelector('#df-ce5b2fee-aef3-4336-89a4-b81e38e6fed8 button.colab-df-convert');\n",
              "        buttonEl.style.display =\n",
              "          google.colab.kernel.accessAllowed ? 'block' : 'none';\n",
              "\n",
              "        async function convertToInteractive(key) {\n",
              "          const element = document.querySelector('#df-ce5b2fee-aef3-4336-89a4-b81e38e6fed8');\n",
              "          const dataTable =\n",
              "            await google.colab.kernel.invokeFunction('convertToInteractive',\n",
              "                                                     [key], {});\n",
              "          if (!dataTable) return;\n",
              "\n",
              "          const docLinkHtml = 'Like what you see? Visit the ' +\n",
              "            '<a target=\"_blank\" href=https://colab.research.google.com/notebooks/data_table.ipynb>data table notebook</a>'\n",
              "            + ' to learn more about interactive tables.';\n",
              "          element.innerHTML = '';\n",
              "          dataTable['output_type'] = 'display_data';\n",
              "          await google.colab.output.renderOutput(dataTable, element);\n",
              "          const docLink = document.createElement('div');\n",
              "          docLink.innerHTML = docLinkHtml;\n",
              "          element.appendChild(docLink);\n",
              "        }\n",
              "      </script>\n",
              "    </div>\n",
              "  </div>\n",
              "  "
            ],
            "text/plain": [
              "                           order_id  payment_sequential payment_type  payment_installments  \\\n",
              "0  b81ef226f3fe1789b1e8b2acac839d17                   1  Credit Card                     8   \n",
              "1  a9810da82917af2d9aefd1278f1dcfa0                   1  Credit Card                     1   \n",
              "2  25e8ea4e93396b6fa0d3dd708e76c1bd                   1  Credit Card                     1   \n",
              "3  ba78997921bbcdc1373bb41e913ab953                   1  Credit Card                     8   \n",
              "4  42fdf880ba16b47b59251dd489d4441a                   1  Credit Card                     2   \n",
              "\n",
              "   payment_value  order_item_id                        product_id  \\\n",
              "0          99.33              1  af74cc53dcffc8384b29e7abfa41902b   \n",
              "1          24.39              1  a630cc320a8c872f9de830cf121661a3   \n",
              "2          65.71              1  2028bf1b01cafb2d2b1901fca4083222   \n",
              "3         107.78              1  548e5bfe28edceab6b51fa707cc9556f   \n",
              "4         128.45              1  386486367c1f9d4f587a8864ccb6902b   \n",
              "\n",
              "                          seller_id shipping_limit_date   price  freight_value  \\\n",
              "0  213b25e6f54661939f11710a6fddb871 2018-05-02 22:15:09   79.80          19.53   \n",
              "1  eaf6d55068dea77334e8477d3878d89e 2018-07-02 11:18:58   17.00           7.39   \n",
              "2  cc419e0650a3c5ba77189a1882b7556a 2017-12-26 09:52:34   56.99           8.72   \n",
              "3  da8622b14eb17ae2831f4ac5b9dab84a 2017-12-12 12:13:20   89.90          17.88   \n",
              "4  cca3071e3e9bb7d12640c9fbe2301306 2018-05-31 16:14:41  113.57          14.88   \n",
              "\n",
              "   seller_zip_code_prefix  seller_city seller_state  geolocation_lat_sellers  \\\n",
              "0                   13321        Salto           SP               -23.191965   \n",
              "1                    4660    Sao Paulo           SP               -23.665059   \n",
              "2                    9015  Santo Andre           SP               -23.659364   \n",
              "3                   13405   Piracicaba           SP               -22.708702   \n",
              "4                   14940     Ibitinga           SP               -21.757321   \n",
              "\n",
              "   geolocation_lng_sellers product_category_name  product_name_lenght  product_description_lenght  \\\n",
              "0               -47.290258       Casa Construcao                 57.0                       921.0   \n",
              "1               -46.679519            Automotivo                 59.0                      1274.0   \n",
              "2               -46.523183            Perfumaria                 54.0                      1536.0   \n",
              "3               -47.664701       Cama Mesa Banho                 60.0                       188.0   \n",
              "4               -48.829744       Cama Mesa Banho                 54.0                       120.0   \n",
              "\n",
              "   product_photos_qty  product_weight_g  product_length_cm  product_height_cm  product_width_cm  \\\n",
              "0                 8.0             800.0               17.0               27.0              17.0   \n",
              "1                 2.0             150.0               16.0                6.0              11.0   \n",
              "2                 2.0             250.0               20.0                8.0              21.0   \n",
              "3                 1.0            1200.0               44.0                2.0              35.0   \n",
              "4                 1.0             835.0               40.0                9.0              33.0   \n",
              "\n",
              "  product_category_name_english                       customer_id order_status  \\\n",
              "0             home_construction  0a8556ac6be836b46b3e89920d59291c    delivered   \n",
              "1                          auto  f2c7fc58a9de810828715166c672f10a    delivered   \n",
              "2                     perfumery  25b14b69de0b6e184ae6fe2755e478f9    delivered   \n",
              "3                bed_bath_table  7a5d8efaaa1081f800628c30d2b0728f    delivered   \n",
              "4                bed_bath_table  15fd6fb8f8312dbb4674e4518d6fa3b3    delivered   \n",
              "\n",
              "  order_purchase_timestamp   order_approved_at order_delivered_carrier_date  \\\n",
              "0      2018-04-25 22:01:49 2018-04-25 22:15:09          2018-05-02 15:20:00   \n",
              "1      2018-06-26 11:01:38 2018-06-26 11:18:58          2018-06-28 14:18:00   \n",
              "2      2017-12-12 11:19:55 2017-12-14 09:52:34          2017-12-15 20:13:22   \n",
              "3      2017-12-06 12:04:06 2017-12-06 12:13:20          2017-12-07 20:28:28   \n",
              "4      2018-05-21 13:59:17 2018-05-21 16:14:41          2018-05-22 11:46:00   \n",
              "\n",
              "  order_delivered_customer_date order_estimated_delivery_date                customer_unique_id  \\\n",
              "0           2018-05-09 17:36:51                    2018-05-22  708ab75d2a007f0564aedd11139c7708   \n",
              "1           2018-06-29 20:32:09                    2018-07-16  a8b9d3a27068454b1c98cc67d4e31e6f   \n",
              "2           2017-12-18 17:24:41                    2018-01-04  6f70c0b2f7552832ba46eb57b1c5651e   \n",
              "3           2017-12-21 01:35:51                    2018-01-04  87695ed086ebd36f20404c82d20fca87   \n",
              "4           2018-06-01 21:44:53                    2018-06-13  4291db0da71914754618cd789aebcd56   \n",
              "\n",
              "   customer_zip_code_prefix  customer_city customer_state  geolocation_lat_customers  \\\n",
              "0                   39801.0  Teofilo Otoni             MG                 -17.858065   \n",
              "1                    2422.0      Sao Paulo             SP                 -23.471749   \n",
              "2                    2652.0      Sao Paulo             SP                 -23.457636   \n",
              "3                   36060.0   Juiz De Fora             MG                 -21.741553   \n",
              "4                   18570.0        Conchas             SP                 -23.019107   \n",
              "\n",
              "   geolocation_lng_customers                         review_id  review_score review_creation_date  \\\n",
              "0                 -41.495279  4ce650e117a5b292bf5ea980a61eb61e           1.0           2018-05-10   \n",
              "1                 -46.636773  ad2036caca61484fc435d7e673c020f2           5.0           2018-06-30   \n",
              "2                 -46.656681  bcddfa0f7d2e54cfc74bae4f01b84d92           5.0           2017-12-19   \n",
              "3                 -43.335326  5bc7680443b4ef765fec11a8201eeb0c           5.0           2017-12-21   \n",
              "4                 -48.010925  d4f36356231f2e8a28c0209df9181c29           5.0           2018-06-02   \n",
              "\n",
              "  review_answer_timestamp  delivery_against_estimated  order_purchase_year  order_purchase_month  \\\n",
              "0     2018-05-15 23:38:00                        12.0                 2018                     4   \n",
              "1     2018-07-03 11:23:16                        16.0                 2018                     6   \n",
              "2     2017-12-22 17:55:30                        16.0                 2017                    12   \n",
              "3     2017-12-22 01:10:39                        13.0                 2017                    12   \n",
              "4     2018-06-05 15:19:55                        11.0                 2018                     5   \n",
              "\n",
              "   order_purchase_dayofweek  order_purchase_hour order_purchase_day order_purchase_mon month_year  \\\n",
              "0                         2                   22                Wed                Apr    2018-04   \n",
              "1                         1                   11                Tue                Jun    2018-06   \n",
              "2                         1                   11                Tue                Dec    2017-12   \n",
              "3                         2                   12                Wed                Dec    2017-12   \n",
              "4                         0                   13                Mon                May    2018-05   \n",
              "\n",
              "   month_y  \n",
              "0   201804  \n",
              "1   201806  \n",
              "2   201712  \n",
              "3   201712  \n",
              "4   201805  "
            ]
          },
          "metadata": {},
          "execution_count": 29
        }
      ]
    }
  ]
}